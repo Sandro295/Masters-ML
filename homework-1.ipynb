{
  "cells": [
    {
      "cell_type": "markdown",
      "id": "040e0595",
      "metadata": {
        "id": "040e0595"
      },
      "source": [
        "# Предсказание времени исправления багов в gcc"
      ]
    },
    {
      "cell_type": "markdown",
      "id": "7e620861",
      "metadata": {
        "id": "7e620861"
      },
      "source": [
        "Задача состоит в предсказании времени, необходимого на исправление багов, на основе описания бага.\n",
        "\n",
        "Набор данных содержит многолетние логи."
      ]
    },
    {
      "cell_type": "markdown",
      "id": "5f9b6970",
      "metadata": {
        "id": "5f9b6970"
      },
      "source": [
        "### Импорт нужных модулей"
      ]
    },
    {
      "cell_type": "code",
      "execution_count": 8,
      "id": "28c94637",
      "metadata": {
        "colab": {
          "base_uri": "https://localhost:8080/"
        },
        "id": "28c94637",
        "outputId": "96ac2455-4bae-44d8-cfb8-7c58d826e1f8"
      },
      "outputs": [],
      "source": [
        "import pandas as pd\n",
        "import seaborn as sns\n",
        "import numpy as np\n",
        "import sklearn\n",
        "import category_encoders as ce  # библиотека для кодирования категориальных признаков\n",
        "import matplotlib.pyplot as plt\n",
        "%matplotlib inline"
      ]
    },
    {
      "cell_type": "markdown",
      "id": "ef56ce0f",
      "metadata": {
        "id": "ef56ce0f"
      },
      "source": [
        "### Читаем данные"
      ]
    },
    {
      "cell_type": "code",
      "execution_count": 9,
      "id": "c4a926c3",
      "metadata": {
        "colab": {
          "base_uri": "https://localhost:8080/"
        },
        "id": "c4a926c3",
        "outputId": "d4c95c54-f1cc-4300-fabb-a01b44d4f878"
      },
      "outputs": [
        {
          "data": {
            "text/plain": [
              "(10000, 19)"
            ]
          },
          "execution_count": 9,
          "metadata": {},
          "output_type": "execute_result"
        }
      ],
      "source": [
        "data_url = 'https://raw.githubusercontent.com/Sandro295/Masters-ML/main/gcc_bug_report_data.csv'\n",
        "data_raw = pd.read_csv(data_url)\n",
        "\n",
        "data_raw.shape"
      ]
    },
    {
      "cell_type": "markdown",
      "id": "adf5d8b2",
      "metadata": {
        "id": "adf5d8b2"
      },
      "source": [
        "Датасет состоит из _10 000_ записей и _19_ признаков"
      ]
    },
    {
      "cell_type": "markdown",
      "id": "f48f39dd",
      "metadata": {
        "id": "f48f39dd"
      },
      "source": [
        "Посмотрим на загруженные данные"
      ]
    },
    {
      "cell_type": "code",
      "execution_count": 10,
      "id": "496b3193",
      "metadata": {
        "colab": {
          "base_uri": "https://localhost:8080/",
          "height": 0
        },
        "id": "496b3193",
        "outputId": "39f568c2-c384-4ace-bbdb-ccaac5ff3b77"
      },
      "outputs": [
        {
          "data": {
            "text/html": [
              "<div>\n",
              "<style scoped>\n",
              "    .dataframe tbody tr th:only-of-type {\n",
              "        vertical-align: middle;\n",
              "    }\n",
              "\n",
              "    .dataframe tbody tr th {\n",
              "        vertical-align: top;\n",
              "    }\n",
              "\n",
              "    .dataframe thead th {\n",
              "        text-align: right;\n",
              "    }\n",
              "</style>\n",
              "<table border=\"1\" class=\"dataframe\">\n",
              "  <thead>\n",
              "    <tr style=\"text-align: right;\">\n",
              "      <th></th>\n",
              "      <th>bug_id</th>\n",
              "      <th>creation_date</th>\n",
              "      <th>component_name</th>\n",
              "      <th>product_name</th>\n",
              "      <th>short_description</th>\n",
              "      <th>long_description</th>\n",
              "      <th>assignee_name</th>\n",
              "      <th>reporter_name</th>\n",
              "      <th>resolution_category</th>\n",
              "      <th>resolution_code</th>\n",
              "      <th>status_category</th>\n",
              "      <th>status_code</th>\n",
              "      <th>update_date</th>\n",
              "      <th>quantity_of_votes</th>\n",
              "      <th>quantity_of_comments</th>\n",
              "      <th>resolution_date</th>\n",
              "      <th>bug_fix_time</th>\n",
              "      <th>severity_category</th>\n",
              "      <th>severity_code</th>\n",
              "    </tr>\n",
              "  </thead>\n",
              "  <tbody>\n",
              "    <tr>\n",
              "      <th>0</th>\n",
              "      <td>GCC-49282</td>\n",
              "      <td>2011-06-04</td>\n",
              "      <td>middle-end</td>\n",
              "      <td>GCC</td>\n",
              "      <td>malloc corruption in large lto1-wpa run during...</td>\n",
              "      <td>A large lto1-wpa run with 20110603 results now...</td>\n",
              "      <td>unassigned</td>\n",
              "      <td>andi-gcc</td>\n",
              "      <td>fixed</td>\n",
              "      <td>1</td>\n",
              "      <td>resolved</td>\n",
              "      <td>4</td>\n",
              "      <td>2011-10-07</td>\n",
              "      <td>0</td>\n",
              "      <td>9</td>\n",
              "      <td>2011-10-07</td>\n",
              "      <td>125</td>\n",
              "      <td>normal</td>\n",
              "      <td>2</td>\n",
              "    </tr>\n",
              "    <tr>\n",
              "      <th>1</th>\n",
              "      <td>GCC-36574</td>\n",
              "      <td>2008-06-19</td>\n",
              "      <td>middle-end</td>\n",
              "      <td>GCC</td>\n",
              "      <td>[4.4 Regression] build broken with cgraph changes</td>\n",
              "      <td>With r136888 cris-elf built (and had just 4 re...</td>\n",
              "      <td>unassigned</td>\n",
              "      <td>hp</td>\n",
              "      <td>fixed</td>\n",
              "      <td>1</td>\n",
              "      <td>resolved</td>\n",
              "      <td>4</td>\n",
              "      <td>2008-07-18</td>\n",
              "      <td>0</td>\n",
              "      <td>5</td>\n",
              "      <td>2008-07-18</td>\n",
              "      <td>29</td>\n",
              "      <td>normal</td>\n",
              "      <td>2</td>\n",
              "    </tr>\n",
              "    <tr>\n",
              "      <th>2</th>\n",
              "      <td>GCC-77269</td>\n",
              "      <td>2016-08-16</td>\n",
              "      <td>middle-end</td>\n",
              "      <td>GCC</td>\n",
              "      <td>__builtin_isinf_sign does not work for __float128</td>\n",
              "      <td>The __builtin_isinf_sign folding does\\n\\n     ...</td>\n",
              "      <td>jsm28</td>\n",
              "      <td>jsm28</td>\n",
              "      <td>fixed</td>\n",
              "      <td>1</td>\n",
              "      <td>resolved</td>\n",
              "      <td>4</td>\n",
              "      <td>2016-08-22</td>\n",
              "      <td>0</td>\n",
              "      <td>5</td>\n",
              "      <td>2016-08-22</td>\n",
              "      <td>6</td>\n",
              "      <td>normal</td>\n",
              "      <td>2</td>\n",
              "    </tr>\n",
              "    <tr>\n",
              "      <th>3</th>\n",
              "      <td>GCC-78479</td>\n",
              "      <td>2016-11-22</td>\n",
              "      <td>fortran</td>\n",
              "      <td>GCC</td>\n",
              "      <td>ICE in gfc_apply_init at fortran/expr.c:4135</td>\n",
              "      <td>With valid code down to at least 4.8 :\\n\\n\\n$ ...</td>\n",
              "      <td>kargl</td>\n",
              "      <td>gerhard.steinmetz.fortran</td>\n",
              "      <td>fixed</td>\n",
              "      <td>1</td>\n",
              "      <td>resolved</td>\n",
              "      <td>4</td>\n",
              "      <td>2016-11-22</td>\n",
              "      <td>0</td>\n",
              "      <td>6</td>\n",
              "      <td>2016-11-22</td>\n",
              "      <td>0</td>\n",
              "      <td>normal</td>\n",
              "      <td>2</td>\n",
              "    </tr>\n",
              "    <tr>\n",
              "      <th>4</th>\n",
              "      <td>GCC-632</td>\n",
              "      <td>2000-10-12</td>\n",
              "      <td>c++</td>\n",
              "      <td>GCC</td>\n",
              "      <td>Internal compiler error in `layout_decl' at st...</td>\n",
              "      <td>g++  -I/home/leila/Sources/Include -O2 -Wall -...</td>\n",
              "      <td>unassigned</td>\n",
              "      <td>lkh</td>\n",
              "      <td>fixed</td>\n",
              "      <td>1</td>\n",
              "      <td>resolved</td>\n",
              "      <td>4</td>\n",
              "      <td>2003-07-25</td>\n",
              "      <td>0</td>\n",
              "      <td>5</td>\n",
              "      <td>2001-02-04</td>\n",
              "      <td>115</td>\n",
              "      <td>normal</td>\n",
              "      <td>2</td>\n",
              "    </tr>\n",
              "  </tbody>\n",
              "</table>\n",
              "</div>"
            ],
            "text/plain": [
              "      bug_id creation_date component_name product_name  \\\n",
              "0  GCC-49282    2011-06-04     middle-end          GCC   \n",
              "1  GCC-36574    2008-06-19     middle-end          GCC   \n",
              "2  GCC-77269    2016-08-16     middle-end          GCC   \n",
              "3  GCC-78479    2016-11-22        fortran          GCC   \n",
              "4    GCC-632    2000-10-12            c++          GCC   \n",
              "\n",
              "                                   short_description  \\\n",
              "0  malloc corruption in large lto1-wpa run during...   \n",
              "1  [4.4 Regression] build broken with cgraph changes   \n",
              "2  __builtin_isinf_sign does not work for __float128   \n",
              "3       ICE in gfc_apply_init at fortran/expr.c:4135   \n",
              "4  Internal compiler error in `layout_decl' at st...   \n",
              "\n",
              "                                    long_description assignee_name  \\\n",
              "0  A large lto1-wpa run with 20110603 results now...    unassigned   \n",
              "1  With r136888 cris-elf built (and had just 4 re...    unassigned   \n",
              "2  The __builtin_isinf_sign folding does\\n\\n     ...         jsm28   \n",
              "3  With valid code down to at least 4.8 :\\n\\n\\n$ ...         kargl   \n",
              "4  g++  -I/home/leila/Sources/Include -O2 -Wall -...    unassigned   \n",
              "\n",
              "               reporter_name resolution_category  resolution_code  \\\n",
              "0                   andi-gcc               fixed                1   \n",
              "1                         hp               fixed                1   \n",
              "2                      jsm28               fixed                1   \n",
              "3  gerhard.steinmetz.fortran               fixed                1   \n",
              "4                        lkh               fixed                1   \n",
              "\n",
              "  status_category  status_code update_date  quantity_of_votes  \\\n",
              "0        resolved            4  2011-10-07                  0   \n",
              "1        resolved            4  2008-07-18                  0   \n",
              "2        resolved            4  2016-08-22                  0   \n",
              "3        resolved            4  2016-11-22                  0   \n",
              "4        resolved            4  2003-07-25                  0   \n",
              "\n",
              "   quantity_of_comments resolution_date  bug_fix_time severity_category  \\\n",
              "0                     9      2011-10-07           125            normal   \n",
              "1                     5      2008-07-18            29            normal   \n",
              "2                     5      2016-08-22             6            normal   \n",
              "3                     6      2016-11-22             0            normal   \n",
              "4                     5      2001-02-04           115            normal   \n",
              "\n",
              "   severity_code  \n",
              "0              2  \n",
              "1              2  \n",
              "2              2  \n",
              "3              2  \n",
              "4              2  "
            ]
          },
          "execution_count": 10,
          "metadata": {},
          "output_type": "execute_result"
        }
      ],
      "source": [
        "data_raw.head(5)"
      ]
    },
    {
      "cell_type": "markdown",
      "id": "66ca62eb",
      "metadata": {
        "id": "66ca62eb"
      },
      "source": [
        "Видно, что данные состоят как из числовых, так и категориальных признаков."
      ]
    },
    {
      "cell_type": "markdown",
      "id": "fce00273",
      "metadata": {
        "id": "fce00273"
      },
      "source": [
        "## Список признаков и их описания"
      ]
    },
    {
      "cell_type": "code",
      "execution_count": 11,
      "id": "efb04f74",
      "metadata": {
        "colab": {
          "base_uri": "https://localhost:8080/"
        },
        "id": "efb04f74",
        "outputId": "d4a63960-8427-40dc-c396-2a10794e9401"
      },
      "outputs": [
        {
          "data": {
            "text/plain": [
              "bug_id                  object\n",
              "creation_date           object\n",
              "component_name          object\n",
              "product_name            object\n",
              "short_description       object\n",
              "long_description        object\n",
              "assignee_name           object\n",
              "reporter_name           object\n",
              "resolution_category     object\n",
              "resolution_code          int64\n",
              "status_category         object\n",
              "status_code              int64\n",
              "update_date             object\n",
              "quantity_of_votes        int64\n",
              "quantity_of_comments     int64\n",
              "resolution_date         object\n",
              "bug_fix_time             int64\n",
              "severity_category       object\n",
              "severity_code            int64\n",
              "dtype: object"
            ]
          },
          "execution_count": 11,
          "metadata": {},
          "output_type": "execute_result"
        }
      ],
      "source": [
        "data_raw.dtypes"
      ]
    },
    {
      "cell_type": "markdown",
      "id": "367de0e3",
      "metadata": {
        "id": "367de0e3"
      },
      "source": [
        "Заранее поменяем тип у категориальных признаков (с _object_ на _category_)"
      ]
    },
    {
      "cell_type": "code",
      "execution_count": 12,
      "id": "81ee335c",
      "metadata": {
        "id": "81ee335c"
      },
      "outputs": [],
      "source": [
        "for column in data_raw.select_dtypes(['object']):\n",
        "    data_raw[column] = data_raw[column].astype('category')"
      ]
    },
    {
      "cell_type": "code",
      "execution_count": 13,
      "id": "df9ad808",
      "metadata": {
        "colab": {
          "base_uri": "https://localhost:8080/"
        },
        "id": "df9ad808",
        "outputId": "7c21c139-05bb-461b-9ead-417343f53911"
      },
      "outputs": [
        {
          "data": {
            "text/plain": [
              "bug_id                  category\n",
              "creation_date           category\n",
              "component_name          category\n",
              "product_name            category\n",
              "short_description       category\n",
              "long_description        category\n",
              "assignee_name           category\n",
              "reporter_name           category\n",
              "resolution_category     category\n",
              "resolution_code            int64\n",
              "status_category         category\n",
              "status_code                int64\n",
              "update_date             category\n",
              "quantity_of_votes          int64\n",
              "quantity_of_comments       int64\n",
              "resolution_date         category\n",
              "bug_fix_time               int64\n",
              "severity_category       category\n",
              "severity_code              int64\n",
              "dtype: object"
            ]
          },
          "execution_count": 13,
          "metadata": {},
          "output_type": "execute_result"
        }
      ],
      "source": [
        "data_raw.dtypes"
      ]
    },
    {
      "cell_type": "markdown",
      "id": "3e351fc3",
      "metadata": {
        "id": "3e351fc3"
      },
      "source": [
        "### Входные признаки"
      ]
    },
    {
      "cell_type": "markdown",
      "id": "7c5da035",
      "metadata": {
        "id": "7c5da035"
      },
      "source": [
        "####  Числовые признаки\n",
        "\n",
        "* __bug_id__ - уникальный идентификатор бага\n",
        "* __creation_date__ - дата создания тикета\n",
        "* __resolution_category__ - статус задачи\n",
        "* __status_code__ - код задачи\n",
        "* __update_date__ - дата последнего обновления тикета\n",
        "* __quantity_of_votes__ - количество голосов в тикете\n",
        "* __quantity_of_comments__ - количество комментариев\n",
        "* __resolution_date__ - дата закрытия тикета\n",
        "* __bug_fix_time__ - время исправления бага\n",
        "* __severity_category__ - уровень критичности бага\n",
        "* __severity_code__ - код уровня критичности бага"
      ]
    },
    {
      "cell_type": "markdown",
      "id": "973b97eb",
      "metadata": {
        "id": "973b97eb"
      },
      "source": [
        "####  Категориальные признаки\n",
        "\n",
        "* __component_name__ - компонент продукта с ошибкой\n",
        "* __product_name__ - продукт с ошибкой\n",
        "* __assignee_name__ - никнейм взявшего тикет\n",
        "* __reporter_name__ - никнейм ответственного за проверку"
      ]
    },
    {
      "cell_type": "markdown",
      "id": "658d074a",
      "metadata": {},
      "source": [
        "####  Текстовые признаки\n",
        "* __short_description__ - краткое описание появившейся проблемы\n",
        "* __long_description__ - подробное описание проблемы\n"
      ]
    },
    {
      "cell_type": "markdown",
      "id": "431153ed",
      "metadata": {
        "id": "431153ed"
      },
      "source": [
        "### Выходной признак"
      ]
    },
    {
      "cell_type": "markdown",
      "id": "6fba36be",
      "metadata": {
        "id": "6fba36be"
      },
      "source": [
        "* __bug_fix_time__ - время разрешения тикета"
      ]
    },
    {
      "cell_type": "markdown",
      "id": "08657ede",
      "metadata": {
        "id": "08657ede"
      },
      "source": [
        "## Чистка данных"
      ]
    },
    {
      "cell_type": "code",
      "execution_count": 14,
      "id": "b1ed9323",
      "metadata": {},
      "outputs": [
        {
          "data": {
            "text/html": [
              "<div>\n",
              "<style scoped>\n",
              "    .dataframe tbody tr th:only-of-type {\n",
              "        vertical-align: middle;\n",
              "    }\n",
              "\n",
              "    .dataframe tbody tr th {\n",
              "        vertical-align: top;\n",
              "    }\n",
              "\n",
              "    .dataframe thead th {\n",
              "        text-align: right;\n",
              "    }\n",
              "</style>\n",
              "<table border=\"1\" class=\"dataframe\">\n",
              "  <thead>\n",
              "    <tr style=\"text-align: right;\">\n",
              "      <th></th>\n",
              "      <th>resolution_code</th>\n",
              "      <th>status_code</th>\n",
              "      <th>quantity_of_votes</th>\n",
              "      <th>quantity_of_comments</th>\n",
              "      <th>bug_fix_time</th>\n",
              "      <th>severity_code</th>\n",
              "    </tr>\n",
              "  </thead>\n",
              "  <tbody>\n",
              "    <tr>\n",
              "      <th>count</th>\n",
              "      <td>10000.0</td>\n",
              "      <td>10000.000000</td>\n",
              "      <td>10000.0</td>\n",
              "      <td>10000.000000</td>\n",
              "      <td>10000.0000</td>\n",
              "      <td>10000.00000</td>\n",
              "    </tr>\n",
              "    <tr>\n",
              "      <th>mean</th>\n",
              "      <td>1.0</td>\n",
              "      <td>4.019400</td>\n",
              "      <td>0.0</td>\n",
              "      <td>8.145000</td>\n",
              "      <td>225.8268</td>\n",
              "      <td>2.22120</td>\n",
              "    </tr>\n",
              "    <tr>\n",
              "      <th>std</th>\n",
              "      <td>0.0</td>\n",
              "      <td>0.196029</td>\n",
              "      <td>0.0</td>\n",
              "      <td>6.553859</td>\n",
              "      <td>516.6366</td>\n",
              "      <td>0.79758</td>\n",
              "    </tr>\n",
              "    <tr>\n",
              "      <th>min</th>\n",
              "      <td>1.0</td>\n",
              "      <td>4.000000</td>\n",
              "      <td>0.0</td>\n",
              "      <td>1.000000</td>\n",
              "      <td>-527.0000</td>\n",
              "      <td>1.00000</td>\n",
              "    </tr>\n",
              "    <tr>\n",
              "      <th>25%</th>\n",
              "      <td>1.0</td>\n",
              "      <td>4.000000</td>\n",
              "      <td>0.0</td>\n",
              "      <td>4.000000</td>\n",
              "      <td>3.0000</td>\n",
              "      <td>2.00000</td>\n",
              "    </tr>\n",
              "    <tr>\n",
              "      <th>50%</th>\n",
              "      <td>1.0</td>\n",
              "      <td>4.000000</td>\n",
              "      <td>0.0</td>\n",
              "      <td>6.000000</td>\n",
              "      <td>27.0000</td>\n",
              "      <td>2.00000</td>\n",
              "    </tr>\n",
              "    <tr>\n",
              "      <th>75%</th>\n",
              "      <td>1.0</td>\n",
              "      <td>4.000000</td>\n",
              "      <td>0.0</td>\n",
              "      <td>10.000000</td>\n",
              "      <td>188.0000</td>\n",
              "      <td>2.00000</td>\n",
              "    </tr>\n",
              "    <tr>\n",
              "      <th>max</th>\n",
              "      <td>1.0</td>\n",
              "      <td>6.000000</td>\n",
              "      <td>0.0</td>\n",
              "      <td>124.000000</td>\n",
              "      <td>5351.0000</td>\n",
              "      <td>6.00000</td>\n",
              "    </tr>\n",
              "  </tbody>\n",
              "</table>\n",
              "</div>"
            ],
            "text/plain": [
              "       resolution_code   status_code  quantity_of_votes  quantity_of_comments  \\\n",
              "count          10000.0  10000.000000            10000.0          10000.000000   \n",
              "mean               1.0      4.019400                0.0              8.145000   \n",
              "std                0.0      0.196029                0.0              6.553859   \n",
              "min                1.0      4.000000                0.0              1.000000   \n",
              "25%                1.0      4.000000                0.0              4.000000   \n",
              "50%                1.0      4.000000                0.0              6.000000   \n",
              "75%                1.0      4.000000                0.0             10.000000   \n",
              "max                1.0      6.000000                0.0            124.000000   \n",
              "\n",
              "       bug_fix_time  severity_code  \n",
              "count    10000.0000    10000.00000  \n",
              "mean       225.8268        2.22120  \n",
              "std        516.6366        0.79758  \n",
              "min       -527.0000        1.00000  \n",
              "25%          3.0000        2.00000  \n",
              "50%         27.0000        2.00000  \n",
              "75%        188.0000        2.00000  \n",
              "max       5351.0000        6.00000  "
            ]
          },
          "execution_count": 14,
          "metadata": {},
          "output_type": "execute_result"
        }
      ],
      "source": [
        "data_raw.describe()"
      ]
    },
    {
      "cell_type": "markdown",
      "id": "78549556",
      "metadata": {
        "id": "78549556"
      },
      "source": [
        "Первым делом очистим данные. \n",
        "__xx_category__ и __xx_code__ несут одинаковую информацию.\n",
        "__product_name__ в этом датасете один. __resolution_category__ везде 1.\n",
        "__update_date__ и __resolution_date__ как правило одинаковы.\n",
        "__quantity_of_votes__ везде 0.\n"
      ]
    },
    {
      "cell_type": "code",
      "execution_count": 15,
      "id": "c1035a15",
      "metadata": {},
      "outputs": [
        {
          "data": {
            "text/plain": [
              "bug_id                   0\n",
              "creation_date            0\n",
              "component_name           0\n",
              "product_name             0\n",
              "short_description        6\n",
              "long_description        14\n",
              "assignee_name            0\n",
              "reporter_name            0\n",
              "resolution_category      0\n",
              "resolution_code          0\n",
              "status_category          0\n",
              "status_code              0\n",
              "update_date              0\n",
              "quantity_of_votes        0\n",
              "quantity_of_comments     0\n",
              "resolution_date          0\n",
              "bug_fix_time             0\n",
              "severity_category        0\n",
              "severity_code            0\n",
              "dtype: int64"
            ]
          },
          "execution_count": 15,
          "metadata": {},
          "output_type": "execute_result"
        }
      ],
      "source": [
        "data_raw.isna().sum()"
      ]
    },
    {
      "cell_type": "markdown",
      "id": "6283712a",
      "metadata": {},
      "source": [
        "Также избавимся от строк с пропущенными данными."
      ]
    },
    {
      "cell_type": "code",
      "execution_count": 16,
      "id": "2de16350",
      "metadata": {},
      "outputs": [],
      "source": [
        "data = data_raw.drop(['severity_category', 'product_name', 'update_date', 'resolution_category', 'resolution_code', 'status_category', 'quantity_of_votes'], axis=1).dropna()"
      ]
    },
    {
      "cell_type": "code",
      "execution_count": 17,
      "id": "1638af08",
      "metadata": {
        "colab": {
          "base_uri": "https://localhost:8080/"
        },
        "id": "1638af08",
        "outputId": "e08d64da-93ad-42a3-fe48-badc78d5ed17"
      },
      "outputs": [
        {
          "data": {
            "text/html": [
              "<div>\n",
              "<style scoped>\n",
              "    .dataframe tbody tr th:only-of-type {\n",
              "        vertical-align: middle;\n",
              "    }\n",
              "\n",
              "    .dataframe tbody tr th {\n",
              "        vertical-align: top;\n",
              "    }\n",
              "\n",
              "    .dataframe thead th {\n",
              "        text-align: right;\n",
              "    }\n",
              "</style>\n",
              "<table border=\"1\" class=\"dataframe\">\n",
              "  <thead>\n",
              "    <tr style=\"text-align: right;\">\n",
              "      <th></th>\n",
              "      <th>bug_id</th>\n",
              "      <th>creation_date</th>\n",
              "      <th>component_name</th>\n",
              "      <th>product_name</th>\n",
              "      <th>short_description</th>\n",
              "      <th>long_description</th>\n",
              "      <th>assignee_name</th>\n",
              "      <th>reporter_name</th>\n",
              "      <th>resolution_category</th>\n",
              "      <th>status_category</th>\n",
              "      <th>update_date</th>\n",
              "      <th>resolution_date</th>\n",
              "      <th>severity_category</th>\n",
              "    </tr>\n",
              "  </thead>\n",
              "  <tbody>\n",
              "    <tr>\n",
              "      <th>count</th>\n",
              "      <td>10000</td>\n",
              "      <td>10000</td>\n",
              "      <td>10000</td>\n",
              "      <td>10000</td>\n",
              "      <td>9994</td>\n",
              "      <td>9986</td>\n",
              "      <td>10000</td>\n",
              "      <td>10000</td>\n",
              "      <td>10000</td>\n",
              "      <td>10000</td>\n",
              "      <td>10000</td>\n",
              "      <td>10000</td>\n",
              "      <td>10000</td>\n",
              "    </tr>\n",
              "    <tr>\n",
              "      <th>unique</th>\n",
              "      <td>10000</td>\n",
              "      <td>4846</td>\n",
              "      <td>55</td>\n",
              "      <td>2</td>\n",
              "      <td>9928</td>\n",
              "      <td>9958</td>\n",
              "      <td>270</td>\n",
              "      <td>3287</td>\n",
              "      <td>1</td>\n",
              "      <td>2</td>\n",
              "      <td>3642</td>\n",
              "      <td>4490</td>\n",
              "      <td>6</td>\n",
              "    </tr>\n",
              "    <tr>\n",
              "      <th>top</th>\n",
              "      <td>CLASSPATH-16040</td>\n",
              "      <td>2000-12-20</td>\n",
              "      <td>c++</td>\n",
              "      <td>GCC</td>\n",
              "      <td>Internal compiler error</td>\n",
              "      <td></td>\n",
              "      <td>unassigned</td>\n",
              "      <td>hjl.tools</td>\n",
              "      <td>fixed</td>\n",
              "      <td>resolved</td>\n",
              "      <td>2003-07-25</td>\n",
              "      <td>2005-07-23</td>\n",
              "      <td>normal</td>\n",
              "    </tr>\n",
              "    <tr>\n",
              "      <th>freq</th>\n",
              "      <td>1</td>\n",
              "      <td>77</td>\n",
              "      <td>2217</td>\n",
              "      <td>9731</td>\n",
              "      <td>9</td>\n",
              "      <td>19</td>\n",
              "      <td>5149</td>\n",
              "      <td>292</td>\n",
              "      <td>10000</td>\n",
              "      <td>9903</td>\n",
              "      <td>1553</td>\n",
              "      <td>58</td>\n",
              "      <td>8895</td>\n",
              "    </tr>\n",
              "  </tbody>\n",
              "</table>\n",
              "</div>"
            ],
            "text/plain": [
              "                 bug_id creation_date component_name product_name  \\\n",
              "count             10000         10000          10000        10000   \n",
              "unique            10000          4846             55            2   \n",
              "top     CLASSPATH-16040    2000-12-20            c++          GCC   \n",
              "freq                  1            77           2217         9731   \n",
              "\n",
              "              short_description long_description assignee_name reporter_name  \\\n",
              "count                      9994             9986         10000         10000   \n",
              "unique                     9928             9958           270          3287   \n",
              "top     Internal compiler error                     unassigned     hjl.tools   \n",
              "freq                          9               19          5149           292   \n",
              "\n",
              "       resolution_category status_category update_date resolution_date  \\\n",
              "count                10000           10000       10000           10000   \n",
              "unique                   1               2        3642            4490   \n",
              "top                  fixed        resolved  2003-07-25      2005-07-23   \n",
              "freq                 10000            9903        1553              58   \n",
              "\n",
              "       severity_category  \n",
              "count              10000  \n",
              "unique                 6  \n",
              "top               normal  \n",
              "freq                8895  "
            ]
          },
          "execution_count": 17,
          "metadata": {},
          "output_type": "execute_result"
        }
      ],
      "source": [
        "data_raw.describe(include=['category'])"
      ]
    },
    {
      "cell_type": "code",
      "execution_count": 18,
      "id": "c600ab19",
      "metadata": {},
      "outputs": [
        {
          "data": {
            "text/html": [
              "<div>\n",
              "<style scoped>\n",
              "    .dataframe tbody tr th:only-of-type {\n",
              "        vertical-align: middle;\n",
              "    }\n",
              "\n",
              "    .dataframe tbody tr th {\n",
              "        vertical-align: top;\n",
              "    }\n",
              "\n",
              "    .dataframe thead th {\n",
              "        text-align: right;\n",
              "    }\n",
              "</style>\n",
              "<table border=\"1\" class=\"dataframe\">\n",
              "  <thead>\n",
              "    <tr style=\"text-align: right;\">\n",
              "      <th></th>\n",
              "      <th>bug_id</th>\n",
              "      <th>creation_date</th>\n",
              "      <th>component_name</th>\n",
              "      <th>short_description</th>\n",
              "      <th>long_description</th>\n",
              "      <th>assignee_name</th>\n",
              "      <th>reporter_name</th>\n",
              "      <th>resolution_date</th>\n",
              "    </tr>\n",
              "  </thead>\n",
              "  <tbody>\n",
              "    <tr>\n",
              "      <th>count</th>\n",
              "      <td>9980</td>\n",
              "      <td>9980</td>\n",
              "      <td>9980</td>\n",
              "      <td>9980</td>\n",
              "      <td>9980</td>\n",
              "      <td>9980</td>\n",
              "      <td>9980</td>\n",
              "      <td>9980</td>\n",
              "    </tr>\n",
              "    <tr>\n",
              "      <th>unique</th>\n",
              "      <td>9980</td>\n",
              "      <td>4840</td>\n",
              "      <td>55</td>\n",
              "      <td>9914</td>\n",
              "      <td>9953</td>\n",
              "      <td>270</td>\n",
              "      <td>3275</td>\n",
              "      <td>4487</td>\n",
              "    </tr>\n",
              "    <tr>\n",
              "      <th>top</th>\n",
              "      <td>CLASSPATH-16040</td>\n",
              "      <td>2000-12-20</td>\n",
              "      <td>c++</td>\n",
              "      <td>Internal compiler error</td>\n",
              "      <td></td>\n",
              "      <td>unassigned</td>\n",
              "      <td>hjl.tools</td>\n",
              "      <td>2005-07-23</td>\n",
              "    </tr>\n",
              "    <tr>\n",
              "      <th>freq</th>\n",
              "      <td>1</td>\n",
              "      <td>77</td>\n",
              "      <td>2213</td>\n",
              "      <td>9</td>\n",
              "      <td>19</td>\n",
              "      <td>5136</td>\n",
              "      <td>292</td>\n",
              "      <td>58</td>\n",
              "    </tr>\n",
              "  </tbody>\n",
              "</table>\n",
              "</div>"
            ],
            "text/plain": [
              "                 bug_id creation_date component_name        short_description  \\\n",
              "count              9980          9980           9980                     9980   \n",
              "unique             9980          4840             55                     9914   \n",
              "top     CLASSPATH-16040    2000-12-20            c++  Internal compiler error   \n",
              "freq                  1            77           2213                        9   \n",
              "\n",
              "       long_description assignee_name reporter_name resolution_date  \n",
              "count              9980          9980          9980            9980  \n",
              "unique             9953           270          3275            4487  \n",
              "top                        unassigned     hjl.tools      2005-07-23  \n",
              "freq                 19          5136           292              58  "
            ]
          },
          "execution_count": 18,
          "metadata": {},
          "output_type": "execute_result"
        }
      ],
      "source": [
        "data.describe(include=['category'])"
      ]
    },
    {
      "cell_type": "code",
      "execution_count": 19,
      "id": "5f18feb5",
      "metadata": {
        "colab": {
          "base_uri": "https://localhost:8080/",
          "height": 0
        },
        "id": "5f18feb5",
        "outputId": "c77e9ce3-4480-4443-8226-92f44d630de3"
      },
      "outputs": [
        {
          "data": {
            "text/html": [
              "<div>\n",
              "<style scoped>\n",
              "    .dataframe tbody tr th:only-of-type {\n",
              "        vertical-align: middle;\n",
              "    }\n",
              "\n",
              "    .dataframe tbody tr th {\n",
              "        vertical-align: top;\n",
              "    }\n",
              "\n",
              "    .dataframe thead th {\n",
              "        text-align: right;\n",
              "    }\n",
              "</style>\n",
              "<table border=\"1\" class=\"dataframe\">\n",
              "  <thead>\n",
              "    <tr style=\"text-align: right;\">\n",
              "      <th></th>\n",
              "      <th>bug_id</th>\n",
              "      <th>creation_date</th>\n",
              "      <th>component_name</th>\n",
              "      <th>short_description</th>\n",
              "      <th>long_description</th>\n",
              "      <th>assignee_name</th>\n",
              "      <th>reporter_name</th>\n",
              "      <th>status_code</th>\n",
              "      <th>quantity_of_comments</th>\n",
              "      <th>resolution_date</th>\n",
              "      <th>bug_fix_time</th>\n",
              "      <th>severity_code</th>\n",
              "    </tr>\n",
              "  </thead>\n",
              "  <tbody>\n",
              "    <tr>\n",
              "      <th>0</th>\n",
              "      <td>GCC-49282</td>\n",
              "      <td>2011-06-04</td>\n",
              "      <td>middle-end</td>\n",
              "      <td>malloc corruption in large lto1-wpa run during...</td>\n",
              "      <td>A large lto1-wpa run with 20110603 results now...</td>\n",
              "      <td>unassigned</td>\n",
              "      <td>andi-gcc</td>\n",
              "      <td>4</td>\n",
              "      <td>9</td>\n",
              "      <td>2011-10-07</td>\n",
              "      <td>125</td>\n",
              "      <td>2</td>\n",
              "    </tr>\n",
              "    <tr>\n",
              "      <th>1</th>\n",
              "      <td>GCC-36574</td>\n",
              "      <td>2008-06-19</td>\n",
              "      <td>middle-end</td>\n",
              "      <td>[4.4 Regression] build broken with cgraph changes</td>\n",
              "      <td>With r136888 cris-elf built (and had just 4 re...</td>\n",
              "      <td>unassigned</td>\n",
              "      <td>hp</td>\n",
              "      <td>4</td>\n",
              "      <td>5</td>\n",
              "      <td>2008-07-18</td>\n",
              "      <td>29</td>\n",
              "      <td>2</td>\n",
              "    </tr>\n",
              "    <tr>\n",
              "      <th>2</th>\n",
              "      <td>GCC-77269</td>\n",
              "      <td>2016-08-16</td>\n",
              "      <td>middle-end</td>\n",
              "      <td>__builtin_isinf_sign does not work for __float128</td>\n",
              "      <td>The __builtin_isinf_sign folding does\\n\\n     ...</td>\n",
              "      <td>jsm28</td>\n",
              "      <td>jsm28</td>\n",
              "      <td>4</td>\n",
              "      <td>5</td>\n",
              "      <td>2016-08-22</td>\n",
              "      <td>6</td>\n",
              "      <td>2</td>\n",
              "    </tr>\n",
              "    <tr>\n",
              "      <th>3</th>\n",
              "      <td>GCC-78479</td>\n",
              "      <td>2016-11-22</td>\n",
              "      <td>fortran</td>\n",
              "      <td>ICE in gfc_apply_init at fortran/expr.c:4135</td>\n",
              "      <td>With valid code down to at least 4.8 :\\n\\n\\n$ ...</td>\n",
              "      <td>kargl</td>\n",
              "      <td>gerhard.steinmetz.fortran</td>\n",
              "      <td>4</td>\n",
              "      <td>6</td>\n",
              "      <td>2016-11-22</td>\n",
              "      <td>0</td>\n",
              "      <td>2</td>\n",
              "    </tr>\n",
              "    <tr>\n",
              "      <th>4</th>\n",
              "      <td>GCC-632</td>\n",
              "      <td>2000-10-12</td>\n",
              "      <td>c++</td>\n",
              "      <td>Internal compiler error in `layout_decl' at st...</td>\n",
              "      <td>g++  -I/home/leila/Sources/Include -O2 -Wall -...</td>\n",
              "      <td>unassigned</td>\n",
              "      <td>lkh</td>\n",
              "      <td>4</td>\n",
              "      <td>5</td>\n",
              "      <td>2001-02-04</td>\n",
              "      <td>115</td>\n",
              "      <td>2</td>\n",
              "    </tr>\n",
              "  </tbody>\n",
              "</table>\n",
              "</div>"
            ],
            "text/plain": [
              "      bug_id creation_date component_name  \\\n",
              "0  GCC-49282    2011-06-04     middle-end   \n",
              "1  GCC-36574    2008-06-19     middle-end   \n",
              "2  GCC-77269    2016-08-16     middle-end   \n",
              "3  GCC-78479    2016-11-22        fortran   \n",
              "4    GCC-632    2000-10-12            c++   \n",
              "\n",
              "                                   short_description  \\\n",
              "0  malloc corruption in large lto1-wpa run during...   \n",
              "1  [4.4 Regression] build broken with cgraph changes   \n",
              "2  __builtin_isinf_sign does not work for __float128   \n",
              "3       ICE in gfc_apply_init at fortran/expr.c:4135   \n",
              "4  Internal compiler error in `layout_decl' at st...   \n",
              "\n",
              "                                    long_description assignee_name  \\\n",
              "0  A large lto1-wpa run with 20110603 results now...    unassigned   \n",
              "1  With r136888 cris-elf built (and had just 4 re...    unassigned   \n",
              "2  The __builtin_isinf_sign folding does\\n\\n     ...         jsm28   \n",
              "3  With valid code down to at least 4.8 :\\n\\n\\n$ ...         kargl   \n",
              "4  g++  -I/home/leila/Sources/Include -O2 -Wall -...    unassigned   \n",
              "\n",
              "               reporter_name  status_code  quantity_of_comments  \\\n",
              "0                   andi-gcc            4                     9   \n",
              "1                         hp            4                     5   \n",
              "2                      jsm28            4                     5   \n",
              "3  gerhard.steinmetz.fortran            4                     6   \n",
              "4                        lkh            4                     5   \n",
              "\n",
              "  resolution_date  bug_fix_time  severity_code  \n",
              "0      2011-10-07           125              2  \n",
              "1      2008-07-18            29              2  \n",
              "2      2016-08-22             6              2  \n",
              "3      2016-11-22             0              2  \n",
              "4      2001-02-04           115              2  "
            ]
          },
          "execution_count": 19,
          "metadata": {},
          "output_type": "execute_result"
        }
      ],
      "source": [
        "data.head(5)"
      ]
    },
    {
      "cell_type": "markdown",
      "id": "25be69f2",
      "metadata": {
        "id": "25be69f2"
      },
      "source": [
        "## Визуализация и предварительный анализ данных"
      ]
    },
    {
      "cell_type": "markdown",
      "id": "04a77cef",
      "metadata": {
        "id": "04a77cef"
      },
      "source": [
        "### Описательная статистика матрицы данных"
      ]
    },
    {
      "cell_type": "markdown",
      "id": "d8aac5d3",
      "metadata": {
        "id": "d8aac5d3"
      },
      "source": [
        "#### Информация о числовых признаках"
      ]
    },
    {
      "cell_type": "code",
      "execution_count": 64,
      "id": "18238b37",
      "metadata": {
        "colab": {
          "base_uri": "https://localhost:8080/",
          "height": 0
        },
        "id": "18238b37",
        "outputId": "7844a296-af4e-4771-ad91-036aa7ccc8ee"
      },
      "outputs": [
        {
          "data": {
            "text/html": [
              "<div>\n",
              "<style scoped>\n",
              "    .dataframe tbody tr th:only-of-type {\n",
              "        vertical-align: middle;\n",
              "    }\n",
              "\n",
              "    .dataframe tbody tr th {\n",
              "        vertical-align: top;\n",
              "    }\n",
              "\n",
              "    .dataframe thead th {\n",
              "        text-align: right;\n",
              "    }\n",
              "</style>\n",
              "<table border=\"1\" class=\"dataframe\">\n",
              "  <thead>\n",
              "    <tr style=\"text-align: right;\">\n",
              "      <th></th>\n",
              "      <th>status_code</th>\n",
              "      <th>quantity_of_comments</th>\n",
              "      <th>bug_fix_time</th>\n",
              "      <th>severity_code</th>\n",
              "    </tr>\n",
              "  </thead>\n",
              "  <tbody>\n",
              "    <tr>\n",
              "      <th>count</th>\n",
              "      <td>9980.000000</td>\n",
              "      <td>9980.000000</td>\n",
              "      <td>9980.000000</td>\n",
              "      <td>9980.000000</td>\n",
              "    </tr>\n",
              "    <tr>\n",
              "      <th>mean</th>\n",
              "      <td>4.019038</td>\n",
              "      <td>8.147094</td>\n",
              "      <td>225.961222</td>\n",
              "      <td>2.221443</td>\n",
              "    </tr>\n",
              "    <tr>\n",
              "      <th>std</th>\n",
              "      <td>0.194210</td>\n",
              "      <td>6.557003</td>\n",
              "      <td>516.901518</td>\n",
              "      <td>0.798122</td>\n",
              "    </tr>\n",
              "    <tr>\n",
              "      <th>min</th>\n",
              "      <td>4.000000</td>\n",
              "      <td>1.000000</td>\n",
              "      <td>-527.000000</td>\n",
              "      <td>1.000000</td>\n",
              "    </tr>\n",
              "    <tr>\n",
              "      <th>25%</th>\n",
              "      <td>4.000000</td>\n",
              "      <td>4.000000</td>\n",
              "      <td>3.000000</td>\n",
              "      <td>2.000000</td>\n",
              "    </tr>\n",
              "    <tr>\n",
              "      <th>50%</th>\n",
              "      <td>4.000000</td>\n",
              "      <td>6.000000</td>\n",
              "      <td>27.000000</td>\n",
              "      <td>2.000000</td>\n",
              "    </tr>\n",
              "    <tr>\n",
              "      <th>75%</th>\n",
              "      <td>4.000000</td>\n",
              "      <td>10.000000</td>\n",
              "      <td>188.000000</td>\n",
              "      <td>2.000000</td>\n",
              "    </tr>\n",
              "    <tr>\n",
              "      <th>max</th>\n",
              "      <td>6.000000</td>\n",
              "      <td>124.000000</td>\n",
              "      <td>5351.000000</td>\n",
              "      <td>6.000000</td>\n",
              "    </tr>\n",
              "  </tbody>\n",
              "</table>\n",
              "</div>"
            ],
            "text/plain": [
              "       status_code  quantity_of_comments  bug_fix_time  severity_code\n",
              "count  9980.000000           9980.000000   9980.000000    9980.000000\n",
              "mean      4.019038              8.147094    225.961222       2.221443\n",
              "std       0.194210              6.557003    516.901518       0.798122\n",
              "min       4.000000              1.000000   -527.000000       1.000000\n",
              "25%       4.000000              4.000000      3.000000       2.000000\n",
              "50%       4.000000              6.000000     27.000000       2.000000\n",
              "75%       4.000000             10.000000    188.000000       2.000000\n",
              "max       6.000000            124.000000   5351.000000       6.000000"
            ]
          },
          "execution_count": 64,
          "metadata": {},
          "output_type": "execute_result"
        }
      ],
      "source": [
        "data.describe()"
      ]
    },
    {
      "cell_type": "markdown",
      "id": "daJCmBEsQMpW",
      "metadata": {
        "id": "daJCmBEsQMpW"
      },
      "source": [
        "По таблице можно увидеть, что какие-то баги решались за отрицательное время, что можно трактовать как позднее создание тикета или выброс в данных, от которого надо избавиться."
      ]
    },
    {
      "cell_type": "code",
      "execution_count": 24,
      "id": "016af093",
      "metadata": {},
      "outputs": [
        {
          "data": {
            "text/html": [
              "<div>\n",
              "<style scoped>\n",
              "    .dataframe tbody tr th:only-of-type {\n",
              "        vertical-align: middle;\n",
              "    }\n",
              "\n",
              "    .dataframe tbody tr th {\n",
              "        vertical-align: top;\n",
              "    }\n",
              "\n",
              "    .dataframe thead th {\n",
              "        text-align: right;\n",
              "    }\n",
              "</style>\n",
              "<table border=\"1\" class=\"dataframe\">\n",
              "  <thead>\n",
              "    <tr style=\"text-align: right;\">\n",
              "      <th></th>\n",
              "      <th>status_code</th>\n",
              "      <th>quantity_of_comments</th>\n",
              "      <th>bug_fix_time</th>\n",
              "      <th>severity_code</th>\n",
              "    </tr>\n",
              "  </thead>\n",
              "  <tbody>\n",
              "    <tr>\n",
              "      <th>count</th>\n",
              "      <td>9928.000000</td>\n",
              "      <td>9928.000000</td>\n",
              "      <td>9928.000000</td>\n",
              "      <td>9928.000000</td>\n",
              "    </tr>\n",
              "    <tr>\n",
              "      <th>mean</th>\n",
              "      <td>4.019138</td>\n",
              "      <td>8.154613</td>\n",
              "      <td>228.494158</td>\n",
              "      <td>2.221998</td>\n",
              "    </tr>\n",
              "    <tr>\n",
              "      <th>std</th>\n",
              "      <td>0.194713</td>\n",
              "      <td>6.569078</td>\n",
              "      <td>516.972198</td>\n",
              "      <td>0.799083</td>\n",
              "    </tr>\n",
              "    <tr>\n",
              "      <th>min</th>\n",
              "      <td>4.000000</td>\n",
              "      <td>1.000000</td>\n",
              "      <td>0.000000</td>\n",
              "      <td>1.000000</td>\n",
              "    </tr>\n",
              "    <tr>\n",
              "      <th>25%</th>\n",
              "      <td>4.000000</td>\n",
              "      <td>4.000000</td>\n",
              "      <td>3.000000</td>\n",
              "      <td>2.000000</td>\n",
              "    </tr>\n",
              "    <tr>\n",
              "      <th>50%</th>\n",
              "      <td>4.000000</td>\n",
              "      <td>6.000000</td>\n",
              "      <td>28.000000</td>\n",
              "      <td>2.000000</td>\n",
              "    </tr>\n",
              "    <tr>\n",
              "      <th>75%</th>\n",
              "      <td>4.000000</td>\n",
              "      <td>10.000000</td>\n",
              "      <td>190.000000</td>\n",
              "      <td>2.000000</td>\n",
              "    </tr>\n",
              "    <tr>\n",
              "      <th>max</th>\n",
              "      <td>6.000000</td>\n",
              "      <td>124.000000</td>\n",
              "      <td>5351.000000</td>\n",
              "      <td>6.000000</td>\n",
              "    </tr>\n",
              "  </tbody>\n",
              "</table>\n",
              "</div>"
            ],
            "text/plain": [
              "       status_code  quantity_of_comments  bug_fix_time  severity_code\n",
              "count  9928.000000           9928.000000   9928.000000    9928.000000\n",
              "mean      4.019138              8.154613    228.494158       2.221998\n",
              "std       0.194713              6.569078    516.972198       0.799083\n",
              "min       4.000000              1.000000      0.000000       1.000000\n",
              "25%       4.000000              4.000000      3.000000       2.000000\n",
              "50%       4.000000              6.000000     28.000000       2.000000\n",
              "75%       4.000000             10.000000    190.000000       2.000000\n",
              "max       6.000000            124.000000   5351.000000       6.000000"
            ]
          },
          "execution_count": 24,
          "metadata": {},
          "output_type": "execute_result"
        }
      ],
      "source": [
        "data.drop(data[data.bug_fix_time < 0].index, inplace=True)\n",
        "data.describe()"
      ]
    },
    {
      "cell_type": "markdown",
      "id": "7e997493",
      "metadata": {
        "id": "7e997493"
      },
      "source": [
        "### Визуализация данных"
      ]
    },
    {
      "cell_type": "markdown",
      "id": "9f95e03d",
      "metadata": {
        "id": "9f95e03d"
      },
      "source": [
        "В процессе визуализации могут проявиться некоторые особенности данных, с которыми необходимо будет разобраться"
      ]
    },
    {
      "cell_type": "markdown",
      "id": "d71b5173",
      "metadata": {
        "id": "d71b5173"
      },
      "source": [
        "Посмотрим на сбалансированность/несбалансированность классов"
      ]
    },
    {
      "cell_type": "code",
      "execution_count": 29,
      "id": "6ed963b3",
      "metadata": {
        "colab": {
          "base_uri": "https://localhost:8080/",
          "height": 279
        },
        "id": "6ed963b3",
        "outputId": "3545e190-b460-48ea-d73b-9e91d4afd5d4"
      },
      "outputs": [
        {
          "data": {
            "image/png": "[encoded data removed]",
            "text/plain": [
              "<Figure size 432x288 with 1 Axes>"
            ]
          },
          "metadata": {
            "needs_background": "light"
          },
          "output_type": "display_data"
        },
        {
          "data": {
            "image/png": "[encoded data removed]",
            "text/plain": [
              "<Figure size 720x360 with 1 Axes>"
            ]
          },
          "metadata": {
            "needs_background": "light"
          },
          "output_type": "display_data"
        }
      ],
      "source": [
        "sns.countplot(x='severity_code', data=data)\n",
        "plt.figure(figsize=(10, 5))\n",
        "sns.countplot(x='status_code', data=data)\n",
        "pass"
      ]
    },
    {
      "cell_type": "markdown",
      "id": "cccbe61d",
      "metadata": {
        "id": "cccbe61d"
      },
      "source": [
        "Видно, что классы ___несбалансированны___. Впоследствии имеет смысл попытаться избавиться от несбалансированности."
      ]
    },
    {
      "cell_type": "markdown",
      "id": "bba0fa5c",
      "metadata": {
        "id": "bba0fa5c"
      },
      "source": [
        "У большинства багов одинаковая важность."
      ]
    },
    {
      "cell_type": "code",
      "execution_count": 28,
      "id": "a512047a",
      "metadata": {
        "colab": {
          "base_uri": "https://localhost:8080/",
          "height": 335
        },
        "id": "a512047a",
        "outputId": "97da2e46-45a6-462c-9fab-6998f318acbf"
      },
      "outputs": [
        {
          "data": {
            "image/png": "[encoded data removed]",
            "text/plain": [
              "<Figure size 720x360 with 1 Axes>"
            ]
          },
          "metadata": {
            "needs_background": "light"
          },
          "output_type": "display_data"
        }
      ],
      "source": [
        "\n",
        "pass"
      ]
    },
    {
      "cell_type": "markdown",
      "id": "tix2TYuCWgqH",
      "metadata": {
        "id": "tix2TYuCWgqH"
      },
      "source": [
        "Построим графики зависимостей каждого количественного признака с каждым"
      ]
    },
    {
      "cell_type": "code",
      "execution_count": 32,
      "id": "EcHOzfywWcjp",
      "metadata": {
        "colab": {
          "base_uri": "https://localhost:8080/",
          "height": 1000
        },
        "id": "EcHOzfywWcjp",
        "outputId": "0eb5fd71-c610-4fbe-95a4-f136d7c034cf"
      },
      "outputs": [
        {
          "data": {
            "text/plain": [
              "<seaborn.axisgrid.PairGrid at 0x28a6132f520>"
            ]
          },
          "execution_count": 32,
          "metadata": {},
          "output_type": "execute_result"
        },
        {
          "data": {
            "image/png": "[encoded data removed]",
            "text/plain": [
              "<Figure size 617.125x540 with 12 Axes>"
            ]
          },
          "metadata": {
            "needs_background": "light"
          },
          "output_type": "display_data"
        }
      ],
      "source": [
        "sns.pairplot(data, hue='severity_code')"
      ]
    },
    {
      "cell_type": "markdown",
      "id": "e1637b81",
      "metadata": {
        "id": "e1637b81"
      },
      "source": [
        "Построим матрицу корреляции для количественных признаков и визуализируем её"
      ]
    },
    {
      "cell_type": "code",
      "execution_count": 33,
      "id": "cc28aa4b",
      "metadata": {
        "colab": {
          "base_uri": "https://localhost:8080/",
          "height": 363
        },
        "id": "cc28aa4b",
        "outputId": "ec0eba82-f556-4b1d-9c22-f0a4ee027e80"
      },
      "outputs": [
        {
          "data": {
            "image/png": "[encoded data removed]",
            "text/plain": [
              "<Figure size 432x288 with 2 Axes>"
            ]
          },
          "metadata": {
            "needs_background": "light"
          },
          "output_type": "display_data"
        }
      ],
      "source": [
        "corr_mat = data.corr()\n",
        "sns.heatmap(corr_mat, square=True, cmap='coolwarm', vmin=-1, vmax=1, center=0, linewidths=1, linecolor=\"black\")\n",
        "pass"
      ]
    },
    {
      "cell_type": "markdown",
      "id": "5bb3f55e",
      "metadata": {
        "id": "5bb3f55e"
      },
      "source": [
        "Напрашивается очевидный вывод, чем дольше ведется дискуссия, тем дольше вносятся исправления бага."
      ]
    },
    {
      "cell_type": "markdown",
      "id": "1bd60fbd",
      "metadata": {
        "id": "1bd60fbd"
      },
      "source": [
        "## Обработка категориальных признаков"
      ]
    },
    {
      "cell_type": "markdown",
      "id": "c22ce220",
      "metadata": {
        "id": "c22ce220"
      },
      "source": [
        "### Получение числового признака _age_ из категориального"
      ]
    },
    {
      "cell_type": "markdown",
      "id": "d4c05738",
      "metadata": {
        "id": "d4c05738"
      },
      "source": [
        "Сначала обработаем признак _age_. Он принимает значения в виде 10-летнего интервала, а потому имеет смысл заменить интервал на среднее значение интервала, тем самым получив числовой признак"
      ]
    },
    {
      "cell_type": "code",
      "execution_count": 43,
      "id": "650816ae",
      "metadata": {
        "colab": {
          "base_uri": "https://localhost:8080/"
        },
        "id": "650816ae",
        "outputId": "1c846015-7259-4385-93eb-a5977e2efec6"
      },
      "outputs": [
        {
          "data": {
            "text/plain": [
              "['[10-20)', '[20-30)', '[30-40)', '[40-50)', '[50-60)', '[60-70)', '[70-80)', '[80-90)', '[90-100)', '[0-10)']\n",
              "Categories (10, object): ['[0-10)', '[10-20)', '[20-30)', '[30-40)', ..., '[60-70)', '[70-80)',\n",
              "                          '[80-90)', '[90-100)']"
            ]
          },
          "execution_count": 43,
          "metadata": {},
          "output_type": "execute_result"
        }
      ],
      "source": [
        "data_raw['age'].unique()"
      ]
    },
    {
      "cell_type": "markdown",
      "id": "4105df1f",
      "metadata": {
        "id": "4105df1f"
      },
      "source": [
        "Все интервалы выглядят следующим образом: $[10 * i; 10 * (i + 1))$ для всех i от 0 до 9. Соответственно, каждый такой интервал можно заменить на $10*i + 5*(i+1)$ для всех i от 0 до 9"
      ]
    },
    {
      "cell_type": "code",
      "execution_count": 44,
      "id": "6f970079",
      "metadata": {
        "id": "6f970079"
      },
      "outputs": [],
      "source": [
        "age = data_raw['age'].copy()\n",
        "\n",
        "for i in range(0, 10):\n",
        "    interval_str = '[' + str(10 * i) + '-' + str(10 * (i + 1)) + ')'\n",
        "    mean_of_interval = 10 * i + 10 * (i + 1) // 2\n",
        "    age = age.replace(interval_str, mean_of_interval)  # заменяем интервал на среднее\n",
        "\n",
        "age = pd.to_numeric(age)  # меняем тип на числовой\n",
        "data_raw.drop(['age'], axis=1, inplace=True)  # удаляем из исходной таблицы старый категориальный признак age\n",
        "data_raw = pd.concat([age, data_raw], axis=1)  # добавляем новый числовой признак age"
      ]
    },
    {
      "cell_type": "code",
      "execution_count": 45,
      "id": "1a10402b",
      "metadata": {
        "colab": {
          "base_uri": "https://localhost:8080/"
        },
        "id": "1a10402b",
        "outputId": "954b55bd-fb8e-41ac-94ee-e7739e11bb6c"
      },
      "outputs": [
        {
          "data": {
            "text/plain": [
              "age                            int64\n",
              "race                        category\n",
              "gender                      category\n",
              "admission_type              category\n",
              "discharge_disposition       category\n",
              "admission_source            category\n",
              "time_in_hospital               int64\n",
              "medical_specialty           category\n",
              "num_lab_procedures             int64\n",
              "num_procedures                 int64\n",
              "num_medications                int64\n",
              "number_outpatient              int64\n",
              "number_emergency               int64\n",
              "number_inpatient               int64\n",
              "diag_1                      category\n",
              "diag_2                      category\n",
              "diag_3                      category\n",
              "number_diagnoses               int64\n",
              "max_glu_serum               category\n",
              "A1Cresult                   category\n",
              "metformin                   category\n",
              "repaglinide                 category\n",
              "nateglinide                 category\n",
              "chlorpropamide              category\n",
              "glimepiride                 category\n",
              "acetohexamide               category\n",
              "glipizide                   category\n",
              "glyburide                   category\n",
              "tolbutamide                 category\n",
              "pioglitazone                category\n",
              "rosiglitazone               category\n",
              "acarbose                    category\n",
              "miglitol                    category\n",
              "troglitazone                category\n",
              "tolazamide                  category\n",
              "insulin                     category\n",
              "glyburide-metformin         category\n",
              "glipizide-metformin         category\n",
              "glimepiride-pioglitazone    category\n",
              "metformin-pioglitazone      category\n",
              "change                      category\n",
              "diabetesMed                 category\n",
              "readmitted                  category\n",
              "dtype: object"
            ]
          },
          "execution_count": 45,
          "metadata": {},
          "output_type": "execute_result"
        }
      ],
      "source": [
        "data_raw.dtypes"
      ]
    },
    {
      "cell_type": "markdown",
      "id": "b647c1ca",
      "metadata": {
        "id": "b647c1ca"
      },
      "source": [
        "Будет правильным решением сейчас отдельно сохранить таблицу исключительно с количественными признаками (тех, для которых на данный момент dtype == int64). Впоследствии это облегчит процесс нормализации данных, т.к. нормализируем мы только количественные признаки."
      ]
    },
    {
      "cell_type": "code",
      "execution_count": 46,
      "id": "5ffeb344",
      "metadata": {
        "id": "5ffeb344"
      },
      "outputs": [],
      "source": [
        "df_num = data_raw.select_dtypes(['int64'])  # num - сокращение от numeric"
      ]
    },
    {
      "cell_type": "code",
      "execution_count": 47,
      "id": "d6e4d73c",
      "metadata": {
        "colab": {
          "base_uri": "https://localhost:8080/",
          "height": 488
        },
        "id": "d6e4d73c",
        "outputId": "d609f4ee-6aa0-4518-ac47-475be377faa4"
      },
      "outputs": [
        {
          "data": {
            "text/html": [
              "\n",
              "  <div id=\"df-93681b51-a064-49a3-a129-f8171e7a7487\">\n",
              "    <div class=\"colab-df-container\">\n",
              "      <div>\n",
              "<style scoped>\n",
              "    .dataframe tbody tr th:only-of-type {\n",
              "        vertical-align: middle;\n",
              "    }\n",
              "\n",
              "    .dataframe tbody tr th {\n",
              "        vertical-align: top;\n",
              "    }\n",
              "\n",
              "    .dataframe thead th {\n",
              "        text-align: right;\n",
              "    }\n",
              "</style>\n",
              "<table border=\"1\" class=\"dataframe\">\n",
              "  <thead>\n",
              "    <tr style=\"text-align: right;\">\n",
              "      <th></th>\n",
              "      <th>age</th>\n",
              "      <th>time_in_hospital</th>\n",
              "      <th>num_lab_procedures</th>\n",
              "      <th>num_procedures</th>\n",
              "      <th>num_medications</th>\n",
              "      <th>number_outpatient</th>\n",
              "      <th>number_emergency</th>\n",
              "      <th>number_inpatient</th>\n",
              "      <th>number_diagnoses</th>\n",
              "    </tr>\n",
              "  </thead>\n",
              "  <tbody>\n",
              "    <tr>\n",
              "      <th>1</th>\n",
              "      <td>20</td>\n",
              "      <td>3</td>\n",
              "      <td>59</td>\n",
              "      <td>0</td>\n",
              "      <td>18</td>\n",
              "      <td>0</td>\n",
              "      <td>0</td>\n",
              "      <td>0</td>\n",
              "      <td>9</td>\n",
              "    </tr>\n",
              "    <tr>\n",
              "      <th>2</th>\n",
              "      <td>35</td>\n",
              "      <td>2</td>\n",
              "      <td>11</td>\n",
              "      <td>5</td>\n",
              "      <td>13</td>\n",
              "      <td>2</td>\n",
              "      <td>0</td>\n",
              "      <td>1</td>\n",
              "      <td>6</td>\n",
              "    </tr>\n",
              "    <tr>\n",
              "      <th>3</th>\n",
              "      <td>50</td>\n",
              "      <td>2</td>\n",
              "      <td>44</td>\n",
              "      <td>1</td>\n",
              "      <td>16</td>\n",
              "      <td>0</td>\n",
              "      <td>0</td>\n",
              "      <td>0</td>\n",
              "      <td>7</td>\n",
              "    </tr>\n",
              "    <tr>\n",
              "      <th>4</th>\n",
              "      <td>65</td>\n",
              "      <td>1</td>\n",
              "      <td>51</td>\n",
              "      <td>0</td>\n",
              "      <td>8</td>\n",
              "      <td>0</td>\n",
              "      <td>0</td>\n",
              "      <td>0</td>\n",
              "      <td>5</td>\n",
              "    </tr>\n",
              "    <tr>\n",
              "      <th>5</th>\n",
              "      <td>80</td>\n",
              "      <td>3</td>\n",
              "      <td>31</td>\n",
              "      <td>6</td>\n",
              "      <td>16</td>\n",
              "      <td>0</td>\n",
              "      <td>0</td>\n",
              "      <td>0</td>\n",
              "      <td>9</td>\n",
              "    </tr>\n",
              "    <tr>\n",
              "      <th>...</th>\n",
              "      <td>...</td>\n",
              "      <td>...</td>\n",
              "      <td>...</td>\n",
              "      <td>...</td>\n",
              "      <td>...</td>\n",
              "      <td>...</td>\n",
              "      <td>...</td>\n",
              "      <td>...</td>\n",
              "      <td>...</td>\n",
              "    </tr>\n",
              "    <tr>\n",
              "      <th>101761</th>\n",
              "      <td>110</td>\n",
              "      <td>3</td>\n",
              "      <td>51</td>\n",
              "      <td>0</td>\n",
              "      <td>16</td>\n",
              "      <td>0</td>\n",
              "      <td>0</td>\n",
              "      <td>0</td>\n",
              "      <td>9</td>\n",
              "    </tr>\n",
              "    <tr>\n",
              "      <th>101762</th>\n",
              "      <td>125</td>\n",
              "      <td>5</td>\n",
              "      <td>33</td>\n",
              "      <td>3</td>\n",
              "      <td>18</td>\n",
              "      <td>0</td>\n",
              "      <td>0</td>\n",
              "      <td>1</td>\n",
              "      <td>9</td>\n",
              "    </tr>\n",
              "    <tr>\n",
              "      <th>101763</th>\n",
              "      <td>110</td>\n",
              "      <td>1</td>\n",
              "      <td>53</td>\n",
              "      <td>0</td>\n",
              "      <td>9</td>\n",
              "      <td>1</td>\n",
              "      <td>0</td>\n",
              "      <td>0</td>\n",
              "      <td>13</td>\n",
              "    </tr>\n",
              "    <tr>\n",
              "      <th>101764</th>\n",
              "      <td>125</td>\n",
              "      <td>10</td>\n",
              "      <td>45</td>\n",
              "      <td>2</td>\n",
              "      <td>21</td>\n",
              "      <td>0</td>\n",
              "      <td>0</td>\n",
              "      <td>1</td>\n",
              "      <td>9</td>\n",
              "    </tr>\n",
              "    <tr>\n",
              "      <th>101765</th>\n",
              "      <td>110</td>\n",
              "      <td>6</td>\n",
              "      <td>13</td>\n",
              "      <td>3</td>\n",
              "      <td>3</td>\n",
              "      <td>0</td>\n",
              "      <td>0</td>\n",
              "      <td>0</td>\n",
              "      <td>9</td>\n",
              "    </tr>\n",
              "  </tbody>\n",
              "</table>\n",
              "<p>98052 rows × 9 columns</p>\n",
              "</div>\n",
              "      <button class=\"colab-df-convert\" onclick=\"convertToInteractive('df-93681b51-a064-49a3-a129-f8171e7a7487')\"\n",
              "              title=\"Convert this dataframe to an interactive table.\"\n",
              "              style=\"display:none;\">\n",
              "        \n",
              "  <svg xmlns=\"http://www.w3.org/2000/svg\" height=\"24px\"viewBox=\"0 0 24 24\"\n",
              "       width=\"24px\">\n",
              "    <path d=\"M0 0h24v24H0V0z\" fill=\"none\"/>\n",
              "    <path d=\"M18.56 5.44l.94 2.06.94-2.06 2.06-.94-2.06-.94-.94-2.06-.94 2.06-2.06.94zm-11 1L8.5 8.5l.94-2.06 2.06-.94-2.06-.94L8.5 2.5l-.94 2.06-2.06.94zm10 10l.94 2.06.94-2.06 2.06-.94-2.06-.94-.94-2.06-.94 2.06-2.06.94z\"/><path d=\"M17.41 7.96l-1.37-1.37c-.4-.4-.92-.59-1.43-.59-.52 0-1.04.2-1.43.59L10.3 9.45l-7.72 7.72c-.78.78-.78 2.05 0 2.83L4 21.41c.39.39.9.59 1.41.59.51 0 1.02-.2 1.41-.59l7.78-7.78 2.81-2.81c.8-.78.8-2.07 0-2.86zM5.41 20L4 18.59l7.72-7.72 1.47 1.35L5.41 20z\"/>\n",
              "  </svg>\n",
              "      </button>\n",
              "      \n",
              "  <style>\n",
              "    .colab-df-container {\n",
              "      display:flex;\n",
              "      flex-wrap:wrap;\n",
              "      gap: 12px;\n",
              "    }\n",
              "\n",
              "    .colab-df-convert {\n",
              "      background-color: #E8F0FE;\n",
              "      border: none;\n",
              "      border-radius: 50%;\n",
              "      cursor: pointer;\n",
              "      display: none;\n",
              "      fill: #1967D2;\n",
              "      height: 32px;\n",
              "      padding: 0 0 0 0;\n",
              "      width: 32px;\n",
              "    }\n",
              "\n",
              "    .colab-df-convert:hover {\n",
              "      background-color: #E2EBFA;\n",
              "      box-shadow: 0px 1px 2px rgba(60, 64, 67, 0.3), 0px 1px 3px 1px rgba(60, 64, 67, 0.15);\n",
              "      fill: #174EA6;\n",
              "    }\n",
              "\n",
              "    [theme=dark] .colab-df-convert {\n",
              "      background-color: #3B4455;\n",
              "      fill: #D2E3FC;\n",
              "    }\n",
              "\n",
              "    [theme=dark] .colab-df-convert:hover {\n",
              "      background-color: #434B5C;\n",
              "      box-shadow: 0px 1px 3px 1px rgba(0, 0, 0, 0.15);\n",
              "      filter: drop-shadow(0px 1px 2px rgba(0, 0, 0, 0.3));\n",
              "      fill: #FFFFFF;\n",
              "    }\n",
              "  </style>\n",
              "\n",
              "      <script>\n",
              "        const buttonEl =\n",
              "          document.querySelector('#df-93681b51-a064-49a3-a129-f8171e7a7487 button.colab-df-convert');\n",
              "        buttonEl.style.display =\n",
              "          google.colab.kernel.accessAllowed ? 'block' : 'none';\n",
              "\n",
              "        async function convertToInteractive(key) {\n",
              "          const element = document.querySelector('#df-93681b51-a064-49a3-a129-f8171e7a7487');\n",
              "          const dataTable =\n",
              "            await google.colab.kernel.invokeFunction('convertToInteractive',\n",
              "                                                     [key], {});\n",
              "          if (!dataTable) return;\n",
              "\n",
              "          const docLinkHtml = 'Like what you see? Visit the ' +\n",
              "            '<a target=\"_blank\" href=https://colab.research.google.com/notebooks/data_table.ipynb>data table notebook</a>'\n",
              "            + ' to learn more about interactive tables.';\n",
              "          element.innerHTML = '';\n",
              "          dataTable['output_type'] = 'display_data';\n",
              "          await google.colab.output.renderOutput(dataTable, element);\n",
              "          const docLink = document.createElement('div');\n",
              "          docLink.innerHTML = docLinkHtml;\n",
              "          element.appendChild(docLink);\n",
              "        }\n",
              "      </script>\n",
              "    </div>\n",
              "  </div>\n",
              "  "
            ],
            "text/plain": [
              "        age  time_in_hospital  num_lab_procedures  num_procedures  \\\n",
              "1        20                 3                  59               0   \n",
              "2        35                 2                  11               5   \n",
              "3        50                 2                  44               1   \n",
              "4        65                 1                  51               0   \n",
              "5        80                 3                  31               6   \n",
              "...     ...               ...                 ...             ...   \n",
              "101761  110                 3                  51               0   \n",
              "101762  125                 5                  33               3   \n",
              "101763  110                 1                  53               0   \n",
              "101764  125                10                  45               2   \n",
              "101765  110                 6                  13               3   \n",
              "\n",
              "        num_medications  number_outpatient  number_emergency  \\\n",
              "1                    18                  0                 0   \n",
              "2                    13                  2                 0   \n",
              "3                    16                  0                 0   \n",
              "4                     8                  0                 0   \n",
              "5                    16                  0                 0   \n",
              "...                 ...                ...               ...   \n",
              "101761               16                  0                 0   \n",
              "101762               18                  0                 0   \n",
              "101763                9                  1                 0   \n",
              "101764               21                  0                 0   \n",
              "101765                3                  0                 0   \n",
              "\n",
              "        number_inpatient  number_diagnoses  \n",
              "1                      0                 9  \n",
              "2                      1                 6  \n",
              "3                      0                 7  \n",
              "4                      0                 5  \n",
              "5                      0                 9  \n",
              "...                  ...               ...  \n",
              "101761                 0                 9  \n",
              "101762                 1                 9  \n",
              "101763                 0                13  \n",
              "101764                 1                 9  \n",
              "101765                 0                 9  \n",
              "\n",
              "[98052 rows x 9 columns]"
            ]
          },
          "execution_count": 47,
          "metadata": {},
          "output_type": "execute_result"
        }
      ],
      "source": [
        "df_num"
      ]
    },
    {
      "cell_type": "markdown",
      "id": "5043768b",
      "metadata": {
        "id": "5043768b"
      },
      "source": [
        "Сейчас можно временно удалить из исходной таблицы все количественные признаки. После обработки категориальных признаков, можно будет объединить всё обратно в единую таблицу"
      ]
    },
    {
      "cell_type": "code",
      "execution_count": 48,
      "id": "feede5ba",
      "metadata": {
        "id": "feede5ba"
      },
      "outputs": [],
      "source": [
        "data_raw.drop(df_num, axis=1, inplace=True)"
      ]
    },
    {
      "cell_type": "markdown",
      "id": "c6711a33",
      "metadata": {
        "id": "c6711a33"
      },
      "source": [
        "### Предварительная категоризация заболеваний"
      ]
    },
    {
      "cell_type": "code",
      "execution_count": 49,
      "id": "da306dd4",
      "metadata": {
        "colab": {
          "base_uri": "https://localhost:8080/"
        },
        "id": "da306dd4",
        "outputId": "d1950ef5-db23-4056-9021-af57dbb66414"
      },
      "outputs": [
        {
          "data": {
            "text/plain": [
              "713"
            ]
          },
          "execution_count": 49,
          "metadata": {},
          "output_type": "execute_result"
        }
      ],
      "source": [
        "len(data_raw['diag_1'].unique())"
      ]
    },
    {
      "cell_type": "code",
      "execution_count": 50,
      "id": "16b833bb",
      "metadata": {
        "colab": {
          "base_uri": "https://localhost:8080/"
        },
        "id": "16b833bb",
        "outputId": "39be3c4f-14e6-413e-f022-764fee7722e7"
      },
      "outputs": [
        {
          "data": {
            "text/plain": [
              "740"
            ]
          },
          "execution_count": 50,
          "metadata": {},
          "output_type": "execute_result"
        }
      ],
      "source": [
        "len(data_raw['diag_2'].unique())"
      ]
    },
    {
      "cell_type": "code",
      "execution_count": 51,
      "id": "0fe80f20",
      "metadata": {
        "colab": {
          "base_uri": "https://localhost:8080/"
        },
        "id": "0fe80f20",
        "outputId": "6dec6447-6774-499f-d8b5-c499a352a491"
      },
      "outputs": [
        {
          "data": {
            "text/plain": [
              "786"
            ]
          },
          "execution_count": 51,
          "metadata": {},
          "output_type": "execute_result"
        }
      ],
      "source": [
        "len(data_raw['diag_3'].unique())"
      ]
    },
    {
      "cell_type": "markdown",
      "id": "81fb0348",
      "metadata": {
        "id": "81fb0348"
      },
      "source": [
        "Для признаков _diag_1_, _diag_2_, _diag_3_ слишком много уникальных значений (>700). Т.к. эти признаки обозначают диагноз (заболевание), то имеет смысл сгруппировать эти болезни в следующие категории:\n",
        "\n",
        "* ___Circulatory___ - Заболевания системы кровообращения (коды МКБ9: __390–459__, __785__)\n",
        "* ___Respiratory___ - Заболевания дыхательной системы (коды МКБ9: __460–519__, __786__)\n",
        "* ___Digestive___ - Заболевания пищеварительной системы (коды МКБ9: __520–579__, __787__)\n",
        "* ___Diabetes___ - Сахарный диабет (коды МКБ9: __250.xx__)\n",
        "* ___Injury___ - Травмы и отравления (коды МКБ9: __800–999__)\n",
        "* ___Musculoskeletal___ - Заболевания опорно-двигательного аппарата и соединительной ткани (коды МКБ9: __710–739__)\n",
        "* ___Genitourinary___ - Заболевания мочеполовой системы (коды МКБ9: __580–629__, __788__)\n",
        "* ___Neoplasms___ - Новообразования (коды МКБ9: __140–239__)\n",
        "* ___Other___ - Другие заболевания, не принадлежащие ни одной из вышеперечисленных категорий"
      ]
    },
    {
      "cell_type": "markdown",
      "id": "7195929d",
      "metadata": {
        "id": "7195929d"
      },
      "source": [
        "Также, как и с числовыми признаками, скопируем часть исходной таблицы с признаками _diag_1_, _diag_2_, _diag_3_"
      ]
    },
    {
      "cell_type": "code",
      "execution_count": 52,
      "id": "62355782",
      "metadata": {
        "id": "62355782"
      },
      "outputs": [],
      "source": [
        "diags = ['diag_1', 'diag_2', 'diag_3']\n",
        "\n",
        "df_diags = data_raw[diags].copy()"
      ]
    },
    {
      "cell_type": "code",
      "execution_count": 53,
      "id": "579aa1e7",
      "metadata": {
        "id": "579aa1e7"
      },
      "outputs": [],
      "source": [
        "diag_categories = [\n",
        "    'Circulatory', \n",
        "    'Respiratory', \n",
        "    'Digestive', \n",
        "    'Diabetes', \n",
        "    'Injury', \n",
        "    'Musculoskeletal', \n",
        "    'Genitourinary', \n",
        "    'Neoplasms', \n",
        "    'Other'\n",
        "]\n",
        "\n",
        "for diag in diags:\n",
        "    df_diags[diag] = df_diags[diag].cat.set_categories(diag_categories)"
      ]
    },
    {
      "cell_type": "markdown",
      "id": "37297fb8",
      "metadata": {
        "id": "37297fb8"
      },
      "source": [
        "Для удобства можно ввести функцию, принимающую на вход код МКБ9 (ICD9), а на выходе возвращающую название категории заболевания. Но не смотря на то, что мы избавились от пропущенных значений, все же есть валидные коды, начинающиеся с _'E'_ и _'V'_. Эти заболевания должны быть отнесены к категории _'Other'_."
      ]
    },
    {
      "cell_type": "code",
      "execution_count": 54,
      "id": "3da0620c",
      "metadata": {
        "id": "3da0620c"
      },
      "outputs": [],
      "source": [
        "def get_diag_category(icd9_code: str) -> str:\n",
        "    if icd9_code[0] == 'E' or icd9_code[0] == 'V':\n",
        "        return 'Other'\n",
        "    \n",
        "    icd9_code = int(float(icd9_code))\n",
        "    \n",
        "    if 390 <= icd9_code <= 459 or icd9_code == 785:\n",
        "        return 'Circulatory'\n",
        "    if 460 <= icd9_code <= 519 or icd9_code == 786:\n",
        "        return 'Respiratory'\n",
        "    if 520 <= icd9_code <= 579 or icd9_code == 787:\n",
        "        return 'Digestive'\n",
        "    if icd9_code == 250:\n",
        "        return 'Diabetes'\n",
        "    if 800 <= icd9_code <= 999:\n",
        "        return 'Injury'\n",
        "    if 710 <= icd9_code <= 739:\n",
        "        return 'Musculoskeletal'\n",
        "    if 580 <= icd9_code <= 629 or icd9_code == 788:\n",
        "        return 'Genitourinary'\n",
        "    if 140 <= icd9_code <= 239:\n",
        "        return 'Neoplasms'\n",
        "    \n",
        "    return 'Other'"
      ]
    },
    {
      "cell_type": "markdown",
      "id": "702a6ad1",
      "metadata": {
        "id": "702a6ad1"
      },
      "source": [
        "Перебирая все строки исходной таблицы, с помощью функции _get_diag_category()_ заполняем новую таблицу с признаками diag_1, diag_2, diag_3"
      ]
    },
    {
      "cell_type": "code",
      "execution_count": 55,
      "id": "6b58b696",
      "metadata": {
        "id": "6b58b696"
      },
      "outputs": [],
      "source": [
        "for index, row in data_raw.iterrows():\n",
        "    for diag in diags:\n",
        "        df_diags.loc[index, diag] = get_diag_category(data_raw.loc[index, diag])"
      ]
    },
    {
      "cell_type": "code",
      "execution_count": 56,
      "id": "f4496ba0",
      "metadata": {
        "colab": {
          "base_uri": "https://localhost:8080/",
          "height": 237
        },
        "id": "f4496ba0",
        "outputId": "00ce83f1-50e5-4b8d-c4a0-a60e33fc32a1"
      },
      "outputs": [
        {
          "data": {
            "text/html": [
              "\n",
              "  <div id=\"df-9cbb772b-d913-442c-877c-9ea5b520f4c6\">\n",
              "    <div class=\"colab-df-container\">\n",
              "      <div>\n",
              "<style scoped>\n",
              "    .dataframe tbody tr th:only-of-type {\n",
              "        vertical-align: middle;\n",
              "    }\n",
              "\n",
              "    .dataframe tbody tr th {\n",
              "        vertical-align: top;\n",
              "    }\n",
              "\n",
              "    .dataframe thead th {\n",
              "        text-align: right;\n",
              "    }\n",
              "</style>\n",
              "<table border=\"1\" class=\"dataframe\">\n",
              "  <thead>\n",
              "    <tr style=\"text-align: right;\">\n",
              "      <th></th>\n",
              "      <th>1</th>\n",
              "      <th>2</th>\n",
              "      <th>3</th>\n",
              "      <th>4</th>\n",
              "      <th>5</th>\n",
              "      <th>6</th>\n",
              "      <th>7</th>\n",
              "      <th>8</th>\n",
              "      <th>9</th>\n",
              "      <th>10</th>\n",
              "      <th>...</th>\n",
              "      <th>101756</th>\n",
              "      <th>101757</th>\n",
              "      <th>101758</th>\n",
              "      <th>101759</th>\n",
              "      <th>101760</th>\n",
              "      <th>101761</th>\n",
              "      <th>101762</th>\n",
              "      <th>101763</th>\n",
              "      <th>101764</th>\n",
              "      <th>101765</th>\n",
              "    </tr>\n",
              "  </thead>\n",
              "  <tbody>\n",
              "    <tr>\n",
              "      <th>diag_1</th>\n",
              "      <td>Other</td>\n",
              "      <td>Other</td>\n",
              "      <td>Other</td>\n",
              "      <td>Neoplasms</td>\n",
              "      <td>Circulatory</td>\n",
              "      <td>Circulatory</td>\n",
              "      <td>Circulatory</td>\n",
              "      <td>Circulatory</td>\n",
              "      <td>Circulatory</td>\n",
              "      <td>Diabetes</td>\n",
              "      <td>...</td>\n",
              "      <td>Injury</td>\n",
              "      <td>Respiratory</td>\n",
              "      <td>Other</td>\n",
              "      <td>Circulatory</td>\n",
              "      <td>Other</td>\n",
              "      <td>Diabetes</td>\n",
              "      <td>Digestive</td>\n",
              "      <td>Other</td>\n",
              "      <td>Injury</td>\n",
              "      <td>Digestive</td>\n",
              "    </tr>\n",
              "    <tr>\n",
              "      <th>diag_2</th>\n",
              "      <td>Diabetes</td>\n",
              "      <td>Diabetes</td>\n",
              "      <td>Diabetes</td>\n",
              "      <td>Neoplasms</td>\n",
              "      <td>Circulatory</td>\n",
              "      <td>Circulatory</td>\n",
              "      <td>Respiratory</td>\n",
              "      <td>Circulatory</td>\n",
              "      <td>Neoplasms</td>\n",
              "      <td>Circulatory</td>\n",
              "      <td>...</td>\n",
              "      <td>Genitourinary</td>\n",
              "      <td>Respiratory</td>\n",
              "      <td>Other</td>\n",
              "      <td>Other</td>\n",
              "      <td>Circulatory</td>\n",
              "      <td>Other</td>\n",
              "      <td>Other</td>\n",
              "      <td>Genitourinary</td>\n",
              "      <td>Other</td>\n",
              "      <td>Digestive</td>\n",
              "    </tr>\n",
              "    <tr>\n",
              "      <th>diag_3</th>\n",
              "      <td>Other</td>\n",
              "      <td>Other</td>\n",
              "      <td>Circulatory</td>\n",
              "      <td>Diabetes</td>\n",
              "      <td>Diabetes</td>\n",
              "      <td>Other</td>\n",
              "      <td>Diabetes</td>\n",
              "      <td>Other</td>\n",
              "      <td>Respiratory</td>\n",
              "      <td>Injury</td>\n",
              "      <td>...</td>\n",
              "      <td>Circulatory</td>\n",
              "      <td>Respiratory</td>\n",
              "      <td>Other</td>\n",
              "      <td>Diabetes</td>\n",
              "      <td>Circulatory</td>\n",
              "      <td>Circulatory</td>\n",
              "      <td>Digestive</td>\n",
              "      <td>Other</td>\n",
              "      <td>Injury</td>\n",
              "      <td>Digestive</td>\n",
              "    </tr>\n",
              "  </tbody>\n",
              "</table>\n",
              "<p>3 rows × 98052 columns</p>\n",
              "</div>\n",
              "      <button class=\"colab-df-convert\" onclick=\"convertToInteractive('df-9cbb772b-d913-442c-877c-9ea5b520f4c6')\"\n",
              "              title=\"Convert this dataframe to an interactive table.\"\n",
              "              style=\"display:none;\">\n",
              "        \n",
              "  <svg xmlns=\"http://www.w3.org/2000/svg\" height=\"24px\"viewBox=\"0 0 24 24\"\n",
              "       width=\"24px\">\n",
              "    <path d=\"M0 0h24v24H0V0z\" fill=\"none\"/>\n",
              "    <path d=\"M18.56 5.44l.94 2.06.94-2.06 2.06-.94-2.06-.94-.94-2.06-.94 2.06-2.06.94zm-11 1L8.5 8.5l.94-2.06 2.06-.94-2.06-.94L8.5 2.5l-.94 2.06-2.06.94zm10 10l.94 2.06.94-2.06 2.06-.94-2.06-.94-.94-2.06-.94 2.06-2.06.94z\"/><path d=\"M17.41 7.96l-1.37-1.37c-.4-.4-.92-.59-1.43-.59-.52 0-1.04.2-1.43.59L10.3 9.45l-7.72 7.72c-.78.78-.78 2.05 0 2.83L4 21.41c.39.39.9.59 1.41.59.51 0 1.02-.2 1.41-.59l7.78-7.78 2.81-2.81c.8-.78.8-2.07 0-2.86zM5.41 20L4 18.59l7.72-7.72 1.47 1.35L5.41 20z\"/>\n",
              "  </svg>\n",
              "      </button>\n",
              "      \n",
              "  <style>\n",
              "    .colab-df-container {\n",
              "      display:flex;\n",
              "      flex-wrap:wrap;\n",
              "      gap: 12px;\n",
              "    }\n",
              "\n",
              "    .colab-df-convert {\n",
              "      background-color: #E8F0FE;\n",
              "      border: none;\n",
              "      border-radius: 50%;\n",
              "      cursor: pointer;\n",
              "      display: none;\n",
              "      fill: #1967D2;\n",
              "      height: 32px;\n",
              "      padding: 0 0 0 0;\n",
              "      width: 32px;\n",
              "    }\n",
              "\n",
              "    .colab-df-convert:hover {\n",
              "      background-color: #E2EBFA;\n",
              "      box-shadow: 0px 1px 2px rgba(60, 64, 67, 0.3), 0px 1px 3px 1px rgba(60, 64, 67, 0.15);\n",
              "      fill: #174EA6;\n",
              "    }\n",
              "\n",
              "    [theme=dark] .colab-df-convert {\n",
              "      background-color: #3B4455;\n",
              "      fill: #D2E3FC;\n",
              "    }\n",
              "\n",
              "    [theme=dark] .colab-df-convert:hover {\n",
              "      background-color: #434B5C;\n",
              "      box-shadow: 0px 1px 3px 1px rgba(0, 0, 0, 0.15);\n",
              "      filter: drop-shadow(0px 1px 2px rgba(0, 0, 0, 0.3));\n",
              "      fill: #FFFFFF;\n",
              "    }\n",
              "  </style>\n",
              "\n",
              "      <script>\n",
              "        const buttonEl =\n",
              "          document.querySelector('#df-9cbb772b-d913-442c-877c-9ea5b520f4c6 button.colab-df-convert');\n",
              "        buttonEl.style.display =\n",
              "          google.colab.kernel.accessAllowed ? 'block' : 'none';\n",
              "\n",
              "        async function convertToInteractive(key) {\n",
              "          const element = document.querySelector('#df-9cbb772b-d913-442c-877c-9ea5b520f4c6');\n",
              "          const dataTable =\n",
              "            await google.colab.kernel.invokeFunction('convertToInteractive',\n",
              "                                                     [key], {});\n",
              "          if (!dataTable) return;\n",
              "\n",
              "          const docLinkHtml = 'Like what you see? Visit the ' +\n",
              "            '<a target=\"_blank\" href=https://colab.research.google.com/notebooks/data_table.ipynb>data table notebook</a>'\n",
              "            + ' to learn more about interactive tables.';\n",
              "          element.innerHTML = '';\n",
              "          dataTable['output_type'] = 'display_data';\n",
              "          await google.colab.output.renderOutput(dataTable, element);\n",
              "          const docLink = document.createElement('div');\n",
              "          docLink.innerHTML = docLinkHtml;\n",
              "          element.appendChild(docLink);\n",
              "        }\n",
              "      </script>\n",
              "    </div>\n",
              "  </div>\n",
              "  "
            ],
            "text/plain": [
              "          1         2            3          4            5            6       \\\n",
              "diag_1     Other     Other        Other  Neoplasms  Circulatory  Circulatory   \n",
              "diag_2  Diabetes  Diabetes     Diabetes  Neoplasms  Circulatory  Circulatory   \n",
              "diag_3     Other     Other  Circulatory   Diabetes     Diabetes        Other   \n",
              "\n",
              "             7            8            9            10      ...  \\\n",
              "diag_1  Circulatory  Circulatory  Circulatory     Diabetes  ...   \n",
              "diag_2  Respiratory  Circulatory    Neoplasms  Circulatory  ...   \n",
              "diag_3     Diabetes        Other  Respiratory       Injury  ...   \n",
              "\n",
              "               101756       101757 101758       101759       101760  \\\n",
              "diag_1         Injury  Respiratory  Other  Circulatory        Other   \n",
              "diag_2  Genitourinary  Respiratory  Other        Other  Circulatory   \n",
              "diag_3    Circulatory  Respiratory  Other     Diabetes  Circulatory   \n",
              "\n",
              "             101761     101762         101763  101764     101765  \n",
              "diag_1     Diabetes  Digestive          Other  Injury  Digestive  \n",
              "diag_2        Other      Other  Genitourinary   Other  Digestive  \n",
              "diag_3  Circulatory  Digestive          Other  Injury  Digestive  \n",
              "\n",
              "[3 rows x 98052 columns]"
            ]
          },
          "execution_count": 56,
          "metadata": {},
          "output_type": "execute_result"
        }
      ],
      "source": [
        "df_diags.T"
      ]
    },
    {
      "cell_type": "markdown",
      "id": "a9542081",
      "metadata": {
        "id": "a9542081"
      },
      "source": [
        "Т.к. мы разбили все заболевания на различные категории, а признаки могут принимать значения не всех кодов заболеваний, возникают неиспользуемые категории. От них следует избавиться, чтобы в последующем (при кодировании) уменьшить размерности векторов."
      ]
    },
    {
      "cell_type": "code",
      "execution_count": 57,
      "id": "ebf019ef",
      "metadata": {
        "id": "ebf019ef"
      },
      "outputs": [],
      "source": [
        "for diag in diags:\n",
        "    df_diags[diag] = df_diags[diag].cat.remove_unused_categories()"
      ]
    },
    {
      "cell_type": "markdown",
      "id": "99676293",
      "metadata": {
        "id": "99676293"
      },
      "source": [
        "Теперь заменяем \"старые\" признаки _diag_1_, _diag_2_, _diag_3_ на их \"новые\" аналоги."
      ]
    },
    {
      "cell_type": "code",
      "execution_count": 58,
      "id": "cbd4e32e",
      "metadata": {
        "id": "cbd4e32e"
      },
      "outputs": [],
      "source": [
        "data_raw.drop(diags, axis=1, inplace=True)    # удаляем из исходной таблицы \"старые\" признаки diag_1, diag_2, diag_3\n",
        "data_raw = pd.concat([data_raw, df_diags], axis=1)  # добавляем новые признаки diag_1, diag_2, diag_3"
      ]
    },
    {
      "cell_type": "code",
      "execution_count": 59,
      "id": "663da42e",
      "metadata": {
        "colab": {
          "base_uri": "https://localhost:8080/",
          "height": 1000
        },
        "id": "663da42e",
        "outputId": "acee4546-3645-4f12-b45c-f5ed24758689"
      },
      "outputs": [
        {
          "data": {
            "text/html": [
              "\n",
              "  <div id=\"df-22dec32c-d5e3-44de-a1ea-023a305adc7a\">\n",
              "    <div class=\"colab-df-container\">\n",
              "      <div>\n",
              "<style scoped>\n",
              "    .dataframe tbody tr th:only-of-type {\n",
              "        vertical-align: middle;\n",
              "    }\n",
              "\n",
              "    .dataframe tbody tr th {\n",
              "        vertical-align: top;\n",
              "    }\n",
              "\n",
              "    .dataframe thead th {\n",
              "        text-align: right;\n",
              "    }\n",
              "</style>\n",
              "<table border=\"1\" class=\"dataframe\">\n",
              "  <thead>\n",
              "    <tr style=\"text-align: right;\">\n",
              "      <th></th>\n",
              "      <th>count</th>\n",
              "      <th>unique</th>\n",
              "      <th>top</th>\n",
              "      <th>freq</th>\n",
              "    </tr>\n",
              "  </thead>\n",
              "  <tbody>\n",
              "    <tr>\n",
              "      <th>race</th>\n",
              "      <td>98052</td>\n",
              "      <td>5</td>\n",
              "      <td>Caucasian</td>\n",
              "      <td>75079</td>\n",
              "    </tr>\n",
              "    <tr>\n",
              "      <th>gender</th>\n",
              "      <td>98052</td>\n",
              "      <td>2</td>\n",
              "      <td>Female</td>\n",
              "      <td>52833</td>\n",
              "    </tr>\n",
              "    <tr>\n",
              "      <th>admission_type</th>\n",
              "      <td>98052</td>\n",
              "      <td>7</td>\n",
              "      <td>Emergency</td>\n",
              "      <td>52178</td>\n",
              "    </tr>\n",
              "    <tr>\n",
              "      <th>discharge_disposition</th>\n",
              "      <td>98052</td>\n",
              "      <td>26</td>\n",
              "      <td>Discharged to home</td>\n",
              "      <td>57609</td>\n",
              "    </tr>\n",
              "    <tr>\n",
              "      <th>admission_source</th>\n",
              "      <td>98052</td>\n",
              "      <td>16</td>\n",
              "      <td>Emergency Room</td>\n",
              "      <td>55951</td>\n",
              "    </tr>\n",
              "    <tr>\n",
              "      <th>medical_specialty</th>\n",
              "      <td>98052</td>\n",
              "      <td>73</td>\n",
              "      <td>Not Available</td>\n",
              "      <td>48318</td>\n",
              "    </tr>\n",
              "    <tr>\n",
              "      <th>max_glu_serum</th>\n",
              "      <td>98052</td>\n",
              "      <td>4</td>\n",
              "      <td>None</td>\n",
              "      <td>92844</td>\n",
              "    </tr>\n",
              "    <tr>\n",
              "      <th>A1Cresult</th>\n",
              "      <td>98052</td>\n",
              "      <td>4</td>\n",
              "      <td>None</td>\n",
              "      <td>81859</td>\n",
              "    </tr>\n",
              "    <tr>\n",
              "      <th>metformin</th>\n",
              "      <td>98052</td>\n",
              "      <td>4</td>\n",
              "      <td>No</td>\n",
              "      <td>78807</td>\n",
              "    </tr>\n",
              "    <tr>\n",
              "      <th>repaglinide</th>\n",
              "      <td>98052</td>\n",
              "      <td>4</td>\n",
              "      <td>No</td>\n",
              "      <td>96529</td>\n",
              "    </tr>\n",
              "    <tr>\n",
              "      <th>nateglinide</th>\n",
              "      <td>98052</td>\n",
              "      <td>4</td>\n",
              "      <td>No</td>\n",
              "      <td>97361</td>\n",
              "    </tr>\n",
              "    <tr>\n",
              "      <th>chlorpropamide</th>\n",
              "      <td>98052</td>\n",
              "      <td>4</td>\n",
              "      <td>No</td>\n",
              "      <td>97969</td>\n",
              "    </tr>\n",
              "    <tr>\n",
              "      <th>glimepiride</th>\n",
              "      <td>98052</td>\n",
              "      <td>4</td>\n",
              "      <td>No</td>\n",
              "      <td>93065</td>\n",
              "    </tr>\n",
              "    <tr>\n",
              "      <th>acetohexamide</th>\n",
              "      <td>98052</td>\n",
              "      <td>2</td>\n",
              "      <td>No</td>\n",
              "      <td>98051</td>\n",
              "    </tr>\n",
              "    <tr>\n",
              "      <th>glipizide</th>\n",
              "      <td>98052</td>\n",
              "      <td>4</td>\n",
              "      <td>No</td>\n",
              "      <td>85769</td>\n",
              "    </tr>\n",
              "    <tr>\n",
              "      <th>glyburide</th>\n",
              "      <td>98052</td>\n",
              "      <td>4</td>\n",
              "      <td>No</td>\n",
              "      <td>87791</td>\n",
              "    </tr>\n",
              "    <tr>\n",
              "      <th>tolbutamide</th>\n",
              "      <td>98052</td>\n",
              "      <td>2</td>\n",
              "      <td>No</td>\n",
              "      <td>98030</td>\n",
              "    </tr>\n",
              "    <tr>\n",
              "      <th>pioglitazone</th>\n",
              "      <td>98052</td>\n",
              "      <td>4</td>\n",
              "      <td>No</td>\n",
              "      <td>90955</td>\n",
              "    </tr>\n",
              "    <tr>\n",
              "      <th>rosiglitazone</th>\n",
              "      <td>98052</td>\n",
              "      <td>4</td>\n",
              "      <td>No</td>\n",
              "      <td>91886</td>\n",
              "    </tr>\n",
              "    <tr>\n",
              "      <th>acarbose</th>\n",
              "      <td>98052</td>\n",
              "      <td>4</td>\n",
              "      <td>No</td>\n",
              "      <td>97753</td>\n",
              "    </tr>\n",
              "    <tr>\n",
              "      <th>miglitol</th>\n",
              "      <td>98052</td>\n",
              "      <td>4</td>\n",
              "      <td>No</td>\n",
              "      <td>98015</td>\n",
              "    </tr>\n",
              "    <tr>\n",
              "      <th>troglitazone</th>\n",
              "      <td>98052</td>\n",
              "      <td>2</td>\n",
              "      <td>No</td>\n",
              "      <td>98049</td>\n",
              "    </tr>\n",
              "    <tr>\n",
              "      <th>tolazamide</th>\n",
              "      <td>98052</td>\n",
              "      <td>3</td>\n",
              "      <td>No</td>\n",
              "      <td>98015</td>\n",
              "    </tr>\n",
              "    <tr>\n",
              "      <th>insulin</th>\n",
              "      <td>98052</td>\n",
              "      <td>4</td>\n",
              "      <td>No</td>\n",
              "      <td>45942</td>\n",
              "    </tr>\n",
              "    <tr>\n",
              "      <th>glyburide-metformin</th>\n",
              "      <td>98052</td>\n",
              "      <td>4</td>\n",
              "      <td>No</td>\n",
              "      <td>97383</td>\n",
              "    </tr>\n",
              "    <tr>\n",
              "      <th>glipizide-metformin</th>\n",
              "      <td>98052</td>\n",
              "      <td>2</td>\n",
              "      <td>No</td>\n",
              "      <td>98039</td>\n",
              "    </tr>\n",
              "    <tr>\n",
              "      <th>glimepiride-pioglitazone</th>\n",
              "      <td>98052</td>\n",
              "      <td>2</td>\n",
              "      <td>No</td>\n",
              "      <td>98051</td>\n",
              "    </tr>\n",
              "    <tr>\n",
              "      <th>metformin-pioglitazone</th>\n",
              "      <td>98052</td>\n",
              "      <td>2</td>\n",
              "      <td>No</td>\n",
              "      <td>98051</td>\n",
              "    </tr>\n",
              "    <tr>\n",
              "      <th>change</th>\n",
              "      <td>98052</td>\n",
              "      <td>2</td>\n",
              "      <td>No</td>\n",
              "      <td>52774</td>\n",
              "    </tr>\n",
              "    <tr>\n",
              "      <th>diabetesMed</th>\n",
              "      <td>98052</td>\n",
              "      <td>2</td>\n",
              "      <td>Yes</td>\n",
              "      <td>75350</td>\n",
              "    </tr>\n",
              "    <tr>\n",
              "      <th>readmitted</th>\n",
              "      <td>98052</td>\n",
              "      <td>2</td>\n",
              "      <td>NO</td>\n",
              "      <td>86986</td>\n",
              "    </tr>\n",
              "    <tr>\n",
              "      <th>diag_1</th>\n",
              "      <td>98052</td>\n",
              "      <td>9</td>\n",
              "      <td>Circulatory</td>\n",
              "      <td>29629</td>\n",
              "    </tr>\n",
              "    <tr>\n",
              "      <th>diag_2</th>\n",
              "      <td>98052</td>\n",
              "      <td>9</td>\n",
              "      <td>Circulatory</td>\n",
              "      <td>31103</td>\n",
              "    </tr>\n",
              "    <tr>\n",
              "      <th>diag_3</th>\n",
              "      <td>98052</td>\n",
              "      <td>9</td>\n",
              "      <td>Circulatory</td>\n",
              "      <td>29631</td>\n",
              "    </tr>\n",
              "  </tbody>\n",
              "</table>\n",
              "</div>\n",
              "      <button class=\"colab-df-convert\" onclick=\"convertToInteractive('df-22dec32c-d5e3-44de-a1ea-023a305adc7a')\"\n",
              "              title=\"Convert this dataframe to an interactive table.\"\n",
              "              style=\"display:none;\">\n",
              "        \n",
              "  <svg xmlns=\"http://www.w3.org/2000/svg\" height=\"24px\"viewBox=\"0 0 24 24\"\n",
              "       width=\"24px\">\n",
              "    <path d=\"M0 0h24v24H0V0z\" fill=\"none\"/>\n",
              "    <path d=\"M18.56 5.44l.94 2.06.94-2.06 2.06-.94-2.06-.94-.94-2.06-.94 2.06-2.06.94zm-11 1L8.5 8.5l.94-2.06 2.06-.94-2.06-.94L8.5 2.5l-.94 2.06-2.06.94zm10 10l.94 2.06.94-2.06 2.06-.94-2.06-.94-.94-2.06-.94 2.06-2.06.94z\"/><path d=\"M17.41 7.96l-1.37-1.37c-.4-.4-.92-.59-1.43-.59-.52 0-1.04.2-1.43.59L10.3 9.45l-7.72 7.72c-.78.78-.78 2.05 0 2.83L4 21.41c.39.39.9.59 1.41.59.51 0 1.02-.2 1.41-.59l7.78-7.78 2.81-2.81c.8-.78.8-2.07 0-2.86zM5.41 20L4 18.59l7.72-7.72 1.47 1.35L5.41 20z\"/>\n",
              "  </svg>\n",
              "      </button>\n",
              "      \n",
              "  <style>\n",
              "    .colab-df-container {\n",
              "      display:flex;\n",
              "      flex-wrap:wrap;\n",
              "      gap: 12px;\n",
              "    }\n",
              "\n",
              "    .colab-df-convert {\n",
              "      background-color: #E8F0FE;\n",
              "      border: none;\n",
              "      border-radius: 50%;\n",
              "      cursor: pointer;\n",
              "      display: none;\n",
              "      fill: #1967D2;\n",
              "      height: 32px;\n",
              "      padding: 0 0 0 0;\n",
              "      width: 32px;\n",
              "    }\n",
              "\n",
              "    .colab-df-convert:hover {\n",
              "      background-color: #E2EBFA;\n",
              "      box-shadow: 0px 1px 2px rgba(60, 64, 67, 0.3), 0px 1px 3px 1px rgba(60, 64, 67, 0.15);\n",
              "      fill: #174EA6;\n",
              "    }\n",
              "\n",
              "    [theme=dark] .colab-df-convert {\n",
              "      background-color: #3B4455;\n",
              "      fill: #D2E3FC;\n",
              "    }\n",
              "\n",
              "    [theme=dark] .colab-df-convert:hover {\n",
              "      background-color: #434B5C;\n",
              "      box-shadow: 0px 1px 3px 1px rgba(0, 0, 0, 0.15);\n",
              "      filter: drop-shadow(0px 1px 2px rgba(0, 0, 0, 0.3));\n",
              "      fill: #FFFFFF;\n",
              "    }\n",
              "  </style>\n",
              "\n",
              "      <script>\n",
              "        const buttonEl =\n",
              "          document.querySelector('#df-22dec32c-d5e3-44de-a1ea-023a305adc7a button.colab-df-convert');\n",
              "        buttonEl.style.display =\n",
              "          google.colab.kernel.accessAllowed ? 'block' : 'none';\n",
              "\n",
              "        async function convertToInteractive(key) {\n",
              "          const element = document.querySelector('#df-22dec32c-d5e3-44de-a1ea-023a305adc7a');\n",
              "          const dataTable =\n",
              "            await google.colab.kernel.invokeFunction('convertToInteractive',\n",
              "                                                     [key], {});\n",
              "          if (!dataTable) return;\n",
              "\n",
              "          const docLinkHtml = 'Like what you see? Visit the ' +\n",
              "            '<a target=\"_blank\" href=https://colab.research.google.com/notebooks/data_table.ipynb>data table notebook</a>'\n",
              "            + ' to learn more about interactive tables.';\n",
              "          element.innerHTML = '';\n",
              "          dataTable['output_type'] = 'display_data';\n",
              "          await google.colab.output.renderOutput(dataTable, element);\n",
              "          const docLink = document.createElement('div');\n",
              "          docLink.innerHTML = docLinkHtml;\n",
              "          element.appendChild(docLink);\n",
              "        }\n",
              "      </script>\n",
              "    </div>\n",
              "  </div>\n",
              "  "
            ],
            "text/plain": [
              "                          count unique                 top   freq\n",
              "race                      98052      5           Caucasian  75079\n",
              "gender                    98052      2              Female  52833\n",
              "admission_type            98052      7           Emergency  52178\n",
              "discharge_disposition     98052     26  Discharged to home  57609\n",
              "admission_source          98052     16      Emergency Room  55951\n",
              "medical_specialty         98052     73       Not Available  48318\n",
              "max_glu_serum             98052      4                None  92844\n",
              "A1Cresult                 98052      4                None  81859\n",
              "metformin                 98052      4                  No  78807\n",
              "repaglinide               98052      4                  No  96529\n",
              "nateglinide               98052      4                  No  97361\n",
              "chlorpropamide            98052      4                  No  97969\n",
              "glimepiride               98052      4                  No  93065\n",
              "acetohexamide             98052      2                  No  98051\n",
              "glipizide                 98052      4                  No  85769\n",
              "glyburide                 98052      4                  No  87791\n",
              "tolbutamide               98052      2                  No  98030\n",
              "pioglitazone              98052      4                  No  90955\n",
              "rosiglitazone             98052      4                  No  91886\n",
              "acarbose                  98052      4                  No  97753\n",
              "miglitol                  98052      4                  No  98015\n",
              "troglitazone              98052      2                  No  98049\n",
              "tolazamide                98052      3                  No  98015\n",
              "insulin                   98052      4                  No  45942\n",
              "glyburide-metformin       98052      4                  No  97383\n",
              "glipizide-metformin       98052      2                  No  98039\n",
              "glimepiride-pioglitazone  98052      2                  No  98051\n",
              "metformin-pioglitazone    98052      2                  No  98051\n",
              "change                    98052      2                  No  52774\n",
              "diabetesMed               98052      2                 Yes  75350\n",
              "readmitted                98052      2                  NO  86986\n",
              "diag_1                    98052      9         Circulatory  29629\n",
              "diag_2                    98052      9         Circulatory  31103\n",
              "diag_3                    98052      9         Circulatory  29631"
            ]
          },
          "execution_count": 59,
          "metadata": {},
          "output_type": "execute_result"
        }
      ],
      "source": [
        "data_raw.describe(include=['category']).T"
      ]
    },
    {
      "cell_type": "markdown",
      "id": "c4205e4b",
      "metadata": {
        "id": "c4205e4b"
      },
      "source": [
        "### Кодирование номинальных  признаков"
      ]
    },
    {
      "cell_type": "markdown",
      "id": "2fb6e1f5",
      "metadata": {
        "id": "2fb6e1f5"
      },
      "source": [
        "Сначала все бинарные признаки заменим на числовые (0 и 1)"
      ]
    },
    {
      "cell_type": "code",
      "execution_count": 60,
      "id": "b35e254d",
      "metadata": {
        "id": "b35e254d"
      },
      "outputs": [],
      "source": [
        "cat_columns = data_raw.select_dtypes(['category'])\n",
        "\n",
        "for column in cat_columns:\n",
        "    if data_raw[column].nunique() == 2:\n",
        "        data_raw[column] = pd.factorize(data_raw[column])[0]"
      ]
    },
    {
      "cell_type": "code",
      "execution_count": 61,
      "id": "e6935a43",
      "metadata": {
        "colab": {
          "base_uri": "https://localhost:8080/",
          "height": 802
        },
        "id": "e6935a43",
        "outputId": "d4c0b99a-9256-4541-cf8f-bcf1c79caaa9"
      },
      "outputs": [
        {
          "data": {
            "text/html": [
              "\n",
              "  <div id=\"df-27bc7842-0974-4b43-a180-b85b674a1ecd\">\n",
              "    <div class=\"colab-df-container\">\n",
              "      <div>\n",
              "<style scoped>\n",
              "    .dataframe tbody tr th:only-of-type {\n",
              "        vertical-align: middle;\n",
              "    }\n",
              "\n",
              "    .dataframe tbody tr th {\n",
              "        vertical-align: top;\n",
              "    }\n",
              "\n",
              "    .dataframe thead th {\n",
              "        text-align: right;\n",
              "    }\n",
              "</style>\n",
              "<table border=\"1\" class=\"dataframe\">\n",
              "  <thead>\n",
              "    <tr style=\"text-align: right;\">\n",
              "      <th></th>\n",
              "      <th>count</th>\n",
              "      <th>unique</th>\n",
              "      <th>top</th>\n",
              "      <th>freq</th>\n",
              "    </tr>\n",
              "  </thead>\n",
              "  <tbody>\n",
              "    <tr>\n",
              "      <th>race</th>\n",
              "      <td>98052</td>\n",
              "      <td>5</td>\n",
              "      <td>Caucasian</td>\n",
              "      <td>75079</td>\n",
              "    </tr>\n",
              "    <tr>\n",
              "      <th>admission_type</th>\n",
              "      <td>98052</td>\n",
              "      <td>7</td>\n",
              "      <td>Emergency</td>\n",
              "      <td>52178</td>\n",
              "    </tr>\n",
              "    <tr>\n",
              "      <th>discharge_disposition</th>\n",
              "      <td>98052</td>\n",
              "      <td>26</td>\n",
              "      <td>Discharged to home</td>\n",
              "      <td>57609</td>\n",
              "    </tr>\n",
              "    <tr>\n",
              "      <th>admission_source</th>\n",
              "      <td>98052</td>\n",
              "      <td>16</td>\n",
              "      <td>Emergency Room</td>\n",
              "      <td>55951</td>\n",
              "    </tr>\n",
              "    <tr>\n",
              "      <th>medical_specialty</th>\n",
              "      <td>98052</td>\n",
              "      <td>73</td>\n",
              "      <td>Not Available</td>\n",
              "      <td>48318</td>\n",
              "    </tr>\n",
              "    <tr>\n",
              "      <th>max_glu_serum</th>\n",
              "      <td>98052</td>\n",
              "      <td>4</td>\n",
              "      <td>None</td>\n",
              "      <td>92844</td>\n",
              "    </tr>\n",
              "    <tr>\n",
              "      <th>A1Cresult</th>\n",
              "      <td>98052</td>\n",
              "      <td>4</td>\n",
              "      <td>None</td>\n",
              "      <td>81859</td>\n",
              "    </tr>\n",
              "    <tr>\n",
              "      <th>metformin</th>\n",
              "      <td>98052</td>\n",
              "      <td>4</td>\n",
              "      <td>No</td>\n",
              "      <td>78807</td>\n",
              "    </tr>\n",
              "    <tr>\n",
              "      <th>repaglinide</th>\n",
              "      <td>98052</td>\n",
              "      <td>4</td>\n",
              "      <td>No</td>\n",
              "      <td>96529</td>\n",
              "    </tr>\n",
              "    <tr>\n",
              "      <th>nateglinide</th>\n",
              "      <td>98052</td>\n",
              "      <td>4</td>\n",
              "      <td>No</td>\n",
              "      <td>97361</td>\n",
              "    </tr>\n",
              "    <tr>\n",
              "      <th>chlorpropamide</th>\n",
              "      <td>98052</td>\n",
              "      <td>4</td>\n",
              "      <td>No</td>\n",
              "      <td>97969</td>\n",
              "    </tr>\n",
              "    <tr>\n",
              "      <th>glimepiride</th>\n",
              "      <td>98052</td>\n",
              "      <td>4</td>\n",
              "      <td>No</td>\n",
              "      <td>93065</td>\n",
              "    </tr>\n",
              "    <tr>\n",
              "      <th>glipizide</th>\n",
              "      <td>98052</td>\n",
              "      <td>4</td>\n",
              "      <td>No</td>\n",
              "      <td>85769</td>\n",
              "    </tr>\n",
              "    <tr>\n",
              "      <th>glyburide</th>\n",
              "      <td>98052</td>\n",
              "      <td>4</td>\n",
              "      <td>No</td>\n",
              "      <td>87791</td>\n",
              "    </tr>\n",
              "    <tr>\n",
              "      <th>pioglitazone</th>\n",
              "      <td>98052</td>\n",
              "      <td>4</td>\n",
              "      <td>No</td>\n",
              "      <td>90955</td>\n",
              "    </tr>\n",
              "    <tr>\n",
              "      <th>rosiglitazone</th>\n",
              "      <td>98052</td>\n",
              "      <td>4</td>\n",
              "      <td>No</td>\n",
              "      <td>91886</td>\n",
              "    </tr>\n",
              "    <tr>\n",
              "      <th>acarbose</th>\n",
              "      <td>98052</td>\n",
              "      <td>4</td>\n",
              "      <td>No</td>\n",
              "      <td>97753</td>\n",
              "    </tr>\n",
              "    <tr>\n",
              "      <th>miglitol</th>\n",
              "      <td>98052</td>\n",
              "      <td>4</td>\n",
              "      <td>No</td>\n",
              "      <td>98015</td>\n",
              "    </tr>\n",
              "    <tr>\n",
              "      <th>tolazamide</th>\n",
              "      <td>98052</td>\n",
              "      <td>3</td>\n",
              "      <td>No</td>\n",
              "      <td>98015</td>\n",
              "    </tr>\n",
              "    <tr>\n",
              "      <th>insulin</th>\n",
              "      <td>98052</td>\n",
              "      <td>4</td>\n",
              "      <td>No</td>\n",
              "      <td>45942</td>\n",
              "    </tr>\n",
              "    <tr>\n",
              "      <th>glyburide-metformin</th>\n",
              "      <td>98052</td>\n",
              "      <td>4</td>\n",
              "      <td>No</td>\n",
              "      <td>97383</td>\n",
              "    </tr>\n",
              "    <tr>\n",
              "      <th>diag_1</th>\n",
              "      <td>98052</td>\n",
              "      <td>9</td>\n",
              "      <td>Circulatory</td>\n",
              "      <td>29629</td>\n",
              "    </tr>\n",
              "    <tr>\n",
              "      <th>diag_2</th>\n",
              "      <td>98052</td>\n",
              "      <td>9</td>\n",
              "      <td>Circulatory</td>\n",
              "      <td>31103</td>\n",
              "    </tr>\n",
              "    <tr>\n",
              "      <th>diag_3</th>\n",
              "      <td>98052</td>\n",
              "      <td>9</td>\n",
              "      <td>Circulatory</td>\n",
              "      <td>29631</td>\n",
              "    </tr>\n",
              "  </tbody>\n",
              "</table>\n",
              "</div>\n",
              "      <button class=\"colab-df-convert\" onclick=\"convertToInteractive('df-27bc7842-0974-4b43-a180-b85b674a1ecd')\"\n",
              "              title=\"Convert this dataframe to an interactive table.\"\n",
              "              style=\"display:none;\">\n",
              "        \n",
              "  <svg xmlns=\"http://www.w3.org/2000/svg\" height=\"24px\"viewBox=\"0 0 24 24\"\n",
              "       width=\"24px\">\n",
              "    <path d=\"M0 0h24v24H0V0z\" fill=\"none\"/>\n",
              "    <path d=\"M18.56 5.44l.94 2.06.94-2.06 2.06-.94-2.06-.94-.94-2.06-.94 2.06-2.06.94zm-11 1L8.5 8.5l.94-2.06 2.06-.94-2.06-.94L8.5 2.5l-.94 2.06-2.06.94zm10 10l.94 2.06.94-2.06 2.06-.94-2.06-.94-.94-2.06-.94 2.06-2.06.94z\"/><path d=\"M17.41 7.96l-1.37-1.37c-.4-.4-.92-.59-1.43-.59-.52 0-1.04.2-1.43.59L10.3 9.45l-7.72 7.72c-.78.78-.78 2.05 0 2.83L4 21.41c.39.39.9.59 1.41.59.51 0 1.02-.2 1.41-.59l7.78-7.78 2.81-2.81c.8-.78.8-2.07 0-2.86zM5.41 20L4 18.59l7.72-7.72 1.47 1.35L5.41 20z\"/>\n",
              "  </svg>\n",
              "      </button>\n",
              "      \n",
              "  <style>\n",
              "    .colab-df-container {\n",
              "      display:flex;\n",
              "      flex-wrap:wrap;\n",
              "      gap: 12px;\n",
              "    }\n",
              "\n",
              "    .colab-df-convert {\n",
              "      background-color: #E8F0FE;\n",
              "      border: none;\n",
              "      border-radius: 50%;\n",
              "      cursor: pointer;\n",
              "      display: none;\n",
              "      fill: #1967D2;\n",
              "      height: 32px;\n",
              "      padding: 0 0 0 0;\n",
              "      width: 32px;\n",
              "    }\n",
              "\n",
              "    .colab-df-convert:hover {\n",
              "      background-color: #E2EBFA;\n",
              "      box-shadow: 0px 1px 2px rgba(60, 64, 67, 0.3), 0px 1px 3px 1px rgba(60, 64, 67, 0.15);\n",
              "      fill: #174EA6;\n",
              "    }\n",
              "\n",
              "    [theme=dark] .colab-df-convert {\n",
              "      background-color: #3B4455;\n",
              "      fill: #D2E3FC;\n",
              "    }\n",
              "\n",
              "    [theme=dark] .colab-df-convert:hover {\n",
              "      background-color: #434B5C;\n",
              "      box-shadow: 0px 1px 3px 1px rgba(0, 0, 0, 0.15);\n",
              "      filter: drop-shadow(0px 1px 2px rgba(0, 0, 0, 0.3));\n",
              "      fill: #FFFFFF;\n",
              "    }\n",
              "  </style>\n",
              "\n",
              "      <script>\n",
              "        const buttonEl =\n",
              "          document.querySelector('#df-27bc7842-0974-4b43-a180-b85b674a1ecd button.colab-df-convert');\n",
              "        buttonEl.style.display =\n",
              "          google.colab.kernel.accessAllowed ? 'block' : 'none';\n",
              "\n",
              "        async function convertToInteractive(key) {\n",
              "          const element = document.querySelector('#df-27bc7842-0974-4b43-a180-b85b674a1ecd');\n",
              "          const dataTable =\n",
              "            await google.colab.kernel.invokeFunction('convertToInteractive',\n",
              "                                                     [key], {});\n",
              "          if (!dataTable) return;\n",
              "\n",
              "          const docLinkHtml = 'Like what you see? Visit the ' +\n",
              "            '<a target=\"_blank\" href=https://colab.research.google.com/notebooks/data_table.ipynb>data table notebook</a>'\n",
              "            + ' to learn more about interactive tables.';\n",
              "          element.innerHTML = '';\n",
              "          dataTable['output_type'] = 'display_data';\n",
              "          await google.colab.output.renderOutput(dataTable, element);\n",
              "          const docLink = document.createElement('div');\n",
              "          docLink.innerHTML = docLinkHtml;\n",
              "          element.appendChild(docLink);\n",
              "        }\n",
              "      </script>\n",
              "    </div>\n",
              "  </div>\n",
              "  "
            ],
            "text/plain": [
              "                       count unique                 top   freq\n",
              "race                   98052      5           Caucasian  75079\n",
              "admission_type         98052      7           Emergency  52178\n",
              "discharge_disposition  98052     26  Discharged to home  57609\n",
              "admission_source       98052     16      Emergency Room  55951\n",
              "medical_specialty      98052     73       Not Available  48318\n",
              "max_glu_serum          98052      4                None  92844\n",
              "A1Cresult              98052      4                None  81859\n",
              "metformin              98052      4                  No  78807\n",
              "repaglinide            98052      4                  No  96529\n",
              "nateglinide            98052      4                  No  97361\n",
              "chlorpropamide         98052      4                  No  97969\n",
              "glimepiride            98052      4                  No  93065\n",
              "glipizide              98052      4                  No  85769\n",
              "glyburide              98052      4                  No  87791\n",
              "pioglitazone           98052      4                  No  90955\n",
              "rosiglitazone          98052      4                  No  91886\n",
              "acarbose               98052      4                  No  97753\n",
              "miglitol               98052      4                  No  98015\n",
              "tolazamide             98052      3                  No  98015\n",
              "insulin                98052      4                  No  45942\n",
              "glyburide-metformin    98052      4                  No  97383\n",
              "diag_1                 98052      9         Circulatory  29629\n",
              "diag_2                 98052      9         Circulatory  31103\n",
              "diag_3                 98052      9         Circulatory  29631"
            ]
          },
          "execution_count": 61,
          "metadata": {},
          "output_type": "execute_result"
        }
      ],
      "source": [
        "data_raw.describe(include=['category']).T"
      ]
    },
    {
      "cell_type": "markdown",
      "id": "d1877355",
      "metadata": {
        "id": "d1877355"
      },
      "source": [
        "Все признаки, кроме _discharge_disposition_, _admission_source_ и _medical_specialty_, содержат число уникальных значений >2 и <10, а, значит, для их кодирования логично применить метод бинаризации (one-hot encoding), предварительно убрав неиспользуемые категории"
      ]
    },
    {
      "cell_type": "code",
      "execution_count": 62,
      "id": "507c23b6",
      "metadata": {
        "id": "507c23b6"
      },
      "outputs": [],
      "source": [
        "cat_columns = data_raw.select_dtypes(['category'])\n",
        "\n",
        "for column in cat_columns:\n",
        "    if data_raw[column].nunique() < 10:\n",
        "        data_raw[column] = data_raw[column].cat.remove_unused_categories()  # убираю неиспользуемые категории\n",
        "        df_dummies = pd.get_dummies(data_raw[column], prefix=column)  # one-hot encoding\n",
        "        data_raw.drop(column, axis=1, inplace=True)                   # удаляем из исходной таблицы \"старые\" признаки\n",
        "        data_raw = pd.concat([data_raw, df_dummies], axis=1)                # добавляем бинаризованные (\"новые\") признаки"
      ]
    },
    {
      "cell_type": "code",
      "execution_count": 63,
      "id": "3788c995",
      "metadata": {
        "colab": {
          "base_uri": "https://localhost:8080/",
          "height": 424
        },
        "id": "3788c995",
        "outputId": "b642b030-cd5c-47f3-b8a5-dff25d27651e"
      },
      "outputs": [
        {
          "data": {
            "text/html": [
              "\n",
              "  <div id=\"df-952d37ca-9c94-4b04-9687-74af5666e2bc\">\n",
              "    <div class=\"colab-df-container\">\n",
              "      <div>\n",
              "<style scoped>\n",
              "    .dataframe tbody tr th:only-of-type {\n",
              "        vertical-align: middle;\n",
              "    }\n",
              "\n",
              "    .dataframe tbody tr th {\n",
              "        vertical-align: top;\n",
              "    }\n",
              "\n",
              "    .dataframe thead th {\n",
              "        text-align: right;\n",
              "    }\n",
              "</style>\n",
              "<table border=\"1\" class=\"dataframe\">\n",
              "  <thead>\n",
              "    <tr style=\"text-align: right;\">\n",
              "      <th></th>\n",
              "      <th>count</th>\n",
              "      <th>mean</th>\n",
              "      <th>std</th>\n",
              "      <th>min</th>\n",
              "      <th>25%</th>\n",
              "      <th>50%</th>\n",
              "      <th>75%</th>\n",
              "      <th>max</th>\n",
              "    </tr>\n",
              "  </thead>\n",
              "  <tbody>\n",
              "    <tr>\n",
              "      <th>gender</th>\n",
              "      <td>98052.0</td>\n",
              "      <td>0.461174</td>\n",
              "      <td>0.498493</td>\n",
              "      <td>0.0</td>\n",
              "      <td>0.0</td>\n",
              "      <td>0.0</td>\n",
              "      <td>1.0</td>\n",
              "      <td>1.0</td>\n",
              "    </tr>\n",
              "    <tr>\n",
              "      <th>acetohexamide</th>\n",
              "      <td>98052.0</td>\n",
              "      <td>0.000010</td>\n",
              "      <td>0.003194</td>\n",
              "      <td>0.0</td>\n",
              "      <td>0.0</td>\n",
              "      <td>0.0</td>\n",
              "      <td>0.0</td>\n",
              "      <td>1.0</td>\n",
              "    </tr>\n",
              "    <tr>\n",
              "      <th>tolbutamide</th>\n",
              "      <td>98052.0</td>\n",
              "      <td>0.000224</td>\n",
              "      <td>0.014977</td>\n",
              "      <td>0.0</td>\n",
              "      <td>0.0</td>\n",
              "      <td>0.0</td>\n",
              "      <td>0.0</td>\n",
              "      <td>1.0</td>\n",
              "    </tr>\n",
              "    <tr>\n",
              "      <th>troglitazone</th>\n",
              "      <td>98052.0</td>\n",
              "      <td>0.000031</td>\n",
              "      <td>0.005531</td>\n",
              "      <td>0.0</td>\n",
              "      <td>0.0</td>\n",
              "      <td>0.0</td>\n",
              "      <td>0.0</td>\n",
              "      <td>1.0</td>\n",
              "    </tr>\n",
              "    <tr>\n",
              "      <th>glipizide-metformin</th>\n",
              "      <td>98052.0</td>\n",
              "      <td>0.000133</td>\n",
              "      <td>0.011514</td>\n",
              "      <td>0.0</td>\n",
              "      <td>0.0</td>\n",
              "      <td>0.0</td>\n",
              "      <td>0.0</td>\n",
              "      <td>1.0</td>\n",
              "    </tr>\n",
              "    <tr>\n",
              "      <th>...</th>\n",
              "      <td>...</td>\n",
              "      <td>...</td>\n",
              "      <td>...</td>\n",
              "      <td>...</td>\n",
              "      <td>...</td>\n",
              "      <td>...</td>\n",
              "      <td>...</td>\n",
              "      <td>...</td>\n",
              "    </tr>\n",
              "    <tr>\n",
              "      <th>diag_3_Injury</th>\n",
              "      <td>98052.0</td>\n",
              "      <td>0.019275</td>\n",
              "      <td>0.137492</td>\n",
              "      <td>0.0</td>\n",
              "      <td>0.0</td>\n",
              "      <td>0.0</td>\n",
              "      <td>0.0</td>\n",
              "      <td>1.0</td>\n",
              "    </tr>\n",
              "    <tr>\n",
              "      <th>diag_3_Musculoskeletal</th>\n",
              "      <td>98052.0</td>\n",
              "      <td>0.018990</td>\n",
              "      <td>0.136490</td>\n",
              "      <td>0.0</td>\n",
              "      <td>0.0</td>\n",
              "      <td>0.0</td>\n",
              "      <td>0.0</td>\n",
              "      <td>1.0</td>\n",
              "    </tr>\n",
              "    <tr>\n",
              "      <th>diag_3_Genitourinary</th>\n",
              "      <td>98052.0</td>\n",
              "      <td>0.066567</td>\n",
              "      <td>0.249271</td>\n",
              "      <td>0.0</td>\n",
              "      <td>0.0</td>\n",
              "      <td>0.0</td>\n",
              "      <td>0.0</td>\n",
              "      <td>1.0</td>\n",
              "    </tr>\n",
              "    <tr>\n",
              "      <th>diag_3_Neoplasms</th>\n",
              "      <td>98052.0</td>\n",
              "      <td>0.018562</td>\n",
              "      <td>0.134971</td>\n",
              "      <td>0.0</td>\n",
              "      <td>0.0</td>\n",
              "      <td>0.0</td>\n",
              "      <td>0.0</td>\n",
              "      <td>1.0</td>\n",
              "    </tr>\n",
              "    <tr>\n",
              "      <th>diag_3_Other</th>\n",
              "      <td>98052.0</td>\n",
              "      <td>0.291437</td>\n",
              "      <td>0.454427</td>\n",
              "      <td>0.0</td>\n",
              "      <td>0.0</td>\n",
              "      <td>0.0</td>\n",
              "      <td>1.0</td>\n",
              "      <td>1.0</td>\n",
              "    </tr>\n",
              "  </tbody>\n",
              "</table>\n",
              "<p>112 rows × 8 columns</p>\n",
              "</div>\n",
              "      <button class=\"colab-df-convert\" onclick=\"convertToInteractive('df-952d37ca-9c94-4b04-9687-74af5666e2bc')\"\n",
              "              title=\"Convert this dataframe to an interactive table.\"\n",
              "              style=\"display:none;\">\n",
              "        \n",
              "  <svg xmlns=\"http://www.w3.org/2000/svg\" height=\"24px\"viewBox=\"0 0 24 24\"\n",
              "       width=\"24px\">\n",
              "    <path d=\"M0 0h24v24H0V0z\" fill=\"none\"/>\n",
              "    <path d=\"M18.56 5.44l.94 2.06.94-2.06 2.06-.94-2.06-.94-.94-2.06-.94 2.06-2.06.94zm-11 1L8.5 8.5l.94-2.06 2.06-.94-2.06-.94L8.5 2.5l-.94 2.06-2.06.94zm10 10l.94 2.06.94-2.06 2.06-.94-2.06-.94-.94-2.06-.94 2.06-2.06.94z\"/><path d=\"M17.41 7.96l-1.37-1.37c-.4-.4-.92-.59-1.43-.59-.52 0-1.04.2-1.43.59L10.3 9.45l-7.72 7.72c-.78.78-.78 2.05 0 2.83L4 21.41c.39.39.9.59 1.41.59.51 0 1.02-.2 1.41-.59l7.78-7.78 2.81-2.81c.8-.78.8-2.07 0-2.86zM5.41 20L4 18.59l7.72-7.72 1.47 1.35L5.41 20z\"/>\n",
              "  </svg>\n",
              "      </button>\n",
              "      \n",
              "  <style>\n",
              "    .colab-df-container {\n",
              "      display:flex;\n",
              "      flex-wrap:wrap;\n",
              "      gap: 12px;\n",
              "    }\n",
              "\n",
              "    .colab-df-convert {\n",
              "      background-color: #E8F0FE;\n",
              "      border: none;\n",
              "      border-radius: 50%;\n",
              "      cursor: pointer;\n",
              "      display: none;\n",
              "      fill: #1967D2;\n",
              "      height: 32px;\n",
              "      padding: 0 0 0 0;\n",
              "      width: 32px;\n",
              "    }\n",
              "\n",
              "    .colab-df-convert:hover {\n",
              "      background-color: #E2EBFA;\n",
              "      box-shadow: 0px 1px 2px rgba(60, 64, 67, 0.3), 0px 1px 3px 1px rgba(60, 64, 67, 0.15);\n",
              "      fill: #174EA6;\n",
              "    }\n",
              "\n",
              "    [theme=dark] .colab-df-convert {\n",
              "      background-color: #3B4455;\n",
              "      fill: #D2E3FC;\n",
              "    }\n",
              "\n",
              "    [theme=dark] .colab-df-convert:hover {\n",
              "      background-color: #434B5C;\n",
              "      box-shadow: 0px 1px 3px 1px rgba(0, 0, 0, 0.15);\n",
              "      filter: drop-shadow(0px 1px 2px rgba(0, 0, 0, 0.3));\n",
              "      fill: #FFFFFF;\n",
              "    }\n",
              "  </style>\n",
              "\n",
              "      <script>\n",
              "        const buttonEl =\n",
              "          document.querySelector('#df-952d37ca-9c94-4b04-9687-74af5666e2bc button.colab-df-convert');\n",
              "        buttonEl.style.display =\n",
              "          google.colab.kernel.accessAllowed ? 'block' : 'none';\n",
              "\n",
              "        async function convertToInteractive(key) {\n",
              "          const element = document.querySelector('#df-952d37ca-9c94-4b04-9687-74af5666e2bc');\n",
              "          const dataTable =\n",
              "            await google.colab.kernel.invokeFunction('convertToInteractive',\n",
              "                                                     [key], {});\n",
              "          if (!dataTable) return;\n",
              "\n",
              "          const docLinkHtml = 'Like what you see? Visit the ' +\n",
              "            '<a target=\"_blank\" href=https://colab.research.google.com/notebooks/data_table.ipynb>data table notebook</a>'\n",
              "            + ' to learn more about interactive tables.';\n",
              "          element.innerHTML = '';\n",
              "          dataTable['output_type'] = 'display_data';\n",
              "          await google.colab.output.renderOutput(dataTable, element);\n",
              "          const docLink = document.createElement('div');\n",
              "          docLink.innerHTML = docLinkHtml;\n",
              "          element.appendChild(docLink);\n",
              "        }\n",
              "      </script>\n",
              "    </div>\n",
              "  </div>\n",
              "  "
            ],
            "text/plain": [
              "                          count      mean       std  min  25%  50%  75%  max\n",
              "gender                  98052.0  0.461174  0.498493  0.0  0.0  0.0  1.0  1.0\n",
              "acetohexamide           98052.0  0.000010  0.003194  0.0  0.0  0.0  0.0  1.0\n",
              "tolbutamide             98052.0  0.000224  0.014977  0.0  0.0  0.0  0.0  1.0\n",
              "troglitazone            98052.0  0.000031  0.005531  0.0  0.0  0.0  0.0  1.0\n",
              "glipizide-metformin     98052.0  0.000133  0.011514  0.0  0.0  0.0  0.0  1.0\n",
              "...                         ...       ...       ...  ...  ...  ...  ...  ...\n",
              "diag_3_Injury           98052.0  0.019275  0.137492  0.0  0.0  0.0  0.0  1.0\n",
              "diag_3_Musculoskeletal  98052.0  0.018990  0.136490  0.0  0.0  0.0  0.0  1.0\n",
              "diag_3_Genitourinary    98052.0  0.066567  0.249271  0.0  0.0  0.0  0.0  1.0\n",
              "diag_3_Neoplasms        98052.0  0.018562  0.134971  0.0  0.0  0.0  0.0  1.0\n",
              "diag_3_Other            98052.0  0.291437  0.454427  0.0  0.0  0.0  1.0  1.0\n",
              "\n",
              "[112 rows x 8 columns]"
            ]
          },
          "execution_count": 63,
          "metadata": {},
          "output_type": "execute_result"
        }
      ],
      "source": [
        "data_raw.describe().T"
      ]
    },
    {
      "cell_type": "markdown",
      "id": "10560c53",
      "metadata": {
        "id": "10560c53"
      },
      "source": [
        "Признаки _discharge_disposition_, _admission_source_ и _medical_specialty_ содержат большое число уникальных значений, поэтому рассмотренные выше методы для кодирования не годятся. Для кодирования применим метод бинарного кодирования из библиотеки _category_encoders_"
      ]
    },
    {
      "cell_type": "markdown",
      "id": "ac661406",
      "metadata": {
        "id": "ac661406"
      },
      "source": [
        "Кодируем признак _discharge_disposition_ и заменяем \"старый\" признак \"новым\" кодированным."
      ]
    },
    {
      "cell_type": "code",
      "execution_count": 64,
      "id": "5cbca841",
      "metadata": {
        "colab": {
          "base_uri": "https://localhost:8080/"
        },
        "id": "5cbca841",
        "outputId": "d2b4d45b-ade6-4f95-a5a2-7f5d5885c7c4"
      },
      "outputs": [
        {
          "name": "stdout",
          "output_type": "stream",
          "text": [
            "<class 'pandas.core.frame.DataFrame'>\n",
            "Int64Index: 98052 entries, 1 to 101765\n",
            "Data columns (total 5 columns):\n",
            " #   Column                   Non-Null Count  Dtype\n",
            "---  ------                   --------------  -----\n",
            " 0   discharge_disposition_0  98052 non-null  int64\n",
            " 1   discharge_disposition_1  98052 non-null  int64\n",
            " 2   discharge_disposition_2  98052 non-null  int64\n",
            " 3   discharge_disposition_3  98052 non-null  int64\n",
            " 4   discharge_disposition_4  98052 non-null  int64\n",
            "dtypes: int64(5)\n",
            "memory usage: 4.5 MB\n"
          ]
        }
      ],
      "source": [
        "encoder = ce.BinaryEncoder(return_df=True)\n",
        "df_discharge_disposition = encoder.fit_transform(data_raw['discharge_disposition'])\n",
        "df_discharge_disposition.info()"
      ]
    },
    {
      "cell_type": "code",
      "execution_count": 65,
      "id": "1e53a94f",
      "metadata": {
        "id": "1e53a94f"
      },
      "outputs": [],
      "source": [
        "data_raw.drop(['discharge_disposition'], axis=1, inplace=True)\n",
        "data_raw = pd.concat([data_raw, df_discharge_disposition], axis=1)"
      ]
    },
    {
      "cell_type": "markdown",
      "id": "b40a96cd",
      "metadata": {
        "id": "b40a96cd"
      },
      "source": [
        "Кодируем признак _admission_source_ и заменяем \"старый\" признак \"новым\" кодированным."
      ]
    },
    {
      "cell_type": "code",
      "execution_count": 66,
      "id": "965e245a",
      "metadata": {
        "colab": {
          "base_uri": "https://localhost:8080/"
        },
        "id": "965e245a",
        "outputId": "2df02fa5-efdc-4c19-93be-4755adb56208"
      },
      "outputs": [
        {
          "name": "stdout",
          "output_type": "stream",
          "text": [
            "<class 'pandas.core.frame.DataFrame'>\n",
            "Int64Index: 98052 entries, 1 to 101765\n",
            "Data columns (total 5 columns):\n",
            " #   Column              Non-Null Count  Dtype\n",
            "---  ------              --------------  -----\n",
            " 0   admission_source_0  98052 non-null  int64\n",
            " 1   admission_source_1  98052 non-null  int64\n",
            " 2   admission_source_2  98052 non-null  int64\n",
            " 3   admission_source_3  98052 non-null  int64\n",
            " 4   admission_source_4  98052 non-null  int64\n",
            "dtypes: int64(5)\n",
            "memory usage: 4.5 MB\n"
          ]
        }
      ],
      "source": [
        "encoder = ce.BinaryEncoder(return_df=True)\n",
        "df_admission_source = encoder.fit_transform(data_raw['admission_source'])\n",
        "df_admission_source.info()"
      ]
    },
    {
      "cell_type": "code",
      "execution_count": 67,
      "id": "806502ce",
      "metadata": {
        "id": "806502ce"
      },
      "outputs": [],
      "source": [
        "data_raw.drop(['admission_source'], axis=1, inplace=True)\n",
        "data_raw = pd.concat([data_raw, df_admission_source], axis=1)"
      ]
    },
    {
      "cell_type": "markdown",
      "id": "b8681ddc",
      "metadata": {
        "id": "b8681ddc"
      },
      "source": [
        "Кодируем признак _medical_specialty_ и заменяем \"старый\" признак \"новым\" кодированным."
      ]
    },
    {
      "cell_type": "code",
      "execution_count": 68,
      "id": "dfdff342",
      "metadata": {
        "colab": {
          "base_uri": "https://localhost:8080/"
        },
        "id": "dfdff342",
        "outputId": "ceb4c245-8ad2-4f4f-973f-a46965e6af37"
      },
      "outputs": [
        {
          "name": "stdout",
          "output_type": "stream",
          "text": [
            "<class 'pandas.core.frame.DataFrame'>\n",
            "Int64Index: 98052 entries, 1 to 101765\n",
            "Data columns (total 7 columns):\n",
            " #   Column               Non-Null Count  Dtype\n",
            "---  ------               --------------  -----\n",
            " 0   medical_specialty_0  98052 non-null  int64\n",
            " 1   medical_specialty_1  98052 non-null  int64\n",
            " 2   medical_specialty_2  98052 non-null  int64\n",
            " 3   medical_specialty_3  98052 non-null  int64\n",
            " 4   medical_specialty_4  98052 non-null  int64\n",
            " 5   medical_specialty_5  98052 non-null  int64\n",
            " 6   medical_specialty_6  98052 non-null  int64\n",
            "dtypes: int64(7)\n",
            "memory usage: 6.0 MB\n"
          ]
        }
      ],
      "source": [
        "encoder = ce.BinaryEncoder(return_df=True)\n",
        "df_medical_specialty = encoder.fit_transform(data_raw['medical_specialty'])\n",
        "df_medical_specialty.info()"
      ]
    },
    {
      "cell_type": "code",
      "execution_count": 69,
      "id": "db52e284",
      "metadata": {
        "id": "db52e284"
      },
      "outputs": [],
      "source": [
        "data_raw.drop(['medical_specialty'], axis=1, inplace=True)\n",
        "data_raw = pd.concat([data_raw, df_medical_specialty], axis=1)"
      ]
    },
    {
      "cell_type": "code",
      "execution_count": 70,
      "id": "a9ecf0d9",
      "metadata": {
        "colab": {
          "base_uri": "https://localhost:8080/",
          "height": 411
        },
        "id": "a9ecf0d9",
        "outputId": "10e7ede5-07b9-4562-8f40-500a680965d6"
      },
      "outputs": [
        {
          "data": {
            "text/html": [
              "\n",
              "  <div id=\"df-fd9aabd1-b838-4b3e-8812-8d7df8da78c4\">\n",
              "    <div class=\"colab-df-container\">\n",
              "      <div>\n",
              "<style scoped>\n",
              "    .dataframe tbody tr th:only-of-type {\n",
              "        vertical-align: middle;\n",
              "    }\n",
              "\n",
              "    .dataframe tbody tr th {\n",
              "        vertical-align: top;\n",
              "    }\n",
              "\n",
              "    .dataframe thead th {\n",
              "        text-align: right;\n",
              "    }\n",
              "</style>\n",
              "<table border=\"1\" class=\"dataframe\">\n",
              "  <thead>\n",
              "    <tr style=\"text-align: right;\">\n",
              "      <th></th>\n",
              "      <th>gender</th>\n",
              "      <th>acetohexamide</th>\n",
              "      <th>tolbutamide</th>\n",
              "      <th>troglitazone</th>\n",
              "      <th>glipizide-metformin</th>\n",
              "      <th>glimepiride-pioglitazone</th>\n",
              "      <th>metformin-pioglitazone</th>\n",
              "      <th>change</th>\n",
              "      <th>diabetesMed</th>\n",
              "      <th>readmitted</th>\n",
              "      <th>...</th>\n",
              "      <th>admission_source_2</th>\n",
              "      <th>admission_source_3</th>\n",
              "      <th>admission_source_4</th>\n",
              "      <th>medical_specialty_0</th>\n",
              "      <th>medical_specialty_1</th>\n",
              "      <th>medical_specialty_2</th>\n",
              "      <th>medical_specialty_3</th>\n",
              "      <th>medical_specialty_4</th>\n",
              "      <th>medical_specialty_5</th>\n",
              "      <th>medical_specialty_6</th>\n",
              "    </tr>\n",
              "  </thead>\n",
              "  <tbody>\n",
              "    <tr>\n",
              "      <th>count</th>\n",
              "      <td>98052.000000</td>\n",
              "      <td>98052.000000</td>\n",
              "      <td>98052.000000</td>\n",
              "      <td>98052.000000</td>\n",
              "      <td>98052.000000</td>\n",
              "      <td>98052.000000</td>\n",
              "      <td>98052.000000</td>\n",
              "      <td>98052.000000</td>\n",
              "      <td>98052.000000</td>\n",
              "      <td>98052.000000</td>\n",
              "      <td>...</td>\n",
              "      <td>98052.000000</td>\n",
              "      <td>98052.000000</td>\n",
              "      <td>98052.000000</td>\n",
              "      <td>98052.000000</td>\n",
              "      <td>98052.000000</td>\n",
              "      <td>98052.000000</td>\n",
              "      <td>98052.000000</td>\n",
              "      <td>98052.000000</td>\n",
              "      <td>98052.000000</td>\n",
              "      <td>98052.000000</td>\n",
              "    </tr>\n",
              "    <tr>\n",
              "      <th>mean</th>\n",
              "      <td>0.461174</td>\n",
              "      <td>0.000010</td>\n",
              "      <td>0.000224</td>\n",
              "      <td>0.000031</td>\n",
              "      <td>0.000133</td>\n",
              "      <td>0.000010</td>\n",
              "      <td>0.000010</td>\n",
              "      <td>0.538225</td>\n",
              "      <td>0.231530</td>\n",
              "      <td>0.112858</td>\n",
              "      <td>...</td>\n",
              "      <td>0.318984</td>\n",
              "      <td>0.061702</td>\n",
              "      <td>0.678915</td>\n",
              "      <td>0.000938</td>\n",
              "      <td>0.032014</td>\n",
              "      <td>0.044456</td>\n",
              "      <td>0.154041</td>\n",
              "      <td>0.225136</td>\n",
              "      <td>0.277802</td>\n",
              "      <td>0.671450</td>\n",
              "    </tr>\n",
              "    <tr>\n",
              "      <th>std</th>\n",
              "      <td>0.498493</td>\n",
              "      <td>0.003194</td>\n",
              "      <td>0.014977</td>\n",
              "      <td>0.005531</td>\n",
              "      <td>0.011514</td>\n",
              "      <td>0.003194</td>\n",
              "      <td>0.003194</td>\n",
              "      <td>0.498539</td>\n",
              "      <td>0.421813</td>\n",
              "      <td>0.316421</td>\n",
              "      <td>...</td>\n",
              "      <td>0.466085</td>\n",
              "      <td>0.240615</td>\n",
              "      <td>0.466896</td>\n",
              "      <td>0.030617</td>\n",
              "      <td>0.176037</td>\n",
              "      <td>0.206107</td>\n",
              "      <td>0.360990</td>\n",
              "      <td>0.417674</td>\n",
              "      <td>0.447917</td>\n",
              "      <td>0.469688</td>\n",
              "    </tr>\n",
              "    <tr>\n",
              "      <th>min</th>\n",
              "      <td>0.000000</td>\n",
              "      <td>0.000000</td>\n",
              "      <td>0.000000</td>\n",
              "      <td>0.000000</td>\n",
              "      <td>0.000000</td>\n",
              "      <td>0.000000</td>\n",
              "      <td>0.000000</td>\n",
              "      <td>0.000000</td>\n",
              "      <td>0.000000</td>\n",
              "      <td>0.000000</td>\n",
              "      <td>...</td>\n",
              "      <td>0.000000</td>\n",
              "      <td>0.000000</td>\n",
              "      <td>0.000000</td>\n",
              "      <td>0.000000</td>\n",
              "      <td>0.000000</td>\n",
              "      <td>0.000000</td>\n",
              "      <td>0.000000</td>\n",
              "      <td>0.000000</td>\n",
              "      <td>0.000000</td>\n",
              "      <td>0.000000</td>\n",
              "    </tr>\n",
              "    <tr>\n",
              "      <th>25%</th>\n",
              "      <td>0.000000</td>\n",
              "      <td>0.000000</td>\n",
              "      <td>0.000000</td>\n",
              "      <td>0.000000</td>\n",
              "      <td>0.000000</td>\n",
              "      <td>0.000000</td>\n",
              "      <td>0.000000</td>\n",
              "      <td>0.000000</td>\n",
              "      <td>0.000000</td>\n",
              "      <td>0.000000</td>\n",
              "      <td>...</td>\n",
              "      <td>0.000000</td>\n",
              "      <td>0.000000</td>\n",
              "      <td>0.000000</td>\n",
              "      <td>0.000000</td>\n",
              "      <td>0.000000</td>\n",
              "      <td>0.000000</td>\n",
              "      <td>0.000000</td>\n",
              "      <td>0.000000</td>\n",
              "      <td>0.000000</td>\n",
              "      <td>0.000000</td>\n",
              "    </tr>\n",
              "    <tr>\n",
              "      <th>50%</th>\n",
              "      <td>0.000000</td>\n",
              "      <td>0.000000</td>\n",
              "      <td>0.000000</td>\n",
              "      <td>0.000000</td>\n",
              "      <td>0.000000</td>\n",
              "      <td>0.000000</td>\n",
              "      <td>0.000000</td>\n",
              "      <td>1.000000</td>\n",
              "      <td>0.000000</td>\n",
              "      <td>0.000000</td>\n",
              "      <td>...</td>\n",
              "      <td>0.000000</td>\n",
              "      <td>0.000000</td>\n",
              "      <td>1.000000</td>\n",
              "      <td>0.000000</td>\n",
              "      <td>0.000000</td>\n",
              "      <td>0.000000</td>\n",
              "      <td>0.000000</td>\n",
              "      <td>0.000000</td>\n",
              "      <td>0.000000</td>\n",
              "      <td>1.000000</td>\n",
              "    </tr>\n",
              "    <tr>\n",
              "      <th>75%</th>\n",
              "      <td>1.000000</td>\n",
              "      <td>0.000000</td>\n",
              "      <td>0.000000</td>\n",
              "      <td>0.000000</td>\n",
              "      <td>0.000000</td>\n",
              "      <td>0.000000</td>\n",
              "      <td>0.000000</td>\n",
              "      <td>1.000000</td>\n",
              "      <td>0.000000</td>\n",
              "      <td>0.000000</td>\n",
              "      <td>...</td>\n",
              "      <td>1.000000</td>\n",
              "      <td>0.000000</td>\n",
              "      <td>1.000000</td>\n",
              "      <td>0.000000</td>\n",
              "      <td>0.000000</td>\n",
              "      <td>0.000000</td>\n",
              "      <td>0.000000</td>\n",
              "      <td>0.000000</td>\n",
              "      <td>1.000000</td>\n",
              "      <td>1.000000</td>\n",
              "    </tr>\n",
              "    <tr>\n",
              "      <th>max</th>\n",
              "      <td>1.000000</td>\n",
              "      <td>1.000000</td>\n",
              "      <td>1.000000</td>\n",
              "      <td>1.000000</td>\n",
              "      <td>1.000000</td>\n",
              "      <td>1.000000</td>\n",
              "      <td>1.000000</td>\n",
              "      <td>1.000000</td>\n",
              "      <td>1.000000</td>\n",
              "      <td>1.000000</td>\n",
              "      <td>...</td>\n",
              "      <td>1.000000</td>\n",
              "      <td>1.000000</td>\n",
              "      <td>1.000000</td>\n",
              "      <td>1.000000</td>\n",
              "      <td>1.000000</td>\n",
              "      <td>1.000000</td>\n",
              "      <td>1.000000</td>\n",
              "      <td>1.000000</td>\n",
              "      <td>1.000000</td>\n",
              "      <td>1.000000</td>\n",
              "    </tr>\n",
              "  </tbody>\n",
              "</table>\n",
              "<p>8 rows × 129 columns</p>\n",
              "</div>\n",
              "      <button class=\"colab-df-convert\" onclick=\"convertToInteractive('df-fd9aabd1-b838-4b3e-8812-8d7df8da78c4')\"\n",
              "              title=\"Convert this dataframe to an interactive table.\"\n",
              "              style=\"display:none;\">\n",
              "        \n",
              "  <svg xmlns=\"http://www.w3.org/2000/svg\" height=\"24px\"viewBox=\"0 0 24 24\"\n",
              "       width=\"24px\">\n",
              "    <path d=\"M0 0h24v24H0V0z\" fill=\"none\"/>\n",
              "    <path d=\"M18.56 5.44l.94 2.06.94-2.06 2.06-.94-2.06-.94-.94-2.06-.94 2.06-2.06.94zm-11 1L8.5 8.5l.94-2.06 2.06-.94-2.06-.94L8.5 2.5l-.94 2.06-2.06.94zm10 10l.94 2.06.94-2.06 2.06-.94-2.06-.94-.94-2.06-.94 2.06-2.06.94z\"/><path d=\"M17.41 7.96l-1.37-1.37c-.4-.4-.92-.59-1.43-.59-.52 0-1.04.2-1.43.59L10.3 9.45l-7.72 7.72c-.78.78-.78 2.05 0 2.83L4 21.41c.39.39.9.59 1.41.59.51 0 1.02-.2 1.41-.59l7.78-7.78 2.81-2.81c.8-.78.8-2.07 0-2.86zM5.41 20L4 18.59l7.72-7.72 1.47 1.35L5.41 20z\"/>\n",
              "  </svg>\n",
              "      </button>\n",
              "      \n",
              "  <style>\n",
              "    .colab-df-container {\n",
              "      display:flex;\n",
              "      flex-wrap:wrap;\n",
              "      gap: 12px;\n",
              "    }\n",
              "\n",
              "    .colab-df-convert {\n",
              "      background-color: #E8F0FE;\n",
              "      border: none;\n",
              "      border-radius: 50%;\n",
              "      cursor: pointer;\n",
              "      display: none;\n",
              "      fill: #1967D2;\n",
              "      height: 32px;\n",
              "      padding: 0 0 0 0;\n",
              "      width: 32px;\n",
              "    }\n",
              "\n",
              "    .colab-df-convert:hover {\n",
              "      background-color: #E2EBFA;\n",
              "      box-shadow: 0px 1px 2px rgba(60, 64, 67, 0.3), 0px 1px 3px 1px rgba(60, 64, 67, 0.15);\n",
              "      fill: #174EA6;\n",
              "    }\n",
              "\n",
              "    [theme=dark] .colab-df-convert {\n",
              "      background-color: #3B4455;\n",
              "      fill: #D2E3FC;\n",
              "    }\n",
              "\n",
              "    [theme=dark] .colab-df-convert:hover {\n",
              "      background-color: #434B5C;\n",
              "      box-shadow: 0px 1px 3px 1px rgba(0, 0, 0, 0.15);\n",
              "      filter: drop-shadow(0px 1px 2px rgba(0, 0, 0, 0.3));\n",
              "      fill: #FFFFFF;\n",
              "    }\n",
              "  </style>\n",
              "\n",
              "      <script>\n",
              "        const buttonEl =\n",
              "          document.querySelector('#df-fd9aabd1-b838-4b3e-8812-8d7df8da78c4 button.colab-df-convert');\n",
              "        buttonEl.style.display =\n",
              "          google.colab.kernel.accessAllowed ? 'block' : 'none';\n",
              "\n",
              "        async function convertToInteractive(key) {\n",
              "          const element = document.querySelector('#df-fd9aabd1-b838-4b3e-8812-8d7df8da78c4');\n",
              "          const dataTable =\n",
              "            await google.colab.kernel.invokeFunction('convertToInteractive',\n",
              "                                                     [key], {});\n",
              "          if (!dataTable) return;\n",
              "\n",
              "          const docLinkHtml = 'Like what you see? Visit the ' +\n",
              "            '<a target=\"_blank\" href=https://colab.research.google.com/notebooks/data_table.ipynb>data table notebook</a>'\n",
              "            + ' to learn more about interactive tables.';\n",
              "          element.innerHTML = '';\n",
              "          dataTable['output_type'] = 'display_data';\n",
              "          await google.colab.output.renderOutput(dataTable, element);\n",
              "          const docLink = document.createElement('div');\n",
              "          docLink.innerHTML = docLinkHtml;\n",
              "          element.appendChild(docLink);\n",
              "        }\n",
              "      </script>\n",
              "    </div>\n",
              "  </div>\n",
              "  "
            ],
            "text/plain": [
              "             gender  acetohexamide   tolbutamide  troglitazone  \\\n",
              "count  98052.000000   98052.000000  98052.000000  98052.000000   \n",
              "mean       0.461174       0.000010      0.000224      0.000031   \n",
              "std        0.498493       0.003194      0.014977      0.005531   \n",
              "min        0.000000       0.000000      0.000000      0.000000   \n",
              "25%        0.000000       0.000000      0.000000      0.000000   \n",
              "50%        0.000000       0.000000      0.000000      0.000000   \n",
              "75%        1.000000       0.000000      0.000000      0.000000   \n",
              "max        1.000000       1.000000      1.000000      1.000000   \n",
              "\n",
              "       glipizide-metformin  glimepiride-pioglitazone  metformin-pioglitazone  \\\n",
              "count         98052.000000              98052.000000            98052.000000   \n",
              "mean              0.000133                  0.000010                0.000010   \n",
              "std               0.011514                  0.003194                0.003194   \n",
              "min               0.000000                  0.000000                0.000000   \n",
              "25%               0.000000                  0.000000                0.000000   \n",
              "50%               0.000000                  0.000000                0.000000   \n",
              "75%               0.000000                  0.000000                0.000000   \n",
              "max               1.000000                  1.000000                1.000000   \n",
              "\n",
              "             change   diabetesMed    readmitted  ...  admission_source_2  \\\n",
              "count  98052.000000  98052.000000  98052.000000  ...        98052.000000   \n",
              "mean       0.538225      0.231530      0.112858  ...            0.318984   \n",
              "std        0.498539      0.421813      0.316421  ...            0.466085   \n",
              "min        0.000000      0.000000      0.000000  ...            0.000000   \n",
              "25%        0.000000      0.000000      0.000000  ...            0.000000   \n",
              "50%        1.000000      0.000000      0.000000  ...            0.000000   \n",
              "75%        1.000000      0.000000      0.000000  ...            1.000000   \n",
              "max        1.000000      1.000000      1.000000  ...            1.000000   \n",
              "\n",
              "       admission_source_3  admission_source_4  medical_specialty_0  \\\n",
              "count        98052.000000        98052.000000         98052.000000   \n",
              "mean             0.061702            0.678915             0.000938   \n",
              "std              0.240615            0.466896             0.030617   \n",
              "min              0.000000            0.000000             0.000000   \n",
              "25%              0.000000            0.000000             0.000000   \n",
              "50%              0.000000            1.000000             0.000000   \n",
              "75%              0.000000            1.000000             0.000000   \n",
              "max              1.000000            1.000000             1.000000   \n",
              "\n",
              "       medical_specialty_1  medical_specialty_2  medical_specialty_3  \\\n",
              "count         98052.000000         98052.000000         98052.000000   \n",
              "mean              0.032014             0.044456             0.154041   \n",
              "std               0.176037             0.206107             0.360990   \n",
              "min               0.000000             0.000000             0.000000   \n",
              "25%               0.000000             0.000000             0.000000   \n",
              "50%               0.000000             0.000000             0.000000   \n",
              "75%               0.000000             0.000000             0.000000   \n",
              "max               1.000000             1.000000             1.000000   \n",
              "\n",
              "       medical_specialty_4  medical_specialty_5  medical_specialty_6  \n",
              "count         98052.000000         98052.000000         98052.000000  \n",
              "mean              0.225136             0.277802             0.671450  \n",
              "std               0.417674             0.447917             0.469688  \n",
              "min               0.000000             0.000000             0.000000  \n",
              "25%               0.000000             0.000000             0.000000  \n",
              "50%               0.000000             0.000000             1.000000  \n",
              "75%               0.000000             1.000000             1.000000  \n",
              "max               1.000000             1.000000             1.000000  \n",
              "\n",
              "[8 rows x 129 columns]"
            ]
          },
          "execution_count": 70,
          "metadata": {},
          "output_type": "execute_result"
        }
      ],
      "source": [
        "data_raw.describe()"
      ]
    },
    {
      "cell_type": "markdown",
      "id": "9adc59fd",
      "metadata": {
        "id": "9adc59fd"
      },
      "source": [
        "## Нормализация количественных признаков"
      ]
    },
    {
      "cell_type": "markdown",
      "id": "e5c32874",
      "metadata": {
        "id": "e5c32874"
      },
      "source": [
        "Проведем стандартизацию (линейное преобразование, приводящее все значения к нулевому среднему и единичному стандартному отклонению) всех признаков"
      ]
    },
    {
      "cell_type": "code",
      "execution_count": 71,
      "id": "d850ff22",
      "metadata": {
        "id": "d850ff22"
      },
      "outputs": [],
      "source": [
        "df_num = (df_num - df_num.mean(axis=0)) / df_num.std(axis=0)"
      ]
    },
    {
      "cell_type": "code",
      "execution_count": 72,
      "id": "ea1b9ed8",
      "metadata": {
        "colab": {
          "base_uri": "https://localhost:8080/",
          "height": 364
        },
        "id": "ea1b9ed8",
        "outputId": "462a6cd8-9950-4639-b01c-d2b4c946df6a"
      },
      "outputs": [
        {
          "data": {
            "text/html": [
              "\n",
              "  <div id=\"df-9f033ebb-0561-488f-a8d9-acf638ac8392\">\n",
              "    <div class=\"colab-df-container\">\n",
              "      <div>\n",
              "<style scoped>\n",
              "    .dataframe tbody tr th:only-of-type {\n",
              "        vertical-align: middle;\n",
              "    }\n",
              "\n",
              "    .dataframe tbody tr th {\n",
              "        vertical-align: top;\n",
              "    }\n",
              "\n",
              "    .dataframe thead th {\n",
              "        text-align: right;\n",
              "    }\n",
              "</style>\n",
              "<table border=\"1\" class=\"dataframe\">\n",
              "  <thead>\n",
              "    <tr style=\"text-align: right;\">\n",
              "      <th></th>\n",
              "      <th>age</th>\n",
              "      <th>time_in_hospital</th>\n",
              "      <th>num_lab_procedures</th>\n",
              "      <th>num_procedures</th>\n",
              "      <th>num_medications</th>\n",
              "      <th>number_outpatient</th>\n",
              "      <th>number_emergency</th>\n",
              "      <th>number_inpatient</th>\n",
              "      <th>number_diagnoses</th>\n",
              "    </tr>\n",
              "  </thead>\n",
              "  <tbody>\n",
              "    <tr>\n",
              "      <th>count</th>\n",
              "      <td>9.805200e+04</td>\n",
              "      <td>9.805200e+04</td>\n",
              "      <td>9.805200e+04</td>\n",
              "      <td>9.805200e+04</td>\n",
              "      <td>9.805200e+04</td>\n",
              "      <td>9.805200e+04</td>\n",
              "      <td>9.805200e+04</td>\n",
              "      <td>9.805200e+04</td>\n",
              "      <td>9.805200e+04</td>\n",
              "    </tr>\n",
              "    <tr>\n",
              "      <th>mean</th>\n",
              "      <td>4.058091e-17</td>\n",
              "      <td>2.087018e-17</td>\n",
              "      <td>-1.791357e-16</td>\n",
              "      <td>5.543642e-18</td>\n",
              "      <td>9.855364e-17</td>\n",
              "      <td>1.159455e-18</td>\n",
              "      <td>2.782691e-17</td>\n",
              "      <td>8.319086e-17</td>\n",
              "      <td>-1.669615e-16</td>\n",
              "    </tr>\n",
              "    <tr>\n",
              "      <th>std</th>\n",
              "      <td>1.000000e+00</td>\n",
              "      <td>1.000000e+00</td>\n",
              "      <td>1.000000e+00</td>\n",
              "      <td>1.000000e+00</td>\n",
              "      <td>1.000000e+00</td>\n",
              "      <td>1.000000e+00</td>\n",
              "      <td>1.000000e+00</td>\n",
              "      <td>1.000000e+00</td>\n",
              "      <td>1.000000e+00</td>\n",
              "    </tr>\n",
              "    <tr>\n",
              "      <th>min</th>\n",
              "      <td>-3.929255e+00</td>\n",
              "      <td>-1.143311e+00</td>\n",
              "      <td>-2.138240e+00</td>\n",
              "      <td>-7.905951e-01</td>\n",
              "      <td>-1.864660e+00</td>\n",
              "      <td>-2.932773e-01</td>\n",
              "      <td>-2.147255e-01</td>\n",
              "      <td>-5.089364e-01</td>\n",
              "      <td>-2.462300e+00</td>\n",
              "    </tr>\n",
              "    <tr>\n",
              "      <th>25%</th>\n",
              "      <td>-7.222366e-01</td>\n",
              "      <td>-8.092063e-01</td>\n",
              "      <td>-6.163054e-01</td>\n",
              "      <td>-7.905951e-01</td>\n",
              "      <td>-6.313859e-01</td>\n",
              "      <td>-2.932773e-01</td>\n",
              "      <td>-2.147255e-01</td>\n",
              "      <td>-5.089364e-01</td>\n",
              "      <td>-8.251672e-01</td>\n",
              "    </tr>\n",
              "    <tr>\n",
              "      <th>50%</th>\n",
              "      <td>-8.083288e-02</td>\n",
              "      <td>-1.409960e-01</td>\n",
              "      <td>4.319950e-02</td>\n",
              "      <td>-2.052777e-01</td>\n",
              "      <td>-1.380761e-01</td>\n",
              "      <td>-2.932773e-01</td>\n",
              "      <td>-2.147255e-01</td>\n",
              "      <td>-5.089364e-01</td>\n",
              "      <td>2.662548e-01</td>\n",
              "    </tr>\n",
              "    <tr>\n",
              "      <th>75%</th>\n",
              "      <td>5.605708e-01</td>\n",
              "      <td>5.272143e-01</td>\n",
              "      <td>7.027044e-01</td>\n",
              "      <td>3.800396e-01</td>\n",
              "      <td>4.785611e-01</td>\n",
              "      <td>-2.932773e-01</td>\n",
              "      <td>-2.147255e-01</td>\n",
              "      <td>2.778300e-01</td>\n",
              "      <td>8.119658e-01</td>\n",
              "    </tr>\n",
              "    <tr>\n",
              "      <th>max</th>\n",
              "      <td>1.843378e+00</td>\n",
              "      <td>3.200055e+00</td>\n",
              "      <td>4.507540e+00</td>\n",
              "      <td>2.721309e+00</td>\n",
              "      <td>8.001535e+00</td>\n",
              "      <td>3.243318e+01</td>\n",
              "      <td>8.038794e+01</td>\n",
              "      <td>1.601316e+01</td>\n",
              "      <td>4.631943e+00</td>\n",
              "    </tr>\n",
              "  </tbody>\n",
              "</table>\n",
              "</div>\n",
              "      <button class=\"colab-df-convert\" onclick=\"convertToInteractive('df-9f033ebb-0561-488f-a8d9-acf638ac8392')\"\n",
              "              title=\"Convert this dataframe to an interactive table.\"\n",
              "              style=\"display:none;\">\n",
              "        \n",
              "  <svg xmlns=\"http://www.w3.org/2000/svg\" height=\"24px\"viewBox=\"0 0 24 24\"\n",
              "       width=\"24px\">\n",
              "    <path d=\"M0 0h24v24H0V0z\" fill=\"none\"/>\n",
              "    <path d=\"M18.56 5.44l.94 2.06.94-2.06 2.06-.94-2.06-.94-.94-2.06-.94 2.06-2.06.94zm-11 1L8.5 8.5l.94-2.06 2.06-.94-2.06-.94L8.5 2.5l-.94 2.06-2.06.94zm10 10l.94 2.06.94-2.06 2.06-.94-2.06-.94-.94-2.06-.94 2.06-2.06.94z\"/><path d=\"M17.41 7.96l-1.37-1.37c-.4-.4-.92-.59-1.43-.59-.52 0-1.04.2-1.43.59L10.3 9.45l-7.72 7.72c-.78.78-.78 2.05 0 2.83L4 21.41c.39.39.9.59 1.41.59.51 0 1.02-.2 1.41-.59l7.78-7.78 2.81-2.81c.8-.78.8-2.07 0-2.86zM5.41 20L4 18.59l7.72-7.72 1.47 1.35L5.41 20z\"/>\n",
              "  </svg>\n",
              "      </button>\n",
              "      \n",
              "  <style>\n",
              "    .colab-df-container {\n",
              "      display:flex;\n",
              "      flex-wrap:wrap;\n",
              "      gap: 12px;\n",
              "    }\n",
              "\n",
              "    .colab-df-convert {\n",
              "      background-color: #E8F0FE;\n",
              "      border: none;\n",
              "      border-radius: 50%;\n",
              "      cursor: pointer;\n",
              "      display: none;\n",
              "      fill: #1967D2;\n",
              "      height: 32px;\n",
              "      padding: 0 0 0 0;\n",
              "      width: 32px;\n",
              "    }\n",
              "\n",
              "    .colab-df-convert:hover {\n",
              "      background-color: #E2EBFA;\n",
              "      box-shadow: 0px 1px 2px rgba(60, 64, 67, 0.3), 0px 1px 3px 1px rgba(60, 64, 67, 0.15);\n",
              "      fill: #174EA6;\n",
              "    }\n",
              "\n",
              "    [theme=dark] .colab-df-convert {\n",
              "      background-color: #3B4455;\n",
              "      fill: #D2E3FC;\n",
              "    }\n",
              "\n",
              "    [theme=dark] .colab-df-convert:hover {\n",
              "      background-color: #434B5C;\n",
              "      box-shadow: 0px 1px 3px 1px rgba(0, 0, 0, 0.15);\n",
              "      filter: drop-shadow(0px 1px 2px rgba(0, 0, 0, 0.3));\n",
              "      fill: #FFFFFF;\n",
              "    }\n",
              "  </style>\n",
              "\n",
              "      <script>\n",
              "        const buttonEl =\n",
              "          document.querySelector('#df-9f033ebb-0561-488f-a8d9-acf638ac8392 button.colab-df-convert');\n",
              "        buttonEl.style.display =\n",
              "          google.colab.kernel.accessAllowed ? 'block' : 'none';\n",
              "\n",
              "        async function convertToInteractive(key) {\n",
              "          const element = document.querySelector('#df-9f033ebb-0561-488f-a8d9-acf638ac8392');\n",
              "          const dataTable =\n",
              "            await google.colab.kernel.invokeFunction('convertToInteractive',\n",
              "                                                     [key], {});\n",
              "          if (!dataTable) return;\n",
              "\n",
              "          const docLinkHtml = 'Like what you see? Visit the ' +\n",
              "            '<a target=\"_blank\" href=https://colab.research.google.com/notebooks/data_table.ipynb>data table notebook</a>'\n",
              "            + ' to learn more about interactive tables.';\n",
              "          element.innerHTML = '';\n",
              "          dataTable['output_type'] = 'display_data';\n",
              "          await google.colab.output.renderOutput(dataTable, element);\n",
              "          const docLink = document.createElement('div');\n",
              "          docLink.innerHTML = docLinkHtml;\n",
              "          element.appendChild(docLink);\n",
              "        }\n",
              "      </script>\n",
              "    </div>\n",
              "  </div>\n",
              "  "
            ],
            "text/plain": [
              "                age  time_in_hospital  num_lab_procedures  num_procedures  \\\n",
              "count  9.805200e+04      9.805200e+04        9.805200e+04    9.805200e+04   \n",
              "mean   4.058091e-17      2.087018e-17       -1.791357e-16    5.543642e-18   \n",
              "std    1.000000e+00      1.000000e+00        1.000000e+00    1.000000e+00   \n",
              "min   -3.929255e+00     -1.143311e+00       -2.138240e+00   -7.905951e-01   \n",
              "25%   -7.222366e-01     -8.092063e-01       -6.163054e-01   -7.905951e-01   \n",
              "50%   -8.083288e-02     -1.409960e-01        4.319950e-02   -2.052777e-01   \n",
              "75%    5.605708e-01      5.272143e-01        7.027044e-01    3.800396e-01   \n",
              "max    1.843378e+00      3.200055e+00        4.507540e+00    2.721309e+00   \n",
              "\n",
              "       num_medications  number_outpatient  number_emergency  number_inpatient  \\\n",
              "count     9.805200e+04       9.805200e+04      9.805200e+04      9.805200e+04   \n",
              "mean      9.855364e-17       1.159455e-18      2.782691e-17      8.319086e-17   \n",
              "std       1.000000e+00       1.000000e+00      1.000000e+00      1.000000e+00   \n",
              "min      -1.864660e+00      -2.932773e-01     -2.147255e-01     -5.089364e-01   \n",
              "25%      -6.313859e-01      -2.932773e-01     -2.147255e-01     -5.089364e-01   \n",
              "50%      -1.380761e-01      -2.932773e-01     -2.147255e-01     -5.089364e-01   \n",
              "75%       4.785611e-01      -2.932773e-01     -2.147255e-01      2.778300e-01   \n",
              "max       8.001535e+00       3.243318e+01      8.038794e+01      1.601316e+01   \n",
              "\n",
              "       number_diagnoses  \n",
              "count      9.805200e+04  \n",
              "mean      -1.669615e-16  \n",
              "std        1.000000e+00  \n",
              "min       -2.462300e+00  \n",
              "25%       -8.251672e-01  \n",
              "50%        2.662548e-01  \n",
              "75%        8.119658e-01  \n",
              "max        4.631943e+00  "
            ]
          },
          "execution_count": 72,
          "metadata": {},
          "output_type": "execute_result"
        }
      ],
      "source": [
        "df_num.describe()"
      ]
    },
    {
      "cell_type": "markdown",
      "id": "547ddc34",
      "metadata": {
        "id": "547ddc34"
      },
      "source": [
        "Теперь объединим стандартизованные количественные признаки с уже обработанными категориальными признаками"
      ]
    },
    {
      "cell_type": "code",
      "execution_count": 73,
      "id": "f260afc0",
      "metadata": {
        "id": "f260afc0"
      },
      "outputs": [],
      "source": [
        "data_raw = pd.concat([df_num, data_raw], axis=1)"
      ]
    },
    {
      "cell_type": "code",
      "execution_count": 74,
      "id": "c7d3fd12",
      "metadata": {
        "colab": {
          "base_uri": "https://localhost:8080/",
          "height": 394
        },
        "id": "c7d3fd12",
        "outputId": "8a23b3e6-ca17-46bb-a695-2f74e4b352a4"
      },
      "outputs": [
        {
          "data": {
            "text/html": [
              "\n",
              "  <div id=\"df-33c938b3-6e9d-41eb-9bbb-87ae5ec5ab81\">\n",
              "    <div class=\"colab-df-container\">\n",
              "      <div>\n",
              "<style scoped>\n",
              "    .dataframe tbody tr th:only-of-type {\n",
              "        vertical-align: middle;\n",
              "    }\n",
              "\n",
              "    .dataframe tbody tr th {\n",
              "        vertical-align: top;\n",
              "    }\n",
              "\n",
              "    .dataframe thead th {\n",
              "        text-align: right;\n",
              "    }\n",
              "</style>\n",
              "<table border=\"1\" class=\"dataframe\">\n",
              "  <thead>\n",
              "    <tr style=\"text-align: right;\">\n",
              "      <th></th>\n",
              "      <th>age</th>\n",
              "      <th>time_in_hospital</th>\n",
              "      <th>num_lab_procedures</th>\n",
              "      <th>num_procedures</th>\n",
              "      <th>num_medications</th>\n",
              "      <th>number_outpatient</th>\n",
              "      <th>number_emergency</th>\n",
              "      <th>number_inpatient</th>\n",
              "      <th>number_diagnoses</th>\n",
              "      <th>gender</th>\n",
              "      <th>...</th>\n",
              "      <th>admission_source_2</th>\n",
              "      <th>admission_source_3</th>\n",
              "      <th>admission_source_4</th>\n",
              "      <th>medical_specialty_0</th>\n",
              "      <th>medical_specialty_1</th>\n",
              "      <th>medical_specialty_2</th>\n",
              "      <th>medical_specialty_3</th>\n",
              "      <th>medical_specialty_4</th>\n",
              "      <th>medical_specialty_5</th>\n",
              "      <th>medical_specialty_6</th>\n",
              "    </tr>\n",
              "  </thead>\n",
              "  <tbody>\n",
              "    <tr>\n",
              "      <th>count</th>\n",
              "      <td>9.805200e+04</td>\n",
              "      <td>9.805200e+04</td>\n",
              "      <td>9.805200e+04</td>\n",
              "      <td>9.805200e+04</td>\n",
              "      <td>9.805200e+04</td>\n",
              "      <td>9.805200e+04</td>\n",
              "      <td>9.805200e+04</td>\n",
              "      <td>9.805200e+04</td>\n",
              "      <td>9.805200e+04</td>\n",
              "      <td>98052.000000</td>\n",
              "      <td>...</td>\n",
              "      <td>98052.000000</td>\n",
              "      <td>98052.000000</td>\n",
              "      <td>98052.000000</td>\n",
              "      <td>98052.000000</td>\n",
              "      <td>98052.000000</td>\n",
              "      <td>98052.000000</td>\n",
              "      <td>98052.000000</td>\n",
              "      <td>98052.000000</td>\n",
              "      <td>98052.000000</td>\n",
              "      <td>98052.000000</td>\n",
              "    </tr>\n",
              "    <tr>\n",
              "      <th>mean</th>\n",
              "      <td>4.058091e-17</td>\n",
              "      <td>2.087018e-17</td>\n",
              "      <td>-1.791357e-16</td>\n",
              "      <td>5.543642e-18</td>\n",
              "      <td>9.855364e-17</td>\n",
              "      <td>1.159455e-18</td>\n",
              "      <td>2.782691e-17</td>\n",
              "      <td>8.319086e-17</td>\n",
              "      <td>-1.669615e-16</td>\n",
              "      <td>0.461174</td>\n",
              "      <td>...</td>\n",
              "      <td>0.318984</td>\n",
              "      <td>0.061702</td>\n",
              "      <td>0.678915</td>\n",
              "      <td>0.000938</td>\n",
              "      <td>0.032014</td>\n",
              "      <td>0.044456</td>\n",
              "      <td>0.154041</td>\n",
              "      <td>0.225136</td>\n",
              "      <td>0.277802</td>\n",
              "      <td>0.671450</td>\n",
              "    </tr>\n",
              "    <tr>\n",
              "      <th>std</th>\n",
              "      <td>1.000000e+00</td>\n",
              "      <td>1.000000e+00</td>\n",
              "      <td>1.000000e+00</td>\n",
              "      <td>1.000000e+00</td>\n",
              "      <td>1.000000e+00</td>\n",
              "      <td>1.000000e+00</td>\n",
              "      <td>1.000000e+00</td>\n",
              "      <td>1.000000e+00</td>\n",
              "      <td>1.000000e+00</td>\n",
              "      <td>0.498493</td>\n",
              "      <td>...</td>\n",
              "      <td>0.466085</td>\n",
              "      <td>0.240615</td>\n",
              "      <td>0.466896</td>\n",
              "      <td>0.030617</td>\n",
              "      <td>0.176037</td>\n",
              "      <td>0.206107</td>\n",
              "      <td>0.360990</td>\n",
              "      <td>0.417674</td>\n",
              "      <td>0.447917</td>\n",
              "      <td>0.469688</td>\n",
              "    </tr>\n",
              "    <tr>\n",
              "      <th>min</th>\n",
              "      <td>-3.929255e+00</td>\n",
              "      <td>-1.143311e+00</td>\n",
              "      <td>-2.138240e+00</td>\n",
              "      <td>-7.905951e-01</td>\n",
              "      <td>-1.864660e+00</td>\n",
              "      <td>-2.932773e-01</td>\n",
              "      <td>-2.147255e-01</td>\n",
              "      <td>-5.089364e-01</td>\n",
              "      <td>-2.462300e+00</td>\n",
              "      <td>0.000000</td>\n",
              "      <td>...</td>\n",
              "      <td>0.000000</td>\n",
              "      <td>0.000000</td>\n",
              "      <td>0.000000</td>\n",
              "      <td>0.000000</td>\n",
              "      <td>0.000000</td>\n",
              "      <td>0.000000</td>\n",
              "      <td>0.000000</td>\n",
              "      <td>0.000000</td>\n",
              "      <td>0.000000</td>\n",
              "      <td>0.000000</td>\n",
              "    </tr>\n",
              "    <tr>\n",
              "      <th>25%</th>\n",
              "      <td>-7.222366e-01</td>\n",
              "      <td>-8.092063e-01</td>\n",
              "      <td>-6.163054e-01</td>\n",
              "      <td>-7.905951e-01</td>\n",
              "      <td>-6.313859e-01</td>\n",
              "      <td>-2.932773e-01</td>\n",
              "      <td>-2.147255e-01</td>\n",
              "      <td>-5.089364e-01</td>\n",
              "      <td>-8.251672e-01</td>\n",
              "      <td>0.000000</td>\n",
              "      <td>...</td>\n",
              "      <td>0.000000</td>\n",
              "      <td>0.000000</td>\n",
              "      <td>0.000000</td>\n",
              "      <td>0.000000</td>\n",
              "      <td>0.000000</td>\n",
              "      <td>0.000000</td>\n",
              "      <td>0.000000</td>\n",
              "      <td>0.000000</td>\n",
              "      <td>0.000000</td>\n",
              "      <td>0.000000</td>\n",
              "    </tr>\n",
              "    <tr>\n",
              "      <th>50%</th>\n",
              "      <td>-8.083288e-02</td>\n",
              "      <td>-1.409960e-01</td>\n",
              "      <td>4.319950e-02</td>\n",
              "      <td>-2.052777e-01</td>\n",
              "      <td>-1.380761e-01</td>\n",
              "      <td>-2.932773e-01</td>\n",
              "      <td>-2.147255e-01</td>\n",
              "      <td>-5.089364e-01</td>\n",
              "      <td>2.662548e-01</td>\n",
              "      <td>0.000000</td>\n",
              "      <td>...</td>\n",
              "      <td>0.000000</td>\n",
              "      <td>0.000000</td>\n",
              "      <td>1.000000</td>\n",
              "      <td>0.000000</td>\n",
              "      <td>0.000000</td>\n",
              "      <td>0.000000</td>\n",
              "      <td>0.000000</td>\n",
              "      <td>0.000000</td>\n",
              "      <td>0.000000</td>\n",
              "      <td>1.000000</td>\n",
              "    </tr>\n",
              "    <tr>\n",
              "      <th>75%</th>\n",
              "      <td>5.605708e-01</td>\n",
              "      <td>5.272143e-01</td>\n",
              "      <td>7.027044e-01</td>\n",
              "      <td>3.800396e-01</td>\n",
              "      <td>4.785611e-01</td>\n",
              "      <td>-2.932773e-01</td>\n",
              "      <td>-2.147255e-01</td>\n",
              "      <td>2.778300e-01</td>\n",
              "      <td>8.119658e-01</td>\n",
              "      <td>1.000000</td>\n",
              "      <td>...</td>\n",
              "      <td>1.000000</td>\n",
              "      <td>0.000000</td>\n",
              "      <td>1.000000</td>\n",
              "      <td>0.000000</td>\n",
              "      <td>0.000000</td>\n",
              "      <td>0.000000</td>\n",
              "      <td>0.000000</td>\n",
              "      <td>0.000000</td>\n",
              "      <td>1.000000</td>\n",
              "      <td>1.000000</td>\n",
              "    </tr>\n",
              "    <tr>\n",
              "      <th>max</th>\n",
              "      <td>1.843378e+00</td>\n",
              "      <td>3.200055e+00</td>\n",
              "      <td>4.507540e+00</td>\n",
              "      <td>2.721309e+00</td>\n",
              "      <td>8.001535e+00</td>\n",
              "      <td>3.243318e+01</td>\n",
              "      <td>8.038794e+01</td>\n",
              "      <td>1.601316e+01</td>\n",
              "      <td>4.631943e+00</td>\n",
              "      <td>1.000000</td>\n",
              "      <td>...</td>\n",
              "      <td>1.000000</td>\n",
              "      <td>1.000000</td>\n",
              "      <td>1.000000</td>\n",
              "      <td>1.000000</td>\n",
              "      <td>1.000000</td>\n",
              "      <td>1.000000</td>\n",
              "      <td>1.000000</td>\n",
              "      <td>1.000000</td>\n",
              "      <td>1.000000</td>\n",
              "      <td>1.000000</td>\n",
              "    </tr>\n",
              "  </tbody>\n",
              "</table>\n",
              "<p>8 rows × 138 columns</p>\n",
              "</div>\n",
              "      <button class=\"colab-df-convert\" onclick=\"convertToInteractive('df-33c938b3-6e9d-41eb-9bbb-87ae5ec5ab81')\"\n",
              "              title=\"Convert this dataframe to an interactive table.\"\n",
              "              style=\"display:none;\">\n",
              "        \n",
              "  <svg xmlns=\"http://www.w3.org/2000/svg\" height=\"24px\"viewBox=\"0 0 24 24\"\n",
              "       width=\"24px\">\n",
              "    <path d=\"M0 0h24v24H0V0z\" fill=\"none\"/>\n",
              "    <path d=\"M18.56 5.44l.94 2.06.94-2.06 2.06-.94-2.06-.94-.94-2.06-.94 2.06-2.06.94zm-11 1L8.5 8.5l.94-2.06 2.06-.94-2.06-.94L8.5 2.5l-.94 2.06-2.06.94zm10 10l.94 2.06.94-2.06 2.06-.94-2.06-.94-.94-2.06-.94 2.06-2.06.94z\"/><path d=\"M17.41 7.96l-1.37-1.37c-.4-.4-.92-.59-1.43-.59-.52 0-1.04.2-1.43.59L10.3 9.45l-7.72 7.72c-.78.78-.78 2.05 0 2.83L4 21.41c.39.39.9.59 1.41.59.51 0 1.02-.2 1.41-.59l7.78-7.78 2.81-2.81c.8-.78.8-2.07 0-2.86zM5.41 20L4 18.59l7.72-7.72 1.47 1.35L5.41 20z\"/>\n",
              "  </svg>\n",
              "      </button>\n",
              "      \n",
              "  <style>\n",
              "    .colab-df-container {\n",
              "      display:flex;\n",
              "      flex-wrap:wrap;\n",
              "      gap: 12px;\n",
              "    }\n",
              "\n",
              "    .colab-df-convert {\n",
              "      background-color: #E8F0FE;\n",
              "      border: none;\n",
              "      border-radius: 50%;\n",
              "      cursor: pointer;\n",
              "      display: none;\n",
              "      fill: #1967D2;\n",
              "      height: 32px;\n",
              "      padding: 0 0 0 0;\n",
              "      width: 32px;\n",
              "    }\n",
              "\n",
              "    .colab-df-convert:hover {\n",
              "      background-color: #E2EBFA;\n",
              "      box-shadow: 0px 1px 2px rgba(60, 64, 67, 0.3), 0px 1px 3px 1px rgba(60, 64, 67, 0.15);\n",
              "      fill: #174EA6;\n",
              "    }\n",
              "\n",
              "    [theme=dark] .colab-df-convert {\n",
              "      background-color: #3B4455;\n",
              "      fill: #D2E3FC;\n",
              "    }\n",
              "\n",
              "    [theme=dark] .colab-df-convert:hover {\n",
              "      background-color: #434B5C;\n",
              "      box-shadow: 0px 1px 3px 1px rgba(0, 0, 0, 0.15);\n",
              "      filter: drop-shadow(0px 1px 2px rgba(0, 0, 0, 0.3));\n",
              "      fill: #FFFFFF;\n",
              "    }\n",
              "  </style>\n",
              "\n",
              "      <script>\n",
              "        const buttonEl =\n",
              "          document.querySelector('#df-33c938b3-6e9d-41eb-9bbb-87ae5ec5ab81 button.colab-df-convert');\n",
              "        buttonEl.style.display =\n",
              "          google.colab.kernel.accessAllowed ? 'block' : 'none';\n",
              "\n",
              "        async function convertToInteractive(key) {\n",
              "          const element = document.querySelector('#df-33c938b3-6e9d-41eb-9bbb-87ae5ec5ab81');\n",
              "          const dataTable =\n",
              "            await google.colab.kernel.invokeFunction('convertToInteractive',\n",
              "                                                     [key], {});\n",
              "          if (!dataTable) return;\n",
              "\n",
              "          const docLinkHtml = 'Like what you see? Visit the ' +\n",
              "            '<a target=\"_blank\" href=https://colab.research.google.com/notebooks/data_table.ipynb>data table notebook</a>'\n",
              "            + ' to learn more about interactive tables.';\n",
              "          element.innerHTML = '';\n",
              "          dataTable['output_type'] = 'display_data';\n",
              "          await google.colab.output.renderOutput(dataTable, element);\n",
              "          const docLink = document.createElement('div');\n",
              "          docLink.innerHTML = docLinkHtml;\n",
              "          element.appendChild(docLink);\n",
              "        }\n",
              "      </script>\n",
              "    </div>\n",
              "  </div>\n",
              "  "
            ],
            "text/plain": [
              "                age  time_in_hospital  num_lab_procedures  num_procedures  \\\n",
              "count  9.805200e+04      9.805200e+04        9.805200e+04    9.805200e+04   \n",
              "mean   4.058091e-17      2.087018e-17       -1.791357e-16    5.543642e-18   \n",
              "std    1.000000e+00      1.000000e+00        1.000000e+00    1.000000e+00   \n",
              "min   -3.929255e+00     -1.143311e+00       -2.138240e+00   -7.905951e-01   \n",
              "25%   -7.222366e-01     -8.092063e-01       -6.163054e-01   -7.905951e-01   \n",
              "50%   -8.083288e-02     -1.409960e-01        4.319950e-02   -2.052777e-01   \n",
              "75%    5.605708e-01      5.272143e-01        7.027044e-01    3.800396e-01   \n",
              "max    1.843378e+00      3.200055e+00        4.507540e+00    2.721309e+00   \n",
              "\n",
              "       num_medications  number_outpatient  number_emergency  number_inpatient  \\\n",
              "count     9.805200e+04       9.805200e+04      9.805200e+04      9.805200e+04   \n",
              "mean      9.855364e-17       1.159455e-18      2.782691e-17      8.319086e-17   \n",
              "std       1.000000e+00       1.000000e+00      1.000000e+00      1.000000e+00   \n",
              "min      -1.864660e+00      -2.932773e-01     -2.147255e-01     -5.089364e-01   \n",
              "25%      -6.313859e-01      -2.932773e-01     -2.147255e-01     -5.089364e-01   \n",
              "50%      -1.380761e-01      -2.932773e-01     -2.147255e-01     -5.089364e-01   \n",
              "75%       4.785611e-01      -2.932773e-01     -2.147255e-01      2.778300e-01   \n",
              "max       8.001535e+00       3.243318e+01      8.038794e+01      1.601316e+01   \n",
              "\n",
              "       number_diagnoses        gender  ...  admission_source_2  \\\n",
              "count      9.805200e+04  98052.000000  ...        98052.000000   \n",
              "mean      -1.669615e-16      0.461174  ...            0.318984   \n",
              "std        1.000000e+00      0.498493  ...            0.466085   \n",
              "min       -2.462300e+00      0.000000  ...            0.000000   \n",
              "25%       -8.251672e-01      0.000000  ...            0.000000   \n",
              "50%        2.662548e-01      0.000000  ...            0.000000   \n",
              "75%        8.119658e-01      1.000000  ...            1.000000   \n",
              "max        4.631943e+00      1.000000  ...            1.000000   \n",
              "\n",
              "       admission_source_3  admission_source_4  medical_specialty_0  \\\n",
              "count        98052.000000        98052.000000         98052.000000   \n",
              "mean             0.061702            0.678915             0.000938   \n",
              "std              0.240615            0.466896             0.030617   \n",
              "min              0.000000            0.000000             0.000000   \n",
              "25%              0.000000            0.000000             0.000000   \n",
              "50%              0.000000            1.000000             0.000000   \n",
              "75%              0.000000            1.000000             0.000000   \n",
              "max              1.000000            1.000000             1.000000   \n",
              "\n",
              "       medical_specialty_1  medical_specialty_2  medical_specialty_3  \\\n",
              "count         98052.000000         98052.000000         98052.000000   \n",
              "mean              0.032014             0.044456             0.154041   \n",
              "std               0.176037             0.206107             0.360990   \n",
              "min               0.000000             0.000000             0.000000   \n",
              "25%               0.000000             0.000000             0.000000   \n",
              "50%               0.000000             0.000000             0.000000   \n",
              "75%               0.000000             0.000000             0.000000   \n",
              "max               1.000000             1.000000             1.000000   \n",
              "\n",
              "       medical_specialty_4  medical_specialty_5  medical_specialty_6  \n",
              "count         98052.000000         98052.000000         98052.000000  \n",
              "mean              0.225136             0.277802             0.671450  \n",
              "std               0.417674             0.447917             0.469688  \n",
              "min               0.000000             0.000000             0.000000  \n",
              "25%               0.000000             0.000000             0.000000  \n",
              "50%               0.000000             0.000000             1.000000  \n",
              "75%               0.000000             1.000000             1.000000  \n",
              "max               1.000000             1.000000             1.000000  \n",
              "\n",
              "[8 rows x 138 columns]"
            ]
          },
          "execution_count": 74,
          "metadata": {},
          "output_type": "execute_result"
        }
      ],
      "source": [
        "data_raw.describe()"
      ]
    },
    {
      "cell_type": "markdown",
      "id": "f9feddd5",
      "metadata": {
        "id": "f9feddd5"
      },
      "source": [
        "## Отбор признаков"
      ]
    },
    {
      "cell_type": "markdown",
      "id": "3c50b9e4",
      "metadata": {
        "id": "3c50b9e4"
      },
      "source": [
        "В качестве целевого признака выберем признак _readmitted_"
      ]
    },
    {
      "cell_type": "code",
      "execution_count": 75,
      "id": "d418de66",
      "metadata": {
        "id": "d418de66"
      },
      "outputs": [],
      "source": [
        "X = data_raw.drop(['readmitted'], axis=1)\n",
        "y = data_raw['readmitted']"
      ]
    },
    {
      "cell_type": "markdown",
      "id": "eeee9636",
      "metadata": {
        "id": "eeee9636"
      },
      "source": [
        "Разобьем данные на обучающую и тестовую выборки в пропорции 3:1 (75% - обучающая выборка, 25% - тестовая):"
      ]
    },
    {
      "cell_type": "code",
      "execution_count": 76,
      "id": "d46aa201",
      "metadata": {
        "colab": {
          "base_uri": "https://localhost:8080/"
        },
        "id": "d46aa201",
        "outputId": "cc5dd324-7367-4f54-817a-2b705df1d107"
      },
      "outputs": [
        {
          "data": {
            "text/plain": [
              "((73539, 137), (24513, 137))"
            ]
          },
          "execution_count": 76,
          "metadata": {},
          "output_type": "execute_result"
        }
      ],
      "source": [
        "from sklearn.model_selection import train_test_split\n",
        "X_train, X_test, y_train, y_test = train_test_split(X, y, test_size = 0.25, random_state = 58)\n",
        "\n",
        "X_train.shape, X_test.shape"
      ]
    },
    {
      "cell_type": "markdown",
      "id": "d6e1fe53",
      "metadata": {
        "id": "d6e1fe53"
      },
      "source": [
        "## Обучение классификаторов"
      ]
    },
    {
      "cell_type": "code",
      "execution_count": 90,
      "id": "bef698ce",
      "metadata": {
        "id": "bef698ce"
      },
      "outputs": [],
      "source": [
        "from sklearn.metrics import accuracy_score, plot_confusion_matrix"
      ]
    },
    {
      "cell_type": "markdown",
      "id": "884335f1",
      "metadata": {
        "id": "884335f1"
      },
      "source": [
        "### Метод kNN"
      ]
    },
    {
      "cell_type": "markdown",
      "id": "2e2c7039",
      "metadata": {
        "id": "2e2c7039"
      },
      "source": [
        "Обучаем _kNN_-классификатор по умолчанию (для ___k = 5___):"
      ]
    },
    {
      "cell_type": "code",
      "execution_count": 86,
      "id": "092d4b94",
      "metadata": {
        "colab": {
          "base_uri": "https://localhost:8080/"
        },
        "id": "092d4b94",
        "outputId": "eef0c3a6-4e8f-43fc-904f-575495f32f50"
      },
      "outputs": [
        {
          "data": {
            "text/plain": [
              "KNeighborsClassifier()"
            ]
          },
          "execution_count": 86,
          "metadata": {},
          "output_type": "execute_result"
        }
      ],
      "source": [
        "from sklearn.neighbors import KNeighborsClassifier\n",
        "\n",
        "knn_model = KNeighborsClassifier()\n",
        "knn_model.fit(X_train, y_train)"
      ]
    },
    {
      "cell_type": "markdown",
      "id": "fed61dae",
      "metadata": {
        "id": "fed61dae"
      },
      "source": [
        "Вычисляем ошибку на тренировочной выборке"
      ]
    },
    {
      "cell_type": "code",
      "execution_count": 87,
      "id": "f57b15f8",
      "metadata": {
        "colab": {
          "base_uri": "https://localhost:8080/"
        },
        "id": "f57b15f8",
        "outputId": "5bc61ec4-7fd8-4b9f-a883-ddd2e946f465"
      },
      "outputs": [
        {
          "name": "stdout",
          "output_type": "stream",
          "text": [
            "Accuracy score on train data: 89.36%\n",
            "         Error on train data: 10.64%\n",
            "CPU times: user 3min 23s, sys: 6.74 s, total: 3min 30s\n",
            "Wall time: 2min 38s\n"
          ]
        }
      ],
      "source": [
        "%%time\n",
        "y_train_pred = knn_model.predict(X_train)\n",
        "print('Accuracy score on train data: {:.2f}%'.format(100 * accuracy_score(y_train, y_train_pred)))\n",
        "print('         Error on train data: {:.2f}%'.format(100 * (1 - accuracy_score(y_train, y_train_pred))))"
      ]
    },
    {
      "cell_type": "markdown",
      "id": "46afe61e",
      "metadata": {
        "id": "46afe61e"
      },
      "source": [
        "Вычисляем ошибку на тестовой выборке"
      ]
    },
    {
      "cell_type": "code",
      "execution_count": 88,
      "id": "8dc879d7",
      "metadata": {
        "colab": {
          "base_uri": "https://localhost:8080/"
        },
        "id": "8dc879d7",
        "outputId": "4d3d3db4-99fb-401c-9203-ef6d50571526"
      },
      "outputs": [
        {
          "name": "stdout",
          "output_type": "stream",
          "text": [
            "Accuracy score on test  data: 88.10%\n",
            "         Error on test  data: 11.90%\n",
            "CPU times: user 1min 8s, sys: 2.46 s, total: 1min 11s\n",
            "Wall time: 53.7 s\n"
          ]
        }
      ],
      "source": [
        "%%time\n",
        "y_test_pred = knn_model.predict(X_test)\n",
        "print('Accuracy score on test  data: {:.2f}%'.format(100 * accuracy_score(y_test,  y_test_pred)))\n",
        "print('         Error on test  data: {:.2f}%'.format(100 * np.mean(y_test != y_test_pred)))"
      ]
    },
    {
      "cell_type": "code",
      "execution_count": 91,
      "id": "9L7Kc0KLgPHq",
      "metadata": {
        "colab": {
          "base_uri": "https://localhost:8080/",
          "height": 351
        },
        "id": "9L7Kc0KLgPHq",
        "outputId": "326122ee-22cd-45f8-aaef-3e4f6b59a014"
      },
      "outputs": [
        {
          "name": "stderr",
          "output_type": "stream",
          "text": [
            "/usr/local/lib/python3.7/dist-packages/sklearn/utils/deprecation.py:87: FutureWarning: Function plot_confusion_matrix is deprecated; Function `plot_confusion_matrix` is deprecated in 1.0 and will be removed in 1.2. Use one of the class methods: ConfusionMatrixDisplay.from_predictions or ConfusionMatrixDisplay.from_estimator.\n",
            "  warnings.warn(msg, category=FutureWarning)\n"
          ]
        },
        {
          "data": {
            "text/plain": [
              "<sklearn.metrics._plot.confusion_matrix.ConfusionMatrixDisplay at 0x7fbb8d7325d0>"
            ]
          },
          "execution_count": 91,
          "metadata": {},
          "output_type": "execute_result"
        },
        {
          "data": {
            "image/png": "[encoded data removed]",
            "text/plain": [
              "<Figure size 432x288 with 2 Axes>"
            ]
          },
          "metadata": {
            "needs_background": "light"
          },
          "output_type": "display_data"
        }
      ],
      "source": [
        "plot_confusion_matrix(knn_model, X_test, y_test)"
      ]
    },
    {
      "cell_type": "markdown",
      "id": "hbET6Xh1gUMf",
      "metadata": {
        "id": "hbET6Xh1gUMf"
      },
      "source": [
        "Глядя на матрицу рассогласования, видно, что из-за несбалансированности классов, качество работы нашей обученной модели оставляет желать лучшего."
      ]
    },
    {
      "cell_type": "markdown",
      "id": "d708f987",
      "metadata": {
        "id": "d708f987"
      },
      "source": [
        "Обучим несколько _kNN_-классификаторов для разных значений _k_ от 5 до 50 с шагом 5, при этом будем собирать значения полученных ошибок, чтобы потом проанализировать результаты."
      ]
    },
    {
      "cell_type": "code",
      "execution_count": 83,
      "id": "981cad3d",
      "metadata": {
        "colab": {
          "base_uri": "https://localhost:8080/"
        },
        "id": "981cad3d",
        "outputId": "10394c05-4184-46b9-f41e-240f23b6d308"
      },
      "outputs": [
        {
          "name": "stdout",
          "output_type": "stream",
          "text": [
            "k = 5:\n",
            "    Accuracy score on train data: 89.36%\n",
            "             Error on train data: 10.64%\n",
            "    Accuracy score on test  data: 88.10%\n",
            "             Error on test  data: 11.90%\n",
            "k = 10:\n",
            "    Accuracy score on train data: 88.82%\n",
            "             Error on train data: 11.18%\n",
            "    Accuracy score on test  data: 88.89%\n",
            "             Error on test  data: 11.11%\n",
            "k = 15:\n",
            "    Accuracy score on train data: 88.77%\n",
            "             Error on train data: 11.23%\n",
            "    Accuracy score on test  data: 88.90%\n",
            "             Error on test  data: 11.10%\n",
            "k = 20:\n",
            "    Accuracy score on train data: 88.69%\n",
            "             Error on train data: 11.31%\n",
            "    Accuracy score on test  data: 89.00%\n",
            "             Error on test  data: 11.00%\n",
            "k = 25:\n",
            "    Accuracy score on train data: 88.69%\n",
            "             Error on train data: 11.31%\n",
            "    Accuracy score on test  data: 88.97%\n",
            "             Error on test  data: 11.03%\n",
            "k = 30:\n",
            "    Accuracy score on train data: 88.68%\n",
            "             Error on train data: 11.32%\n",
            "    Accuracy score on test  data: 88.97%\n",
            "             Error on test  data: 11.03%\n",
            "k = 35:\n",
            "    Accuracy score on train data: 88.67%\n",
            "             Error on train data: 11.33%\n",
            "    Accuracy score on test  data: 88.99%\n",
            "             Error on test  data: 11.01%\n",
            "k = 40:\n",
            "    Accuracy score on train data: 88.66%\n",
            "             Error on train data: 11.34%\n",
            "    Accuracy score on test  data: 88.98%\n",
            "             Error on test  data: 11.02%\n",
            "k = 45:\n",
            "    Accuracy score on train data: 88.67%\n",
            "             Error on train data: 11.33%\n",
            "    Accuracy score on test  data: 88.98%\n",
            "             Error on test  data: 11.02%\n",
            "k = 50:\n",
            "    Accuracy score on train data: 88.65%\n",
            "             Error on train data: 11.35%\n",
            "    Accuracy score on test  data: 88.95%\n",
            "             Error on test  data: 11.05%\n",
            "CPU times: user 46min 46s, sys: 1min 37s, total: 48min 24s\n",
            "Wall time: 37min 41s\n"
          ]
        }
      ],
      "source": [
        "%%time\n",
        "\n",
        "acc_train = []\n",
        "err_train = []\n",
        "acc_test = []\n",
        "err_test = []\n",
        "\n",
        "k_values = range(5, 51, 5)\n",
        "\n",
        "for k in k_values:\n",
        "    knn_model = KNeighborsClassifier(n_neighbors=k)\n",
        "    knn_model.fit(X_train, y_train)\n",
        "    print('k = {}:'.format(k))\n",
        "    \n",
        "    y_train_pred = knn_model.predict(X_train)\n",
        "    print('    Accuracy score on train data: {:.2f}%'.format(100 * accuracy_score(y_train, y_train_pred)))\n",
        "    print('             Error on train data: {:.2f}%'.format(100 * np.mean(y_train != y_train_pred)))\n",
        "    acc_train.append(accuracy_score(y_train, y_train_pred))\n",
        "    err_train.append(np.mean(y_train != y_train_pred))\n",
        "    \n",
        "    y_test_pred = knn_model.predict(X_test)\n",
        "    print('    Accuracy score on test  data: {:.2f}%'.format(100 * accuracy_score(y_test,  y_test_pred)))\n",
        "    print('             Error on test  data: {:.2f}%'.format(100 * np.mean(y_test != y_test_pred)))\n",
        "    acc_test.append(accuracy_score(y_test, y_test_pred))\n",
        "    err_test.append(np.mean(y_test != y_test_pred))"
      ]
    },
    {
      "cell_type": "markdown",
      "id": "d2b39c3c",
      "metadata": {
        "id": "d2b39c3c"
      },
      "source": [
        "Посмотрим на графики за значениями точности и ошибки на тренировочном и тестовом наборах при различных значениях k"
      ]
    },
    {
      "cell_type": "code",
      "execution_count": 84,
      "id": "04a22e35",
      "metadata": {
        "colab": {
          "base_uri": "https://localhost:8080/",
          "height": 353
        },
        "id": "04a22e35",
        "outputId": "0646aa13-6468-4177-8a19-171dff2a9c9a"
      },
      "outputs": [
        {
          "data": {
            "text/plain": [
              "<matplotlib.legend.Legend at 0x7fbb8d7e9f10>"
            ]
          },
          "execution_count": 84,
          "metadata": {},
          "output_type": "execute_result"
        },
        {
          "data": {
            "image/png": "[encoded data removed]",
            "text/plain": [
              "<Figure size 720x360 with 1 Axes>"
            ]
          },
          "metadata": {
            "needs_background": "light"
          },
          "output_type": "display_data"
        }
      ],
      "source": [
        "fig = plt.figure(figsize=(10, 5))\n",
        "\n",
        "plt.title('Accuracy')\n",
        "plt.scatter(list(k_values)[::-1], acc_train[::-1], color='orange', label='acc_train')\n",
        "plt.plot(list(k_values)[::-1], acc_train[::-1], color='orange', label='acc_train')\n",
        "\n",
        "plt.scatter(list(k_values)[::-1], acc_test[::-1], color='blue', label='acc_test')\n",
        "plt.plot(list(k_values)[::-1], acc_test[::-1], color='blue', label='acc_test')\n",
        "\n",
        "plt.grid()\n",
        "plt.legend()"
      ]
    },
    {
      "cell_type": "code",
      "execution_count": 85,
      "id": "aa0ed207",
      "metadata": {
        "colab": {
          "base_uri": "https://localhost:8080/",
          "height": 353
        },
        "id": "aa0ed207",
        "outputId": "26f2b235-a858-4706-9473-9267a5f4cc2d"
      },
      "outputs": [
        {
          "data": {
            "text/plain": [
              "<matplotlib.legend.Legend at 0x7fbb8d7b72d0>"
            ]
          },
          "execution_count": 85,
          "metadata": {},
          "output_type": "execute_result"
        },
        {
          "data": {
            "image/png": "[encoded data removed]",
            "text/plain": [
              "<Figure size 720x360 with 1 Axes>"
            ]
          },
          "metadata": {
            "needs_background": "light"
          },
          "output_type": "display_data"
        }
      ],
      "source": [
        "fig = plt.figure(figsize=(10, 5))\n",
        "\n",
        "plt.title('Error')\n",
        "plt.scatter(list(k_values)[::-1], err_train[::-1], color='orange', label='err_train')\n",
        "plt.plot(list(k_values)[::-1], err_train[::-1], color='orange', label='err_train')\n",
        "\n",
        "plt.scatter(list(k_values)[::-1], err_test[::-1], color='blue', label='err_test')\n",
        "plt.plot(list(k_values)[::-1], err_test[::-1], color='blue', label='err_test')\n",
        "\n",
        "plt.grid()\n",
        "plt.legend()"
      ]
    },
    {
      "cell_type": "markdown",
      "id": "72e252a0",
      "metadata": {
        "id": "72e252a0"
      },
      "source": [
        "Наилучшая точность получена при ___k = 20___, однако разница не столь велика. Точность держится на уровне 88-89%. Имеет смысл сравнить с другими типами классификаторов."
      ]
    },
    {
      "cell_type": "markdown",
      "id": "749c3697",
      "metadata": {
        "id": "749c3697"
      },
      "source": [
        "### Алгоритм Random Forest"
      ]
    },
    {
      "cell_type": "markdown",
      "id": "d84f69ee",
      "metadata": {
        "id": "d84f69ee"
      },
      "source": [
        "Обучим классификатор на основе алгоритма _Random Forest_"
      ]
    },
    {
      "cell_type": "code",
      "execution_count": 93,
      "id": "e4483e44",
      "metadata": {
        "colab": {
          "base_uri": "https://localhost:8080/"
        },
        "id": "e4483e44",
        "outputId": "9df60a2c-9b17-4985-fd37-940a32a3e7a1"
      },
      "outputs": [
        {
          "name": "stdout",
          "output_type": "stream",
          "text": [
            "CPU times: user 1min 40s, sys: 10.4 s, total: 1min 51s\n",
            "Wall time: 1min 53s\n"
          ]
        },
        {
          "data": {
            "text/plain": [
              "RandomForestClassifier(n_estimators=500)"
            ]
          },
          "execution_count": 93,
          "metadata": {},
          "output_type": "execute_result"
        }
      ],
      "source": [
        "%%time\n",
        "\n",
        "from sklearn.ensemble import RandomForestClassifier\n",
        "\n",
        "rf_model = RandomForestClassifier(n_estimators=500)\n",
        "rf_model.fit(X_train, y_train)"
      ]
    },
    {
      "cell_type": "markdown",
      "id": "039a035a",
      "metadata": {
        "id": "039a035a"
      },
      "source": [
        "Вычисляем ошибку на тренировочной выборке"
      ]
    },
    {
      "cell_type": "code",
      "execution_count": 94,
      "id": "54dbead6",
      "metadata": {
        "colab": {
          "base_uri": "https://localhost:8080/"
        },
        "id": "54dbead6",
        "outputId": "0892101b-c85a-4b2a-aa4c-ced5f358f902"
      },
      "outputs": [
        {
          "name": "stdout",
          "output_type": "stream",
          "text": [
            "Accuracy score on train data: 100.00%\n",
            "         Error on train data: 0.00%\n",
            "CPU times: user 19.1 s, sys: 4.76 s, total: 23.8 s\n",
            "Wall time: 23.8 s\n"
          ]
        }
      ],
      "source": [
        "%%time\n",
        "y_train_pred = rf_model.predict(X_train)\n",
        "print('Accuracy score on train data: {:.2f}%'.format(100 * accuracy_score(y_train, y_train_pred)))\n",
        "print('         Error on train data: {:.2f}%'.format(100 * np.mean(y_train != y_train_pred)))"
      ]
    },
    {
      "cell_type": "markdown",
      "id": "23959029",
      "metadata": {
        "id": "23959029"
      },
      "source": [
        "Вычисляем ошибку на тестовой выборке"
      ]
    },
    {
      "cell_type": "code",
      "execution_count": 95,
      "id": "7252d209",
      "metadata": {
        "colab": {
          "base_uri": "https://localhost:8080/"
        },
        "id": "7252d209",
        "outputId": "abea994b-968d-4739-dadf-54274e12145b"
      },
      "outputs": [
        {
          "name": "stdout",
          "output_type": "stream",
          "text": [
            "Accuracy score on test  data: 88.99%\n",
            "         Error on test  data: 11.01%\n",
            "CPU times: user 6.47 s, sys: 23.1 ms, total: 6.49 s\n",
            "Wall time: 7.01 s\n"
          ]
        }
      ],
      "source": [
        "%%time\n",
        "y_test_pred = rf_model.predict(X_test)\n",
        "print('Accuracy score on test  data: {:.2f}%'.format(100 * accuracy_score(y_test,  y_test_pred)))\n",
        "print('         Error on test  data: {:.2f}%'.format(100 * np.mean(y_test != y_test_pred)))"
      ]
    },
    {
      "cell_type": "code",
      "execution_count": 96,
      "id": "5xag7kuVgzUW",
      "metadata": {
        "colab": {
          "base_uri": "https://localhost:8080/",
          "height": 351
        },
        "id": "5xag7kuVgzUW",
        "outputId": "aa8b24a3-f50e-43db-8d7c-7ced9bc2ceeb"
      },
      "outputs": [
        {
          "name": "stderr",
          "output_type": "stream",
          "text": [
            "/usr/local/lib/python3.7/dist-packages/sklearn/utils/deprecation.py:87: FutureWarning: Function plot_confusion_matrix is deprecated; Function `plot_confusion_matrix` is deprecated in 1.0 and will be removed in 1.2. Use one of the class methods: ConfusionMatrixDisplay.from_predictions or ConfusionMatrixDisplay.from_estimator.\n",
            "  warnings.warn(msg, category=FutureWarning)\n"
          ]
        },
        {
          "data": {
            "text/plain": [
              "<sklearn.metrics._plot.confusion_matrix.ConfusionMatrixDisplay at 0x7fbb8d0bd5d0>"
            ]
          },
          "execution_count": 96,
          "metadata": {},
          "output_type": "execute_result"
        },
        {
          "data": {
            "image/png": "[encoded data removed]",
            "text/plain": [
              "<Figure size 432x288 with 2 Axes>"
            ]
          },
          "metadata": {
            "needs_background": "light"
          },
          "output_type": "display_data"
        }
      ],
      "source": [
        "plot_confusion_matrix(rf_model, X_test, y_test)"
      ]
    },
    {
      "cell_type": "markdown",
      "id": "0QcvYcLog0aO",
      "metadata": {
        "id": "0QcvYcLog0aO"
      },
      "source": [
        "Глядя на матрицу рассогласования, видно, что из-за несбалансированности классов, качество работы нашей обученной модели оставляет желать лучшего."
      ]
    },
    {
      "cell_type": "markdown",
      "id": "638752a7",
      "metadata": {
        "id": "638752a7"
      },
      "source": [
        "Использование алгоритма _Random Forest_ не улучшило результаты."
      ]
    },
    {
      "cell_type": "code",
      "execution_count": 106,
      "id": "a1d1ce84",
      "metadata": {
        "id": "a1d1ce84"
      },
      "outputs": [],
      "source": [
        "importances = pd.Series(rf_model.feature_importances_, index=X.columns).sort_values(ascending=False)"
      ]
    },
    {
      "cell_type": "code",
      "execution_count": 107,
      "id": "TrH4G5G2p2hs",
      "metadata": {
        "colab": {
          "base_uri": "https://localhost:8080/",
          "height": 1000
        },
        "id": "TrH4G5G2p2hs",
        "outputId": "79ccde6d-435c-4b57-cad3-41f605401b2f"
      },
      "outputs": [
        {
          "data": {
            "image/png": "[encoded data removed]",
            "text/plain": [
              "<Figure size 1440x1800 with 1 Axes>"
            ]
          },
          "metadata": {
            "needs_background": "light"
          },
          "output_type": "display_data"
        }
      ],
      "source": [
        "fig = plt.figure(figsize=(20, 25))\n",
        "sns.barplot(y=importances.index, x=importances, orient='h')\n",
        "pass"
      ]
    },
    {
      "cell_type": "markdown",
      "id": "006de962",
      "metadata": {
        "id": "006de962"
      },
      "source": [
        "### Алгоритм Logistic Regression"
      ]
    },
    {
      "cell_type": "markdown",
      "id": "d1bf4242",
      "metadata": {
        "id": "d1bf4242"
      },
      "source": [
        "Обучим классификатор на основе алгоритма _Logistic Regression_"
      ]
    },
    {
      "cell_type": "code",
      "execution_count": 98,
      "id": "2529e457",
      "metadata": {
        "colab": {
          "base_uri": "https://localhost:8080/"
        },
        "id": "2529e457",
        "outputId": "530e932e-3f40-4793-aa27-2c9686bfb7bc"
      },
      "outputs": [
        {
          "name": "stdout",
          "output_type": "stream",
          "text": [
            "CPU times: user 48.4 s, sys: 4.95 s, total: 53.4 s\n",
            "Wall time: 27.6 s\n"
          ]
        },
        {
          "data": {
            "text/plain": [
              "LogisticRegression(solver='newton-cg')"
            ]
          },
          "execution_count": 98,
          "metadata": {},
          "output_type": "execute_result"
        }
      ],
      "source": [
        "%%time\n",
        "\n",
        "from sklearn.linear_model import LogisticRegression\n",
        "\n",
        "lr_model = LogisticRegression(solver='newton-cg')\n",
        "lr_model.fit(X_train, y_train)"
      ]
    },
    {
      "cell_type": "markdown",
      "id": "53a35d0f",
      "metadata": {
        "id": "53a35d0f"
      },
      "source": [
        "Вычисляем ошибку на тренировочной выборке"
      ]
    },
    {
      "cell_type": "code",
      "execution_count": 99,
      "id": "a0bb48a4",
      "metadata": {
        "colab": {
          "base_uri": "https://localhost:8080/"
        },
        "id": "a0bb48a4",
        "outputId": "77501022-64f3-4c5c-8799-32f828e423fc"
      },
      "outputs": [
        {
          "name": "stdout",
          "output_type": "stream",
          "text": [
            "Accuracy score on train data: 88.62%\n",
            "         Error on train data: 11.38%\n"
          ]
        }
      ],
      "source": [
        "y_train_pred = lr_model.predict(X_train)\n",
        "print('Accuracy score on train data: {:.2f}%'.format(100 * accuracy_score(y_train, y_train_pred)))\n",
        "print('         Error on train data: {:.2f}%'.format(100 * np.mean(y_train != y_train_pred)))"
      ]
    },
    {
      "cell_type": "markdown",
      "id": "3ea0b2d6",
      "metadata": {
        "id": "3ea0b2d6"
      },
      "source": [
        "Вычисляем ошибку на тестовой выборке"
      ]
    },
    {
      "cell_type": "code",
      "execution_count": 100,
      "id": "599c52e0",
      "metadata": {
        "colab": {
          "base_uri": "https://localhost:8080/"
        },
        "id": "599c52e0",
        "outputId": "ce93469f-d5a1-4aca-dab0-8105cab09e65"
      },
      "outputs": [
        {
          "name": "stdout",
          "output_type": "stream",
          "text": [
            "Accuracy score on test  data: 88.90%\n",
            "         Error on test  data: 11.10%\n"
          ]
        }
      ],
      "source": [
        "y_test_pred = lr_model.predict(X_test)\n",
        "print('Accuracy score on test  data: {:.2f}%'.format(100 * accuracy_score(y_test,  y_test_pred)))\n",
        "print('         Error on test  data: {:.2f}%'.format(100 * np.mean(y_test != y_test_pred)))"
      ]
    },
    {
      "cell_type": "code",
      "execution_count": 101,
      "id": "TY0102byhTCm",
      "metadata": {
        "colab": {
          "base_uri": "https://localhost:8080/",
          "height": 351
        },
        "id": "TY0102byhTCm",
        "outputId": "a4d9fc1f-221f-47d1-b7a4-f12c74c867d9"
      },
      "outputs": [
        {
          "name": "stderr",
          "output_type": "stream",
          "text": [
            "/usr/local/lib/python3.7/dist-packages/sklearn/utils/deprecation.py:87: FutureWarning: Function plot_confusion_matrix is deprecated; Function `plot_confusion_matrix` is deprecated in 1.0 and will be removed in 1.2. Use one of the class methods: ConfusionMatrixDisplay.from_predictions or ConfusionMatrixDisplay.from_estimator.\n",
            "  warnings.warn(msg, category=FutureWarning)\n"
          ]
        },
        {
          "data": {
            "text/plain": [
              "<sklearn.metrics._plot.confusion_matrix.ConfusionMatrixDisplay at 0x7fbb8cff5090>"
            ]
          },
          "execution_count": 101,
          "metadata": {},
          "output_type": "execute_result"
        },
        {
          "data": {
            "image/png": "[encoded data removed]",
            "text/plain": [
              "<Figure size 432x288 with 2 Axes>"
            ]
          },
          "metadata": {
            "needs_background": "light"
          },
          "output_type": "display_data"
        }
      ],
      "source": [
        "plot_confusion_matrix(lr_model, X_test, y_test)"
      ]
    },
    {
      "cell_type": "markdown",
      "id": "8Bppbc10hU2X",
      "metadata": {
        "id": "8Bppbc10hU2X"
      },
      "source": [
        "Глядя на матрицу рассогласования, видно, что из-за несбалансированности классов, качество работы нашей обученной модели оставляет желать лучшего."
      ]
    },
    {
      "cell_type": "markdown",
      "id": "14bfa513",
      "metadata": {
        "id": "14bfa513"
      },
      "source": [
        "Использование алгоритма _Logistic Regression_ также не улучшило результаты."
      ]
    },
    {
      "cell_type": "markdown",
      "id": "274c9cd9",
      "metadata": {
        "id": "274c9cd9"
      },
      "source": [
        "### Алгоритм SGDClassifier"
      ]
    },
    {
      "cell_type": "markdown",
      "id": "638f0dfc",
      "metadata": {
        "id": "638f0dfc"
      },
      "source": [
        "Обучим классификатор на основе алгоритма _SGD_"
      ]
    },
    {
      "cell_type": "code",
      "execution_count": 102,
      "id": "808d3eea",
      "metadata": {
        "colab": {
          "base_uri": "https://localhost:8080/"
        },
        "id": "808d3eea",
        "outputId": "1b1abeb1-7d66-4909-d3cd-f544f6ce90e9"
      },
      "outputs": [
        {
          "name": "stdout",
          "output_type": "stream",
          "text": [
            "CPU times: user 2.05 s, sys: 22.5 ms, total: 2.07 s\n",
            "Wall time: 2.09 s\n"
          ]
        },
        {
          "data": {
            "text/plain": [
              "SGDClassifier(loss='log', random_state=58)"
            ]
          },
          "execution_count": 102,
          "metadata": {},
          "output_type": "execute_result"
        }
      ],
      "source": [
        "%%time\n",
        "\n",
        "from sklearn.linear_model import SGDClassifier\n",
        "\n",
        "sgd_model = SGDClassifier(loss='log', random_state=58)\n",
        "sgd_model.fit(X_train, y_train)"
      ]
    },
    {
      "cell_type": "markdown",
      "id": "ab49434c",
      "metadata": {
        "id": "ab49434c"
      },
      "source": [
        "Вычисляем ошибку на тренировочной выборке"
      ]
    },
    {
      "cell_type": "code",
      "execution_count": 103,
      "id": "e9b212dd",
      "metadata": {
        "colab": {
          "base_uri": "https://localhost:8080/"
        },
        "id": "e9b212dd",
        "outputId": "baa21235-395e-43a2-8025-25e3f7ea11df"
      },
      "outputs": [
        {
          "name": "stdout",
          "output_type": "stream",
          "text": [
            "Accuracy score on train data: 88.43%\n",
            "         Error on train data: 11.57%\n"
          ]
        }
      ],
      "source": [
        "y_train_pred = sgd_model.predict(X_train)\n",
        "print('Accuracy score on train data: {:.2f}%'.format(100 * accuracy_score(y_train, y_train_pred)))\n",
        "print('         Error on train data: {:.2f}%'.format(100 * np.mean(y_train != y_train_pred)))"
      ]
    },
    {
      "cell_type": "markdown",
      "id": "e6f68d64",
      "metadata": {
        "id": "e6f68d64"
      },
      "source": [
        "Вычисляем ошибку на тестовой выборке"
      ]
    },
    {
      "cell_type": "code",
      "execution_count": 104,
      "id": "d32606d7",
      "metadata": {
        "colab": {
          "base_uri": "https://localhost:8080/"
        },
        "id": "d32606d7",
        "outputId": "55add5bf-2bf8-4541-8f94-cb791a939aa4"
      },
      "outputs": [
        {
          "name": "stdout",
          "output_type": "stream",
          "text": [
            "Accuracy score on test  data: 88.49%\n",
            "         Error on test  data: 11.51%\n"
          ]
        }
      ],
      "source": [
        "y_test_pred = sgd_model.predict(X_test)\n",
        "print('Accuracy score on test  data: {:.2f}%'.format(100 * accuracy_score(y_test,  y_test_pred)))\n",
        "print('         Error on test  data: {:.2f}%'.format(100 * np.mean(y_test != y_test_pred)))"
      ]
    },
    {
      "cell_type": "code",
      "execution_count": 105,
      "id": "3YYVR2JqhZJN",
      "metadata": {
        "colab": {
          "base_uri": "https://localhost:8080/",
          "height": 351
        },
        "id": "3YYVR2JqhZJN",
        "outputId": "0d8b038b-40e6-4de3-c445-717478ea7442"
      },
      "outputs": [
        {
          "name": "stderr",
          "output_type": "stream",
          "text": [
            "/usr/local/lib/python3.7/dist-packages/sklearn/utils/deprecation.py:87: FutureWarning: Function plot_confusion_matrix is deprecated; Function `plot_confusion_matrix` is deprecated in 1.0 and will be removed in 1.2. Use one of the class methods: ConfusionMatrixDisplay.from_predictions or ConfusionMatrixDisplay.from_estimator.\n",
            "  warnings.warn(msg, category=FutureWarning)\n"
          ]
        },
        {
          "data": {
            "text/plain": [
              "<sklearn.metrics._plot.confusion_matrix.ConfusionMatrixDisplay at 0x7fbb8cf7fb90>"
            ]
          },
          "execution_count": 105,
          "metadata": {},
          "output_type": "execute_result"
        },
        {
          "data": {
            "image/png": "[encoded data removed]",
            "text/plain": [
              "<Figure size 432x288 with 2 Axes>"
            ]
          },
          "metadata": {
            "needs_background": "light"
          },
          "output_type": "display_data"
        }
      ],
      "source": [
        "plot_confusion_matrix(sgd_model, X_test, y_test)"
      ]
    },
    {
      "cell_type": "markdown",
      "id": "a-ngWGKWhbYm",
      "metadata": {
        "id": "a-ngWGKWhbYm"
      },
      "source": [
        "Глядя на матрицу рассогласования, видно, что из-за несбалансированности классов, качество работы нашей обученной модели оставляет желать лучшего."
      ]
    },
    {
      "cell_type": "markdown",
      "id": "e6a98a7b",
      "metadata": {
        "id": "e6a98a7b"
      },
      "source": [
        "Использование алгоритма _SGD_ также не улучшило результаты."
      ]
    },
    {
      "cell_type": "markdown",
      "id": "2323c5f5",
      "metadata": {
        "id": "2323c5f5"
      },
      "source": [
        "## Выводы"
      ]
    },
    {
      "cell_type": "markdown",
      "id": "03bbf307",
      "metadata": {
        "id": "03bbf307"
      },
      "source": [
        "* Лучшая точность, которой удалось добиться на тестовой выборке - 89% достигнута методом _kNN_ при _k = 20_.\n",
        "* Ни один из других предложенных алгоритмов не смог добиться лучшей точности. Но при этом все алгоритмы показывают приблизительно похожую точность предсказывания на тестовой выборке.\n",
        "* По матрицам рассогласования для обученных моделей можно сказать, что у всех из них довольно велико значение ошибки второго рода, что опасно. Возможно, получится улучшить результаты после борьбы с несбалансированностью классов.\n",
        "* Метод _kNN_ по времени работает сильно дольше остальных методов."
      ]
    }
  ],
  "metadata": {
    "colab": {
      "collapsed_sections": [
        "5f9b6970",
        "ef56ce0f",
        "fce00273",
        "973b97eb",
        "08657ede",
        "04a77cef"
      ],
      "provenance": [],
      "toc_visible": true
    },
    "kernelspec": {
      "display_name": "Python 3.9.12 ('base')",
      "language": "python",
      "name": "python3"
    },
    "language_info": {
      "codemirror_mode": {
        "name": "ipython",
        "version": 3
      },
      "file_extension": ".py",
      "mimetype": "text/x-python",
      "name": "python",
      "nbconvert_exporter": "python",
      "pygments_lexer": "ipython3",
      "version": "3.9.12"
    },
    "vscode": {
      "interpreter": {
        "hash": "bf6e68f63c5332c5a5c0afd729fba59b86b097c63a7331fcdf5575bcde342b88"
      }
    }
  },
  "nbformat": 4,
  "nbformat_minor": 5
}
